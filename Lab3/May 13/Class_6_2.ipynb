{
  "nbformat": 4,
  "nbformat_minor": 0,
  "metadata": {
    "kernelspec": {
      "display_name": "Python 3",
      "language": "python",
      "name": "python3"
    },
    "language_info": {
      "codemirror_mode": {
        "name": "ipython",
        "version": 3
      },
      "file_extension": ".py",
      "mimetype": "text/x-python",
      "name": "python",
      "nbconvert_exporter": "python",
      "pygments_lexer": "ipython3",
      "version": "3.8.3"
    },
    "colab": {
      "name": "Class 6-2.ipynb",
      "provenance": [],
      "collapsed_sections": [
        "BQmqjE_w2Q-f",
        "hvEl-YCa2Q-g",
        "HBTpF_Y82Q-h",
        "PF1eL2AC2Q-j",
        "RWWJ8gEd2Q-l",
        "GUFNc6ml2Q-m",
        "mYrv7EP82Q-o"
      ]
    },
    "accelerator": "GPU"
  },
  "cells": [
    {
      "cell_type": "markdown",
      "metadata": {
        "id": "7mukrJok2Q-U"
      },
      "source": [
        "# CS470 Introduction to Artificial Intelligence\n",
        "## Deep Learning Practice \n",
        "#### TA. Yechan Hwang\n",
        "---\n",
        "\n",
        "### Agenda for this practice\n",
        "#### 1. Weather dataset\n",
        "#### 2. Univariate model\n",
        "#### 3. Normalizing the data\n",
        "#### 4. Multivariate model\n",
        "#### 5. Multi-step model\n",
        "---\n",
        "<br/>\n",
        "<br/>\n",
        "<br/>"
      ]
    },
    {
      "cell_type": "code",
      "metadata": {
        "id": "P81kBMTh2mEk"
      },
      "source": [
        "import tensorflow as tf\n",
        "\n",
        "import matplotlib as mpl\n",
        "import matplotlib.pyplot as plt\n",
        "import numpy as np\n",
        "import os\n",
        "import pandas as pd\n",
        "\n",
        "mpl.rcParams['figure.figsize'] = (8, 6)\n",
        "mpl.rcParams['axes.grid'] = False"
      ],
      "execution_count": 1,
      "outputs": []
    },
    {
      "cell_type": "markdown",
      "metadata": {
        "id": "ZehDT6v52Q-W"
      },
      "source": [
        "## 6-2. Time series forecasting \n",
        "In this practice, we will use two approaches for time series forecasting.\n",
        "- First, we will forecast a **univariate** time series\n",
        "- Then we will forecast a **multivariate** time series."
      ]
    },
    {
      "cell_type": "markdown",
      "metadata": {
        "id": "-hDoWk-w2Q-X"
      },
      "source": [
        "#### The weather dataset\n",
        "This practice uses a [`weather time series dataset`](https://www.bgc-jena.mpg.de/wetter/) (recorded by the Max-Planck-Institute for Biogeochemistry).\n",
        "\n",
        "This dataset contains 14 different features such as air temperature, atmospheric pressure, and humidity. These were collected every 10 minutes, beginning in 2003. For efficiency, we will use only the data collected between 2009 and 2016. "
      ]
    },
    {
      "cell_type": "code",
      "metadata": {
        "id": "NxzGOP652Q-X",
        "outputId": "16b6562a-5052-4dd9-aa36-da8fc6c286ce",
        "colab": {
          "base_uri": "https://localhost:8080/"
        }
      },
      "source": [
        "zip_path = tf.keras.utils.get_file(\n",
        "    origin='https://storage.googleapis.com/tensorflow/tf-keras-datasets/jena_climate_2009_2016.csv.zip',\n",
        "    fname='jena_climate_2009_2016.csv.zip',\n",
        "    extract=True)\n",
        "csv_path, _ = os.path.splitext(zip_path)"
      ],
      "execution_count": 2,
      "outputs": [
        {
          "output_type": "stream",
          "text": [
            "Downloading data from https://storage.googleapis.com/tensorflow/tf-keras-datasets/jena_climate_2009_2016.csv.zip\n",
            "13574144/13568290 [==============================] - 0s 0us/step\n"
          ],
          "name": "stdout"
        }
      ]
    },
    {
      "cell_type": "markdown",
      "metadata": {
        "id": "v-4t0ZZH2Q-X"
      },
      "source": [
        "<br/>\n",
        "The data is in the form of CSV. If you are unfamiliar with handling the CSV data well in Tensorflow, check this tutorial:\n",
        "\n",
        "[link](https://www.tensorflow.org/tutorials/load_data/pandas_dataframe)"
      ]
    },
    {
      "cell_type": "code",
      "metadata": {
        "id": "iMLZQ5Oc2Q-Y"
      },
      "source": [
        "df = pd.read_csv(csv_path)"
      ],
      "execution_count": 3,
      "outputs": []
    },
    {
      "cell_type": "markdown",
      "metadata": {
        "id": "HB3hD3DQ2Q-Y"
      },
      "source": [
        "Let's take a glance at the data."
      ]
    },
    {
      "cell_type": "code",
      "metadata": {
        "id": "uwjL53Bl2Q-Y",
        "outputId": "1d66cbb4-cd7e-49d4-e59e-087bee69f8cf",
        "colab": {
          "base_uri": "https://localhost:8080/",
          "height": 296
        }
      },
      "source": [
        "df.head()"
      ],
      "execution_count": 4,
      "outputs": [
        {
          "output_type": "execute_result",
          "data": {
            "text/html": [
              "<div>\n",
              "<style scoped>\n",
              "    .dataframe tbody tr th:only-of-type {\n",
              "        vertical-align: middle;\n",
              "    }\n",
              "\n",
              "    .dataframe tbody tr th {\n",
              "        vertical-align: top;\n",
              "    }\n",
              "\n",
              "    .dataframe thead th {\n",
              "        text-align: right;\n",
              "    }\n",
              "</style>\n",
              "<table border=\"1\" class=\"dataframe\">\n",
              "  <thead>\n",
              "    <tr style=\"text-align: right;\">\n",
              "      <th></th>\n",
              "      <th>Date Time</th>\n",
              "      <th>p (mbar)</th>\n",
              "      <th>T (degC)</th>\n",
              "      <th>Tpot (K)</th>\n",
              "      <th>Tdew (degC)</th>\n",
              "      <th>rh (%)</th>\n",
              "      <th>VPmax (mbar)</th>\n",
              "      <th>VPact (mbar)</th>\n",
              "      <th>VPdef (mbar)</th>\n",
              "      <th>sh (g/kg)</th>\n",
              "      <th>H2OC (mmol/mol)</th>\n",
              "      <th>rho (g/m**3)</th>\n",
              "      <th>wv (m/s)</th>\n",
              "      <th>max. wv (m/s)</th>\n",
              "      <th>wd (deg)</th>\n",
              "    </tr>\n",
              "  </thead>\n",
              "  <tbody>\n",
              "    <tr>\n",
              "      <th>0</th>\n",
              "      <td>01.01.2009 00:10:00</td>\n",
              "      <td>996.52</td>\n",
              "      <td>-8.02</td>\n",
              "      <td>265.40</td>\n",
              "      <td>-8.90</td>\n",
              "      <td>93.3</td>\n",
              "      <td>3.33</td>\n",
              "      <td>3.11</td>\n",
              "      <td>0.22</td>\n",
              "      <td>1.94</td>\n",
              "      <td>3.12</td>\n",
              "      <td>1307.75</td>\n",
              "      <td>1.03</td>\n",
              "      <td>1.75</td>\n",
              "      <td>152.3</td>\n",
              "    </tr>\n",
              "    <tr>\n",
              "      <th>1</th>\n",
              "      <td>01.01.2009 00:20:00</td>\n",
              "      <td>996.57</td>\n",
              "      <td>-8.41</td>\n",
              "      <td>265.01</td>\n",
              "      <td>-9.28</td>\n",
              "      <td>93.4</td>\n",
              "      <td>3.23</td>\n",
              "      <td>3.02</td>\n",
              "      <td>0.21</td>\n",
              "      <td>1.89</td>\n",
              "      <td>3.03</td>\n",
              "      <td>1309.80</td>\n",
              "      <td>0.72</td>\n",
              "      <td>1.50</td>\n",
              "      <td>136.1</td>\n",
              "    </tr>\n",
              "    <tr>\n",
              "      <th>2</th>\n",
              "      <td>01.01.2009 00:30:00</td>\n",
              "      <td>996.53</td>\n",
              "      <td>-8.51</td>\n",
              "      <td>264.91</td>\n",
              "      <td>-9.31</td>\n",
              "      <td>93.9</td>\n",
              "      <td>3.21</td>\n",
              "      <td>3.01</td>\n",
              "      <td>0.20</td>\n",
              "      <td>1.88</td>\n",
              "      <td>3.02</td>\n",
              "      <td>1310.24</td>\n",
              "      <td>0.19</td>\n",
              "      <td>0.63</td>\n",
              "      <td>171.6</td>\n",
              "    </tr>\n",
              "    <tr>\n",
              "      <th>3</th>\n",
              "      <td>01.01.2009 00:40:00</td>\n",
              "      <td>996.51</td>\n",
              "      <td>-8.31</td>\n",
              "      <td>265.12</td>\n",
              "      <td>-9.07</td>\n",
              "      <td>94.2</td>\n",
              "      <td>3.26</td>\n",
              "      <td>3.07</td>\n",
              "      <td>0.19</td>\n",
              "      <td>1.92</td>\n",
              "      <td>3.08</td>\n",
              "      <td>1309.19</td>\n",
              "      <td>0.34</td>\n",
              "      <td>0.50</td>\n",
              "      <td>198.0</td>\n",
              "    </tr>\n",
              "    <tr>\n",
              "      <th>4</th>\n",
              "      <td>01.01.2009 00:50:00</td>\n",
              "      <td>996.51</td>\n",
              "      <td>-8.27</td>\n",
              "      <td>265.15</td>\n",
              "      <td>-9.04</td>\n",
              "      <td>94.1</td>\n",
              "      <td>3.27</td>\n",
              "      <td>3.08</td>\n",
              "      <td>0.19</td>\n",
              "      <td>1.92</td>\n",
              "      <td>3.09</td>\n",
              "      <td>1309.00</td>\n",
              "      <td>0.32</td>\n",
              "      <td>0.63</td>\n",
              "      <td>214.3</td>\n",
              "    </tr>\n",
              "  </tbody>\n",
              "</table>\n",
              "</div>"
            ],
            "text/plain": [
              "             Date Time  p (mbar)  T (degC)  ...  wv (m/s)  max. wv (m/s)  wd (deg)\n",
              "0  01.01.2009 00:10:00    996.52     -8.02  ...      1.03           1.75     152.3\n",
              "1  01.01.2009 00:20:00    996.57     -8.41  ...      0.72           1.50     136.1\n",
              "2  01.01.2009 00:30:00    996.53     -8.51  ...      0.19           0.63     171.6\n",
              "3  01.01.2009 00:40:00    996.51     -8.31  ...      0.34           0.50     198.0\n",
              "4  01.01.2009 00:50:00    996.51     -8.27  ...      0.32           0.63     214.3\n",
              "\n",
              "[5 rows x 15 columns]"
            ]
          },
          "metadata": {
            "tags": []
          },
          "execution_count": 4
        }
      ]
    },
    {
      "cell_type": "code",
      "metadata": {
        "id": "hdeZh0LY2Q-Z",
        "outputId": "e414d2a3-5311-48cd-a5b8-cd6b7123a36b",
        "colab": {
          "base_uri": "https://localhost:8080/",
          "height": 296
        }
      },
      "source": [
        "df.tail()"
      ],
      "execution_count": 5,
      "outputs": [
        {
          "output_type": "execute_result",
          "data": {
            "text/html": [
              "<div>\n",
              "<style scoped>\n",
              "    .dataframe tbody tr th:only-of-type {\n",
              "        vertical-align: middle;\n",
              "    }\n",
              "\n",
              "    .dataframe tbody tr th {\n",
              "        vertical-align: top;\n",
              "    }\n",
              "\n",
              "    .dataframe thead th {\n",
              "        text-align: right;\n",
              "    }\n",
              "</style>\n",
              "<table border=\"1\" class=\"dataframe\">\n",
              "  <thead>\n",
              "    <tr style=\"text-align: right;\">\n",
              "      <th></th>\n",
              "      <th>Date Time</th>\n",
              "      <th>p (mbar)</th>\n",
              "      <th>T (degC)</th>\n",
              "      <th>Tpot (K)</th>\n",
              "      <th>Tdew (degC)</th>\n",
              "      <th>rh (%)</th>\n",
              "      <th>VPmax (mbar)</th>\n",
              "      <th>VPact (mbar)</th>\n",
              "      <th>VPdef (mbar)</th>\n",
              "      <th>sh (g/kg)</th>\n",
              "      <th>H2OC (mmol/mol)</th>\n",
              "      <th>rho (g/m**3)</th>\n",
              "      <th>wv (m/s)</th>\n",
              "      <th>max. wv (m/s)</th>\n",
              "      <th>wd (deg)</th>\n",
              "    </tr>\n",
              "  </thead>\n",
              "  <tbody>\n",
              "    <tr>\n",
              "      <th>420546</th>\n",
              "      <td>31.12.2016 23:20:00</td>\n",
              "      <td>1000.07</td>\n",
              "      <td>-4.05</td>\n",
              "      <td>269.10</td>\n",
              "      <td>-8.13</td>\n",
              "      <td>73.10</td>\n",
              "      <td>4.52</td>\n",
              "      <td>3.30</td>\n",
              "      <td>1.22</td>\n",
              "      <td>2.06</td>\n",
              "      <td>3.30</td>\n",
              "      <td>1292.98</td>\n",
              "      <td>0.67</td>\n",
              "      <td>1.52</td>\n",
              "      <td>240.0</td>\n",
              "    </tr>\n",
              "    <tr>\n",
              "      <th>420547</th>\n",
              "      <td>31.12.2016 23:30:00</td>\n",
              "      <td>999.93</td>\n",
              "      <td>-3.35</td>\n",
              "      <td>269.81</td>\n",
              "      <td>-8.06</td>\n",
              "      <td>69.71</td>\n",
              "      <td>4.77</td>\n",
              "      <td>3.32</td>\n",
              "      <td>1.44</td>\n",
              "      <td>2.07</td>\n",
              "      <td>3.32</td>\n",
              "      <td>1289.44</td>\n",
              "      <td>1.14</td>\n",
              "      <td>1.92</td>\n",
              "      <td>234.3</td>\n",
              "    </tr>\n",
              "    <tr>\n",
              "      <th>420548</th>\n",
              "      <td>31.12.2016 23:40:00</td>\n",
              "      <td>999.82</td>\n",
              "      <td>-3.16</td>\n",
              "      <td>270.01</td>\n",
              "      <td>-8.21</td>\n",
              "      <td>67.91</td>\n",
              "      <td>4.84</td>\n",
              "      <td>3.28</td>\n",
              "      <td>1.55</td>\n",
              "      <td>2.05</td>\n",
              "      <td>3.28</td>\n",
              "      <td>1288.39</td>\n",
              "      <td>1.08</td>\n",
              "      <td>2.00</td>\n",
              "      <td>215.2</td>\n",
              "    </tr>\n",
              "    <tr>\n",
              "      <th>420549</th>\n",
              "      <td>31.12.2016 23:50:00</td>\n",
              "      <td>999.81</td>\n",
              "      <td>-4.23</td>\n",
              "      <td>268.94</td>\n",
              "      <td>-8.53</td>\n",
              "      <td>71.80</td>\n",
              "      <td>4.46</td>\n",
              "      <td>3.20</td>\n",
              "      <td>1.26</td>\n",
              "      <td>1.99</td>\n",
              "      <td>3.20</td>\n",
              "      <td>1293.56</td>\n",
              "      <td>1.49</td>\n",
              "      <td>2.16</td>\n",
              "      <td>225.8</td>\n",
              "    </tr>\n",
              "    <tr>\n",
              "      <th>420550</th>\n",
              "      <td>01.01.2017 00:00:00</td>\n",
              "      <td>999.82</td>\n",
              "      <td>-4.82</td>\n",
              "      <td>268.36</td>\n",
              "      <td>-8.42</td>\n",
              "      <td>75.70</td>\n",
              "      <td>4.27</td>\n",
              "      <td>3.23</td>\n",
              "      <td>1.04</td>\n",
              "      <td>2.01</td>\n",
              "      <td>3.23</td>\n",
              "      <td>1296.38</td>\n",
              "      <td>1.23</td>\n",
              "      <td>1.96</td>\n",
              "      <td>184.9</td>\n",
              "    </tr>\n",
              "  </tbody>\n",
              "</table>\n",
              "</div>"
            ],
            "text/plain": [
              "                  Date Time  p (mbar)  ...  max. wv (m/s)  wd (deg)\n",
              "420546  31.12.2016 23:20:00   1000.07  ...           1.52     240.0\n",
              "420547  31.12.2016 23:30:00    999.93  ...           1.92     234.3\n",
              "420548  31.12.2016 23:40:00    999.82  ...           2.00     215.2\n",
              "420549  31.12.2016 23:50:00    999.81  ...           2.16     225.8\n",
              "420550  01.01.2017 00:00:00    999.82  ...           1.96     184.9\n",
              "\n",
              "[5 rows x 15 columns]"
            ]
          },
          "metadata": {
            "tags": []
          },
          "execution_count": 5
        }
      ]
    },
    {
      "cell_type": "markdown",
      "metadata": {
        "id": "WUpXsnVP2Q-Z"
      },
      "source": [
        "As you can see above, an observation is recorded every 10 mintues from 01/01/2009. This means that, you will have 6 observations for a single hour. Similarly, a single day will contain 144 (6x24) observations.\n",
        "\n",
        "For this prediction problem, you can specify any time period to predict. Let's say **you want to predict the temperature for 6 hours in the future**. And in order to make this prediction, let's say that **you decided to use 5 days of observations**. Then you can create a window containing the last 720 (5x144) observations to train the model and predict 6 hours in the future. Many such configurations are possible and you can choose best one after experiments with various input/output shapes.\n",
        "\n",
        "<img src=\"https://github.com/mikodham/CS470/blob/main/Lab3/May%2013/images/example_model.png?raw=1\" alt=\"Drawing\" style=\"width: 1100px;\"/>\n",
        "\n",
        "<br/>"
      ]
    },
    {
      "cell_type": "markdown",
      "metadata": {
        "id": "8CCqmfSY2Q-Z"
      },
      "source": [
        "Setting seed to ensure reproducibility."
      ]
    },
    {
      "cell_type": "code",
      "metadata": {
        "id": "eWI5Qw9v2Q-a"
      },
      "source": [
        "tf.random.set_seed(13)"
      ],
      "execution_count": 6,
      "outputs": []
    },
    {
      "cell_type": "markdown",
      "metadata": {
        "id": "Cb6aGJ-k2Q-a"
      },
      "source": [
        "## Part 1: Forecast a univariate time series\n",
        "First, we will train a model that learns **using only a single feature (temperature)** and use this model to make predictions for temperature values in the future.\n",
        "\n",
        "Let's first extract only the temperature from the dataset."
      ]
    },
    {
      "cell_type": "code",
      "metadata": {
        "id": "BQXnS8qT2Q-a",
        "outputId": "244a7f25-8431-495e-d9d8-cf1d836bdb59",
        "colab": {
          "base_uri": "https://localhost:8080/"
        }
      },
      "source": [
        "uni_data = df['T (degC)']\n",
        "uni_data.index = df['Date Time']\n",
        "\n",
        "print(uni_data.head())\n",
        "print(uni_data.shape)"
      ],
      "execution_count": 7,
      "outputs": [
        {
          "output_type": "stream",
          "text": [
            "Date Time\n",
            "01.01.2009 00:10:00   -8.02\n",
            "01.01.2009 00:20:00   -8.41\n",
            "01.01.2009 00:30:00   -8.51\n",
            "01.01.2009 00:40:00   -8.31\n",
            "01.01.2009 00:50:00   -8.27\n",
            "Name: T (degC), dtype: float64\n",
            "(420551,)\n"
          ],
          "name": "stdout"
        }
      ]
    },
    {
      "cell_type": "markdown",
      "metadata": {
        "id": "RoL5DD0E2Q-a"
      },
      "source": [
        "<br/>\n",
        "\n",
        "Let's observe how this data looks across time. By the `plot` function, we can visualize the temperature data.\n",
        "\n",
        "First we will check global trend of temperature."
      ]
    },
    {
      "cell_type": "code",
      "metadata": {
        "id": "wwcna0Xa2Q-b",
        "outputId": "045ae7f2-af8e-4eef-feb9-5d497891e25b",
        "colab": {
          "base_uri": "https://localhost:8080/",
          "height": 346
        }
      },
      "source": [
        "uni_data.plot(subplots=True)"
      ],
      "execution_count": 8,
      "outputs": [
        {
          "output_type": "execute_result",
          "data": {
            "text/plain": [
              "array([<matplotlib.axes._subplots.AxesSubplot object at 0x7fb6b2618790>],\n",
              "      dtype=object)"
            ]
          },
          "metadata": {
            "tags": []
          },
          "execution_count": 8
        },
        {
          "output_type": "display_data",
          "data": {
            "image/png": "[encoded data removed]",
            "text/plain": [
              "<Figure size 432x288 with 1 Axes>"
            ]
          },
          "metadata": {
            "tags": [],
            "needs_background": "light"
          }
        }
      ]
    },
    {
      "cell_type": "markdown",
      "metadata": {
        "id": "VPN-AMao2Q-b"
      },
      "source": [
        "Also we can focus on specific period."
      ]
    },
    {
      "cell_type": "code",
      "metadata": {
        "id": "oosVz8Fv2Q-b",
        "outputId": "9954c7f1-2496-40c5-908c-f27987e5d9fc",
        "colab": {
          "base_uri": "https://localhost:8080/",
          "height": 342
        }
      },
      "source": [
        "pd.Series(uni_data[20000:21000]).plot(subplots=True)"
      ],
      "execution_count": 9,
      "outputs": [
        {
          "output_type": "execute_result",
          "data": {
            "text/plain": [
              "array([<matplotlib.axes._subplots.AxesSubplot object at 0x7fb6b53ca450>],\n",
              "      dtype=object)"
            ]
          },
          "metadata": {
            "tags": []
          },
          "execution_count": 9
        },
        {
          "output_type": "display_data",
          "data": {
            "image/png": "[encoded data removed]",
            "text/plain": [
              "<Figure size 432x288 with 1 Axes>"
            ]
          },
          "metadata": {
            "tags": [],
            "needs_background": "light"
          }
        }
      ]
    },
    {
      "cell_type": "markdown",
      "metadata": {
        "id": "nfiqZe7n2Q-b"
      },
      "source": [
        "By using `Series.values`, we convert pandas data to numpy array."
      ]
    },
    {
      "cell_type": "code",
      "metadata": {
        "id": "ztzj9e5k2Q-b",
        "outputId": "7b59c821-9fed-47a7-ba67-da49272209d7",
        "colab": {
          "base_uri": "https://localhost:8080/"
        }
      },
      "source": [
        "uni_data = uni_data.values\n",
        "uni_data.shape"
      ],
      "execution_count": 10,
      "outputs": [
        {
          "output_type": "execute_result",
          "data": {
            "text/plain": [
              "(420551,)"
            ]
          },
          "metadata": {
            "tags": []
          },
          "execution_count": 10
        }
      ]
    },
    {
      "cell_type": "markdown",
      "metadata": {
        "id": "BA7pzIWH2Q-c"
      },
      "source": [
        "In both the following practices, we will use the first 300,000 rows of the data as training dataset and the remaining will be the validation dataset.\n",
        "\n",
        "This amounts to ~3,000,000 minutes = ~2100 days worth of training data."
      ]
    },
    {
      "cell_type": "code",
      "metadata": {
        "id": "hRGx6-Yo2Q-c"
      },
      "source": [
        "TRAIN_SPLIT = 300000\n",
        "training_data = uni_data[:TRAIN_SPLIT]\n",
        "# write your code #"
      ],
      "execution_count": 12,
      "outputs": []
    },
    {
      "cell_type": "markdown",
      "metadata": {
        "id": "qUtw_TPj2Q-c"
      },
      "source": [
        "It is important to **normalize features before training a neural network**. A common way to do so is by subtracting the mean and dividing by the standard deviation of each feature.\n",
        "\n",
        "And notice that the **mean and standard deviation should be computed using only the training data**.\n",
        "When you normalize the whole dataset before splitting, the information from the validation dataset will be included while normalizing, which is not desirable. Using any information coming from the test set before or during training is a potential bias in the evaluation of the performance."
      ]
    },
    {
      "cell_type": "code",
      "metadata": {
        "id": "rz01LH5O2Q-c",
        "outputId": "4868cdda-da85-4dd1-ae38-164487514593",
        "colab": {
          "base_uri": "https://localhost:8080/"
        }
      },
      "source": [
        "training_data_mean = training_data.mean() # write your code #\n",
        "training_data_std = training_data.std()  # write your code #\n",
        "print(training_data_mean,training_data_std)"
      ],
      "execution_count": 14,
      "outputs": [
        {
          "output_type": "stream",
          "text": [
            "9.233256299999999 8.636720398054864\n"
          ],
          "name": "stdout"
        }
      ]
    },
    {
      "cell_type": "markdown",
      "metadata": {
        "id": "ywyK6Hk32Q-c"
      },
      "source": [
        "Let's normalize the data and visualize them."
      ]
    },
    {
      "cell_type": "code",
      "metadata": {
        "id": "suHOrXBj2Q-d"
      },
      "source": [
        "norm_uni_data = (training_data-training_data_mean)/training_data_std # write your code #"
      ],
      "execution_count": 17,
      "outputs": []
    },
    {
      "cell_type": "code",
      "metadata": {
        "id": "xRE7GWRZ2Q-d",
        "outputId": "21775ca1-be91-4dd7-8516-b44ad1c7a2d5",
        "colab": {
          "base_uri": "https://localhost:8080/",
          "height": 294
        }
      },
      "source": [
        "pd.Series(norm_uni_data).plot(subplots=True)"
      ],
      "execution_count": 18,
      "outputs": [
        {
          "output_type": "execute_result",
          "data": {
            "text/plain": [
              "array([<matplotlib.axes._subplots.AxesSubplot object at 0x7fb6aeb37850>],\n",
              "      dtype=object)"
            ]
          },
          "metadata": {
            "tags": []
          },
          "execution_count": 18
        },
        {
          "output_type": "display_data",
          "data": {
            "image/png": "[encoded data removed]",
            "text/plain": [
              "<Figure size 432x288 with 1 Axes>"
            ]
          },
          "metadata": {
            "tags": [],
            "needs_background": "light"
          }
        }
      ]
    },
    {
      "cell_type": "markdown",
      "metadata": {
        "id": "uFF5YtYI2Q-d"
      },
      "source": [
        "### Univariate model\n",
        "\n",
        "Let's now **create the data for the univariate model**. In this section, **the model will be given the last 20 recorded temperature observations** and learn to **predict the temperature of the next time step**.\n",
        "\n",
        "<br/>\n",
        "\n",
        "<img src=\"https://github.com/mikodham/CS470/blob/main/Lab3/May%2013/images/approach.png?raw=1\" alt=\"Drawing\" style=\"width: 800px;\"/>\n",
        "\n",
        "<br/>"
      ]
    },
    {
      "cell_type": "markdown",
      "metadata": {
        "id": "mAW6NHWu2Q-d"
      },
      "source": [
        "The helper function below returns the specific windows of time for the model to train on. The parameter `history_size` is the size of the window of past information. So our model will use the number of `history_size` information for prediction. The `target_size` defines how far in the future does the model need to learn to predict. In other words, if the `target_size` 0 is the above model, it will predict the temperature for time step 21 and it will predict the temparature for time step 22 if the `target_size` is 1."
      ]
    },
    {
      "cell_type": "code",
      "metadata": {
        "id": "5qEnXYgT2Q-d"
      },
      "source": [
        "def univariate_data(dataset, start_index, end_index, history_size, target_size):\n",
        "    data = []\n",
        "    labels = []\n",
        "    \n",
        "    start_index = start_index + history_size\n",
        "    if end_index is None:\n",
        "        end_index = len(dataset)\n",
        "    \n",
        "    for i in range(start_index, end_index- target_size):\n",
        "        indices = range(i-history_size, i)\n",
        "        # Reshape data from (history_size,) to (history_size, 1)\n",
        "        data.append(np.reshape(dataset[indices], (history_size, 1)))\n",
        "        labels.append(dataset[i+target_size])\n",
        "    return np.array(data), np.array(labels)"
      ],
      "execution_count": 19,
      "outputs": []
    },
    {
      "cell_type": "code",
      "metadata": {
        "id": "Sf0lL_Au2Q-e"
      },
      "source": [
        "univariate_past_history = 20\n",
        "univariate_future_target = 0\n",
        "\n",
        "# Create training dataset with univariate feature\n",
        "x_train_uni, y_train_uni = univariate_data(norm_uni_data, 0, TRAIN_SPLIT,\n",
        "                                           univariate_past_history,\n",
        "                                           univariate_future_target)\n",
        "\n",
        "x_val_uni, y_val_uni = univariate_data(norm_uni_data, TRAIN_SPLIT, None,\n",
        "                                       univariate_past_history,\n",
        "                                       univariate_future_target)"
      ],
      "execution_count": 22,
      "outputs": []
    },
    {
      "cell_type": "code",
      "metadata": {
        "id": "93CZ1e6v2Q-e",
        "outputId": "57f68f41-4d5d-45e6-a3fd-af9516618482",
        "colab": {
          "base_uri": "https://localhost:8080/"
        }
      },
      "source": [
        "print(x_train_uni.shape)\n",
        "print(x_val_uni.shape)"
      ],
      "execution_count": 23,
      "outputs": [
        {
          "output_type": "stream",
          "text": [
            "(299980, 20, 1)\n",
            "(0,)\n"
          ],
          "name": "stdout"
        }
      ]
    },
    {
      "cell_type": "code",
      "metadata": {
        "id": "r9xjIW5i2Q-e",
        "outputId": "80422c97-c532-40d2-cde5-84be7125e1d3",
        "colab": {
          "base_uri": "https://localhost:8080/"
        }
      },
      "source": [
        "norm_uni_data[:25]"
      ],
      "execution_count": 24,
      "outputs": [
        {
          "output_type": "execute_result",
          "data": {
            "text/plain": [
              "array([-1.99766294, -2.04281897, -2.05439744, -2.0312405 , -2.02660912,\n",
              "       -2.00113649, -1.95134907, -1.95134907, -1.98492663, -2.04513467,\n",
              "       -2.08334362, -2.09723778, -2.09376424, -2.09144854, -2.07176515,\n",
              "       -2.07176515, -2.07639653, -2.08913285, -2.09260639, -2.10418486,\n",
              "       -2.10418486, -2.09492208, -2.10997409, -2.11692118, -2.13776242])"
            ]
          },
          "metadata": {
            "tags": []
          },
          "execution_count": 24
        }
      ]
    },
    {
      "cell_type": "code",
      "metadata": {
        "id": "pzLt2XWT2Q-e",
        "outputId": "ee984dc3-3eaa-4a42-d495-653739ac8642",
        "colab": {
          "base_uri": "https://localhost:8080/"
        }
      },
      "source": [
        "print ('Single window of past history')\n",
        "print (x_train_uni[0])\n",
        "print ('\\n Target temperature to predict')\n",
        "print (y_train_uni[0])"
      ],
      "execution_count": 25,
      "outputs": [
        {
          "output_type": "stream",
          "text": [
            "Single window of past history\n",
            "[[-1.99766294]\n",
            " [-2.04281897]\n",
            " [-2.05439744]\n",
            " [-2.0312405 ]\n",
            " [-2.02660912]\n",
            " [-2.00113649]\n",
            " [-1.95134907]\n",
            " [-1.95134907]\n",
            " [-1.98492663]\n",
            " [-2.04513467]\n",
            " [-2.08334362]\n",
            " [-2.09723778]\n",
            " [-2.09376424]\n",
            " [-2.09144854]\n",
            " [-2.07176515]\n",
            " [-2.07176515]\n",
            " [-2.07639653]\n",
            " [-2.08913285]\n",
            " [-2.09260639]\n",
            " [-2.10418486]]\n",
            "\n",
            " Target temperature to predict\n",
            "-2.1041848598100876\n"
          ],
          "name": "stdout"
        }
      ]
    },
    {
      "cell_type": "markdown",
      "metadata": {
        "id": "reqCfPqo2Q-f"
      },
      "source": [
        "<br/><br/>\n",
        "\n",
        "Now that the data has been created, let's take a look at a single example. The information given to the network is given in blue, and it must predict the value at the red cross."
      ]
    },
    {
      "cell_type": "code",
      "metadata": {
        "id": "QUa7qrmS2Q-f"
      },
      "source": [
        "def show_plot(plot_data, delta, title):\n",
        "    labels = ['History', 'True Future', 'Model Prediction']\n",
        "    marker = ['.-', 'rx', 'go']\n",
        "    time_steps = range(-plot_data[0].shape[0],0)\n",
        "    if delta:\n",
        "        future = delta\n",
        "    else:\n",
        "        future = 0\n",
        "\n",
        "    plt.title(title)\n",
        "    for i, x in enumerate(plot_data):\n",
        "        if i:\n",
        "            plt.plot(future, plot_data[i], marker[i], markersize=10,\n",
        "                label=labels[i])\n",
        "        else:\n",
        "            plt.plot(time_steps, plot_data[i].flatten(), marker[i], label=labels[i])\n",
        "    plt.legend()\n",
        "    plt.xlim([time_steps[0], (future+5)*2])\n",
        "    plt.xlabel('Time-Step')\n",
        "    return plt"
      ],
      "execution_count": 26,
      "outputs": []
    },
    {
      "cell_type": "code",
      "metadata": {
        "id": "PfjLvhpi2Q-f",
        "outputId": "3be7db6e-287a-431b-d786-b8b69e2118f0",
        "colab": {
          "base_uri": "https://localhost:8080/",
          "height": 312
        }
      },
      "source": [
        "show_plot([x_train_uni[0], y_train_uni[0]], 0, 'Sample Example')"
      ],
      "execution_count": 29,
      "outputs": [
        {
          "output_type": "execute_result",
          "data": {
            "text/plain": [
              "<module 'matplotlib.pyplot' from '/usr/local/lib/python3.7/dist-packages/matplotlib/pyplot.py'>"
            ]
          },
          "metadata": {
            "tags": []
          },
          "execution_count": 29
        },
        {
          "output_type": "display_data",
          "data": {
            "image/png": "[encoded data removed]",
            "text/plain": [
              "<Figure size 432x288 with 1 Axes>"
            ]
          },
          "metadata": {
            "tags": [],
            "needs_background": "light"
          }
        }
      ]
    },
    {
      "cell_type": "markdown",
      "metadata": {
        "id": "BQmqjE_w2Q-f"
      },
      "source": [
        "#### Baseline\n",
        "Before training our model, let's first **construct a simple baseline model**. Baseline model will looks at all the history observations and **predicts the next point to be the average them**."
      ]
    },
    {
      "cell_type": "code",
      "metadata": {
        "id": "01kX9VvX2Q-f"
      },
      "source": [
        "def baseline(history):\n",
        "    return np.mean(history)"
      ],
      "execution_count": 30,
      "outputs": []
    },
    {
      "cell_type": "code",
      "metadata": {
        "id": "8l-jjwkk2Q-f",
        "outputId": "1a667843-f368-499d-f86d-3afbfe30f526",
        "colab": {
          "base_uri": "https://localhost:8080/",
          "height": 312
        }
      },
      "source": [
        "show_plot([x_train_uni[0], y_train_uni[0], baseline(x_train_uni[0])], 0,\n",
        "           'Baseline Prediction Example')"
      ],
      "execution_count": 31,
      "outputs": [
        {
          "output_type": "execute_result",
          "data": {
            "text/plain": [
              "<module 'matplotlib.pyplot' from '/usr/local/lib/python3.7/dist-packages/matplotlib/pyplot.py'>"
            ]
          },
          "metadata": {
            "tags": []
          },
          "execution_count": 31
        },
        {
          "output_type": "display_data",
          "data": {
            "image/png": "[encoded data removed]",
            "text/plain": [
              "<Figure size 432x288 with 1 Axes>"
            ]
          },
          "metadata": {
            "tags": [],
            "needs_background": "light"
          }
        }
      ]
    },
    {
      "cell_type": "markdown",
      "metadata": {
        "id": "3I81ut0i2Q-g"
      },
      "source": [
        "Let's see if our model can beat this baseline using a recurrent neural network after training."
      ]
    },
    {
      "cell_type": "markdown",
      "metadata": {
        "id": "hvEl-YCa2Q-g"
      },
      "source": [
        "#### Recurrent neural network\n",
        "\n",
        "In this practical, we will use a specialized RNN layer Long Short Tem Memory (LSTM).\n",
        "Similar to RNN and GRU, **LSTMs process a time series step-by-step, maintaining an internal state summarizing the information they've seen so far.**\n",
        "\n",
        "Let's now use `tf.data` to shuffle, make batch, and cache the dataset."
      ]
    },
    {
      "cell_type": "code",
      "metadata": {
        "id": "BRh4QOse2Q-g"
      },
      "source": [
        "BATCH_SIZE = 256\n",
        "BUFFER_SIZE = 10000\n",
        "\n",
        "train_univariate = tf.data.Dataset.from_tensor_slices((x_train_uni, y_train_uni))\n",
        "train_univariate = train_univariate.cache().shuffle(BUFFER_SIZE).batch(BATCH_SIZE).repeat()\n",
        "\n",
        "val_univariate = tf.data.Dataset.from_tensor_slices((x_val_uni, y_val_uni))\n",
        "val_univariate = val_univariate.batch(BATCH_SIZE).repeat()"
      ],
      "execution_count": 44,
      "outputs": []
    },
    {
      "cell_type": "code",
      "metadata": {
        "id": "tC-sOjS42Q-g",
        "outputId": "18edbda8-1a49-4fc1-b2ec-8fd199a26ec2",
        "colab": {
          "base_uri": "https://localhost:8080/"
        }
      },
      "source": [
        "for elem in train_univariate.take(1):\n",
        "    print(elem)"
      ],
      "execution_count": 45,
      "outputs": [
        {
          "output_type": "stream",
          "text": [
            "(<tf.Tensor: shape=(256, 20, 1), dtype=float64, numpy=\n",
            "array([[[-1.59936361],\n",
            "        [-1.60515284],\n",
            "        [-1.60515284],\n",
            "        ...,\n",
            "        [-1.56231251],\n",
            "        [-1.5646282 ],\n",
            "        [-1.57157528]],\n",
            "\n",
            "       [[-1.14896116],\n",
            "        [-1.14896116],\n",
            "        [-1.15011901],\n",
            "        ...,\n",
            "        [-1.1894858 ],\n",
            "        [-1.19411719],\n",
            "        [-1.20222212]],\n",
            "\n",
            "       [[-1.47663184],\n",
            "        [-1.49284169],\n",
            "        [-1.50905155],\n",
            "        ...,\n",
            "        [-1.63525686],\n",
            "        [-1.67115012],\n",
            "        [-1.70356983]],\n",
            "\n",
            "       ...,\n",
            "\n",
            "       [[-0.84792097],\n",
            "        [-0.84328958],\n",
            "        [-0.84097388],\n",
            "        ...,\n",
            "        [-0.90233977],\n",
            "        [-0.90697116],\n",
            "        [-0.9104447 ]],\n",
            "\n",
            "       [[-1.62367839],\n",
            "        [-1.62483624],\n",
            "        [-1.59589007],\n",
            "        ...,\n",
            "        [-1.12348853],\n",
            "        [-1.07601681],\n",
            "        [-1.02854508]],\n",
            "\n",
            "       [[-0.64066637],\n",
            "        [-0.64413991],\n",
            "        [-0.6487713 ],\n",
            "        ...,\n",
            "        [-0.61519374],\n",
            "        [-0.61750943],\n",
            "        [-0.62329867]]])>, <tf.Tensor: shape=(256,), dtype=float64, numpy=\n",
            "array([-1.57504882, -1.21148489, -1.70588552, -0.72750489, -1.54957619,\n",
            "       -1.44884351, -2.64258367, -0.87455144, -0.64298206, -1.135067  ,\n",
            "       -0.47162072, -1.21495844, -0.91276039, -1.06675403, -1.21958982,\n",
            "       -1.10033159, -1.34116375, -0.71824211, -1.27285078, -1.35390006,\n",
            "       -1.49284169, -0.90349762, -1.15590824, -0.67771747, -1.58894299,\n",
            "       -1.25316738, -0.70782149, -1.17327595, -1.64451964, -1.64336179,\n",
            "       -1.33074313, -0.93475948, -0.99149398, -0.86181513, -1.40600317,\n",
            "       -1.04591279, -2.97141219, -1.18485442, -0.69276948, -1.21148489,\n",
            "       -0.57814264, -0.71361072, -1.47431614, -0.65224484, -1.04822848,\n",
            "       -0.53646015, -0.76802953, -1.6213627 , -1.05054417, -1.06791188,\n",
            "       -1.08527958, -0.35583603, -0.49246197, -0.6487713 , -1.07601681,\n",
            "       -0.59898388, -0.75181967, -0.65919192, -0.97759982, -1.36663638,\n",
            "       -1.23464183, -1.55189189, -1.45231705, -2.94246602, -1.08064819,\n",
            "       -1.01233523, -1.35158437, -0.83286896, -0.74834613, -1.07485896,\n",
            "       -0.54224938, -0.65687623, -1.01928231, -1.31569112, -0.80276494,\n",
            "       -1.25895662, -2.10071132, -1.44305428, -1.2659037 , -1.16864456,\n",
            "       -1.9200872 , -1.35390006, -1.04243925, -0.70782149, -1.98029524,\n",
            "       -1.98724232,  0.14551168, -0.78308154, -1.36316284, -0.88728776,\n",
            "       -1.0980159 , -1.00538815, -1.98145309, -0.7969757 , -0.90349762,\n",
            "       -1.07485896, -1.19411719, -0.4218333 , -0.37320373, -1.0609648 ,\n",
            "       -1.39326686, -1.31105973, -0.83171111, -1.36432069, -2.02660912,\n",
            "       -1.29600772, -1.56231251, -1.61209992, -2.9320454 , -1.1327513 ,\n",
            "       -0.71592642, -2.45501247, -0.84907881, -1.42337088, -0.99033614,\n",
            "       -0.60245742, -2.00692572, -2.20260185, -0.87223575, -1.43726504,\n",
            "       -0.40909699, -1.45810629, -1.07370111, -0.82013264, -0.64413991,\n",
            "       -0.96602135, -2.32301793, -2.77342037, -1.32726959, -0.39404498,\n",
            "       -1.19759073, -1.22422121, -1.03317647, -1.45810629, -1.61673131,\n",
            "       -2.39364659, -0.48667273, -1.31800681, -1.04359709, -1.42337088,\n",
            "       -3.05246148, -0.4588844 , -1.05054417, -1.35853145, -0.90118192,\n",
            "       -0.8166591 , -1.42221303, -0.41141268, -1.03549216, -0.82013264,\n",
            "       -0.9278124 , -1.24043107, -0.73097843, -1.39442471, -0.9301281 ,\n",
            "       -1.11422575, -0.50056689, -0.42762254, -1.2659037 , -0.95675857,\n",
            "       -1.3203225 , -0.16710698, -0.77266092, -1.63988825, -1.57968021,\n",
            "       -1.63062547, -1.52641925, -1.26474585, -0.84097388, -2.51290482,\n",
            "       -1.06675403, -1.94555983, -0.54803862, -0.78887077, -0.86760436,\n",
            "       -0.7992914 , -1.42916011, -1.09685805, -0.4785678 , -2.12849964,\n",
            "       -0.53414445, -0.14163435, -0.77150307, -1.45810629, -0.64413991,\n",
            "       -1.0412814 , -0.69508517, -1.23579968, -0.65571838, -1.23232614,\n",
            "       -1.35274222, -2.5939541 , -1.38400408, -1.1327513 , -0.62561436,\n",
            "       -1.12117284, -1.35158437, -0.58393187, -0.59087895, -0.99149398,\n",
            "       -1.11769929, -1.14317193, -1.16748671, -1.35621576, -0.79466001,\n",
            "       -1.43031796, -0.69276948, -0.6487713 , -1.01928231, -1.32842743,\n",
            "       -1.3967404 , -1.55652327, -0.56656417, -1.27864002, -1.98608448,\n",
            "       -0.44267455, -0.5746691 , -1.73367385, -0.71592642, -1.19064365,\n",
            "       -1.38863547, -2.13892027, -0.44730594, -2.79194592, -1.35853145,\n",
            "       -1.12001499, -2.47353802, -0.77381876, -1.31105973, -2.28133544,\n",
            "       -2.0138728 , -3.65106833, -1.62946763, -0.82592187, -0.43225393,\n",
            "       -1.19411719, -0.90349762, -1.39442471, -0.72750489, -1.46042198,\n",
            "       -0.76687168, -0.86181513, -0.91391824, -0.47046287, -1.0980159 ,\n",
            "       -1.22190552, -0.67887532, -1.67230796, -0.72403135, -1.31453327,\n",
            "       -1.1721181 , -1.45694844, -1.31800681, -0.91160255, -0.93128594,\n",
            "       -0.63140359])>)\n"
          ],
          "name": "stdout"
        }
      ]
    },
    {
      "cell_type": "markdown",
      "metadata": {
        "id": "G-Bf-Bbr2Q-g"
      },
      "source": [
        "We will make `simple_lstm_model` that has one LSTM with 8 units and one Dense layer with 1 unit."
      ]
    },
    {
      "cell_type": "code",
      "metadata": {
        "id": "bzEc6I7r2Q-g"
      },
      "source": [
        "simple_lstm_model = tf.keras.Sequential([\n",
        "    tf.keras.layers.LSTM(8),\n",
        "    tf.keras.layers.Dense(1)\n",
        "    ###################\n",
        "    #                 #\n",
        "    # write your code #\n",
        "    #                 #\n",
        "    ###################\n",
        "])\n",
        "\n",
        "simple_lstm_model.compile(optimizer='adam', loss='mae')"
      ],
      "execution_count": 46,
      "outputs": []
    },
    {
      "cell_type": "markdown",
      "metadata": {
        "id": "dXTys_wq2Q-h"
      },
      "source": [
        "Let's make a sample prediction, to check the output of the model."
      ]
    },
    {
      "cell_type": "code",
      "metadata": {
        "id": "3KgIfKCV2Q-h"
      },
      "source": [
        "for x, y in val_univariate.take(1):\n",
        "    print(simple_lstm_model.predict(x).shape) # (BATCH_SIZE, Predicted_value)"
      ],
      "execution_count": 47,
      "outputs": []
    },
    {
      "cell_type": "markdown",
      "metadata": {
        "id": "zc8AU9b12Q-h"
      },
      "source": [
        "Let's train the model now. Due to the large size of the dataset, in the interest of saving time, each epoch will only run for 200 steps, instead of the complete training data as normally done."
      ]
    },
    {
      "cell_type": "code",
      "metadata": {
        "id": "iB5n3BUP2Q-h",
        "outputId": "0f50981c-2fe2-4e51-b664-a2cd5c0a1976",
        "colab": {
          "base_uri": "https://localhost:8080/",
          "height": 723
        }
      },
      "source": [
        "EVALUATION_INTERVAL = 200\n",
        "EPOCHS = 10\n",
        "\n",
        "simple_lstm_model.fit(train_univariate, epochs=EPOCHS,\n",
        "                      steps_per_epoch=EVALUATION_INTERVAL,\n",
        "                      validation_data=val_univariate, validation_steps=50)"
      ],
      "execution_count": 48,
      "outputs": [
        {
          "output_type": "stream",
          "text": [
            "Epoch 1/10\n",
            "198/200 [============================>.] - ETA: 0s - loss: 0.3651"
          ],
          "name": "stdout"
        },
        {
          "output_type": "error",
          "ename": "ValueError",
          "evalue": "ignored",
          "traceback": [
            "\u001b[0;31m---------------------------------------------------------------------------\u001b[0m",
            "\u001b[0;31mValueError\u001b[0m                                Traceback (most recent call last)",
            "\u001b[0;32m<ipython-input-48-c17005369259>\u001b[0m in \u001b[0;36m<module>\u001b[0;34m()\u001b[0m\n\u001b[1;32m      4\u001b[0m simple_lstm_model.fit(train_univariate, epochs=EPOCHS,\n\u001b[1;32m      5\u001b[0m                       \u001b[0msteps_per_epoch\u001b[0m\u001b[0;34m=\u001b[0m\u001b[0mEVALUATION_INTERVAL\u001b[0m\u001b[0;34m,\u001b[0m\u001b[0;34m\u001b[0m\u001b[0;34m\u001b[0m\u001b[0m\n\u001b[0;32m----> 6\u001b[0;31m                       validation_data=val_univariate, validation_steps=50)\n\u001b[0m",
            "\u001b[0;32m/usr/local/lib/python3.7/dist-packages/tensorflow/python/keras/engine/training.py\u001b[0m in \u001b[0;36mfit\u001b[0;34m(self, x, y, batch_size, epochs, verbose, callbacks, validation_split, validation_data, shuffle, class_weight, sample_weight, initial_epoch, steps_per_epoch, validation_steps, validation_batch_size, validation_freq, max_queue_size, workers, use_multiprocessing)\u001b[0m\n\u001b[1;32m   1223\u001b[0m               \u001b[0muse_multiprocessing\u001b[0m\u001b[0;34m=\u001b[0m\u001b[0muse_multiprocessing\u001b[0m\u001b[0;34m,\u001b[0m\u001b[0;34m\u001b[0m\u001b[0;34m\u001b[0m\u001b[0m\n\u001b[1;32m   1224\u001b[0m               \u001b[0mreturn_dict\u001b[0m\u001b[0;34m=\u001b[0m\u001b[0;32mTrue\u001b[0m\u001b[0;34m,\u001b[0m\u001b[0;34m\u001b[0m\u001b[0;34m\u001b[0m\u001b[0m\n\u001b[0;32m-> 1225\u001b[0;31m               _use_cached_eval_dataset=True)\n\u001b[0m\u001b[1;32m   1226\u001b[0m           \u001b[0mval_logs\u001b[0m \u001b[0;34m=\u001b[0m \u001b[0;34m{\u001b[0m\u001b[0;34m'val_'\u001b[0m \u001b[0;34m+\u001b[0m \u001b[0mname\u001b[0m\u001b[0;34m:\u001b[0m \u001b[0mval\u001b[0m \u001b[0;32mfor\u001b[0m \u001b[0mname\u001b[0m\u001b[0;34m,\u001b[0m \u001b[0mval\u001b[0m \u001b[0;32min\u001b[0m \u001b[0mval_logs\u001b[0m\u001b[0;34m.\u001b[0m\u001b[0mitems\u001b[0m\u001b[0;34m(\u001b[0m\u001b[0;34m)\u001b[0m\u001b[0;34m}\u001b[0m\u001b[0;34m\u001b[0m\u001b[0;34m\u001b[0m\u001b[0m\n\u001b[1;32m   1227\u001b[0m           \u001b[0mepoch_logs\u001b[0m\u001b[0;34m.\u001b[0m\u001b[0mupdate\u001b[0m\u001b[0;34m(\u001b[0m\u001b[0mval_logs\u001b[0m\u001b[0;34m)\u001b[0m\u001b[0;34m\u001b[0m\u001b[0;34m\u001b[0m\u001b[0m\n",
            "\u001b[0;32m/usr/local/lib/python3.7/dist-packages/tensorflow/python/keras/engine/training.py\u001b[0m in \u001b[0;36mevaluate\u001b[0;34m(self, x, y, batch_size, verbose, sample_weight, steps, callbacks, max_queue_size, workers, use_multiprocessing, return_dict, **kwargs)\u001b[0m\n\u001b[1;32m   1487\u001b[0m             \u001b[0;32mwith\u001b[0m \u001b[0mtrace\u001b[0m\u001b[0;34m.\u001b[0m\u001b[0mTrace\u001b[0m\u001b[0;34m(\u001b[0m\u001b[0;34m'test'\u001b[0m\u001b[0;34m,\u001b[0m \u001b[0mstep_num\u001b[0m\u001b[0;34m=\u001b[0m\u001b[0mstep\u001b[0m\u001b[0;34m,\u001b[0m \u001b[0m_r\u001b[0m\u001b[0;34m=\u001b[0m\u001b[0;36m1\u001b[0m\u001b[0;34m)\u001b[0m\u001b[0;34m:\u001b[0m\u001b[0;34m\u001b[0m\u001b[0;34m\u001b[0m\u001b[0m\n\u001b[1;32m   1488\u001b[0m               \u001b[0mcallbacks\u001b[0m\u001b[0;34m.\u001b[0m\u001b[0mon_test_batch_begin\u001b[0m\u001b[0;34m(\u001b[0m\u001b[0mstep\u001b[0m\u001b[0;34m)\u001b[0m\u001b[0;34m\u001b[0m\u001b[0;34m\u001b[0m\u001b[0m\n\u001b[0;32m-> 1489\u001b[0;31m               \u001b[0mtmp_logs\u001b[0m \u001b[0;34m=\u001b[0m \u001b[0mself\u001b[0m\u001b[0;34m.\u001b[0m\u001b[0mtest_function\u001b[0m\u001b[0;34m(\u001b[0m\u001b[0miterator\u001b[0m\u001b[0;34m)\u001b[0m\u001b[0;34m\u001b[0m\u001b[0;34m\u001b[0m\u001b[0m\n\u001b[0m\u001b[1;32m   1490\u001b[0m               \u001b[0;32mif\u001b[0m \u001b[0mdata_handler\u001b[0m\u001b[0;34m.\u001b[0m\u001b[0mshould_sync\u001b[0m\u001b[0;34m:\u001b[0m\u001b[0;34m\u001b[0m\u001b[0;34m\u001b[0m\u001b[0m\n\u001b[1;32m   1491\u001b[0m                 \u001b[0mcontext\u001b[0m\u001b[0;34m.\u001b[0m\u001b[0masync_wait\u001b[0m\u001b[0;34m(\u001b[0m\u001b[0;34m)\u001b[0m\u001b[0;34m\u001b[0m\u001b[0;34m\u001b[0m\u001b[0m\n",
            "\u001b[0;32m/usr/local/lib/python3.7/dist-packages/tensorflow/python/eager/def_function.py\u001b[0m in \u001b[0;36m__call__\u001b[0;34m(self, *args, **kwds)\u001b[0m\n\u001b[1;32m    887\u001b[0m \u001b[0;34m\u001b[0m\u001b[0m\n\u001b[1;32m    888\u001b[0m       \u001b[0;32mwith\u001b[0m \u001b[0mOptionalXlaContext\u001b[0m\u001b[0;34m(\u001b[0m\u001b[0mself\u001b[0m\u001b[0;34m.\u001b[0m\u001b[0m_jit_compile\u001b[0m\u001b[0;34m)\u001b[0m\u001b[0;34m:\u001b[0m\u001b[0;34m\u001b[0m\u001b[0;34m\u001b[0m\u001b[0m\n\u001b[0;32m--> 889\u001b[0;31m         \u001b[0mresult\u001b[0m \u001b[0;34m=\u001b[0m \u001b[0mself\u001b[0m\u001b[0;34m.\u001b[0m\u001b[0m_call\u001b[0m\u001b[0;34m(\u001b[0m\u001b[0;34m*\u001b[0m\u001b[0margs\u001b[0m\u001b[0;34m,\u001b[0m \u001b[0;34m**\u001b[0m\u001b[0mkwds\u001b[0m\u001b[0;34m)\u001b[0m\u001b[0;34m\u001b[0m\u001b[0;34m\u001b[0m\u001b[0m\n\u001b[0m\u001b[1;32m    890\u001b[0m \u001b[0;34m\u001b[0m\u001b[0m\n\u001b[1;32m    891\u001b[0m       \u001b[0mnew_tracing_count\u001b[0m \u001b[0;34m=\u001b[0m \u001b[0mself\u001b[0m\u001b[0;34m.\u001b[0m\u001b[0mexperimental_get_tracing_count\u001b[0m\u001b[0;34m(\u001b[0m\u001b[0;34m)\u001b[0m\u001b[0;34m\u001b[0m\u001b[0;34m\u001b[0m\u001b[0m\n",
            "\u001b[0;32m/usr/local/lib/python3.7/dist-packages/tensorflow/python/eager/def_function.py\u001b[0m in \u001b[0;36m_call\u001b[0;34m(self, *args, **kwds)\u001b[0m\n\u001b[1;32m    931\u001b[0m       \u001b[0;31m# This is the first call of __call__, so we have to initialize.\u001b[0m\u001b[0;34m\u001b[0m\u001b[0;34m\u001b[0m\u001b[0;34m\u001b[0m\u001b[0m\n\u001b[1;32m    932\u001b[0m       \u001b[0minitializers\u001b[0m \u001b[0;34m=\u001b[0m \u001b[0;34m[\u001b[0m\u001b[0;34m]\u001b[0m\u001b[0;34m\u001b[0m\u001b[0;34m\u001b[0m\u001b[0m\n\u001b[0;32m--> 933\u001b[0;31m       \u001b[0mself\u001b[0m\u001b[0;34m.\u001b[0m\u001b[0m_initialize\u001b[0m\u001b[0;34m(\u001b[0m\u001b[0margs\u001b[0m\u001b[0;34m,\u001b[0m \u001b[0mkwds\u001b[0m\u001b[0;34m,\u001b[0m \u001b[0madd_initializers_to\u001b[0m\u001b[0;34m=\u001b[0m\u001b[0minitializers\u001b[0m\u001b[0;34m)\u001b[0m\u001b[0;34m\u001b[0m\u001b[0;34m\u001b[0m\u001b[0m\n\u001b[0m\u001b[1;32m    934\u001b[0m     \u001b[0;32mfinally\u001b[0m\u001b[0;34m:\u001b[0m\u001b[0;34m\u001b[0m\u001b[0;34m\u001b[0m\u001b[0m\n\u001b[1;32m    935\u001b[0m       \u001b[0;31m# At this point we know that the initialization is complete (or less\u001b[0m\u001b[0;34m\u001b[0m\u001b[0;34m\u001b[0m\u001b[0;34m\u001b[0m\u001b[0m\n",
            "\u001b[0;32m/usr/local/lib/python3.7/dist-packages/tensorflow/python/eager/def_function.py\u001b[0m in \u001b[0;36m_initialize\u001b[0;34m(self, args, kwds, add_initializers_to)\u001b[0m\n\u001b[1;32m    762\u001b[0m     self._concrete_stateful_fn = (\n\u001b[1;32m    763\u001b[0m         self._stateful_fn._get_concrete_function_internal_garbage_collected(  # pylint: disable=protected-access\n\u001b[0;32m--> 764\u001b[0;31m             *args, **kwds))\n\u001b[0m\u001b[1;32m    765\u001b[0m \u001b[0;34m\u001b[0m\u001b[0m\n\u001b[1;32m    766\u001b[0m     \u001b[0;32mdef\u001b[0m \u001b[0minvalid_creator_scope\u001b[0m\u001b[0;34m(\u001b[0m\u001b[0;34m*\u001b[0m\u001b[0munused_args\u001b[0m\u001b[0;34m,\u001b[0m \u001b[0;34m**\u001b[0m\u001b[0munused_kwds\u001b[0m\u001b[0;34m)\u001b[0m\u001b[0;34m:\u001b[0m\u001b[0;34m\u001b[0m\u001b[0;34m\u001b[0m\u001b[0m\n",
            "\u001b[0;32m/usr/local/lib/python3.7/dist-packages/tensorflow/python/eager/function.py\u001b[0m in \u001b[0;36m_get_concrete_function_internal_garbage_collected\u001b[0;34m(self, *args, **kwargs)\u001b[0m\n\u001b[1;32m   3048\u001b[0m       \u001b[0margs\u001b[0m\u001b[0;34m,\u001b[0m \u001b[0mkwargs\u001b[0m \u001b[0;34m=\u001b[0m \u001b[0;32mNone\u001b[0m\u001b[0;34m,\u001b[0m \u001b[0;32mNone\u001b[0m\u001b[0;34m\u001b[0m\u001b[0;34m\u001b[0m\u001b[0m\n\u001b[1;32m   3049\u001b[0m     \u001b[0;32mwith\u001b[0m \u001b[0mself\u001b[0m\u001b[0;34m.\u001b[0m\u001b[0m_lock\u001b[0m\u001b[0;34m:\u001b[0m\u001b[0;34m\u001b[0m\u001b[0;34m\u001b[0m\u001b[0m\n\u001b[0;32m-> 3050\u001b[0;31m       \u001b[0mgraph_function\u001b[0m\u001b[0;34m,\u001b[0m \u001b[0m_\u001b[0m \u001b[0;34m=\u001b[0m \u001b[0mself\u001b[0m\u001b[0;34m.\u001b[0m\u001b[0m_maybe_define_function\u001b[0m\u001b[0;34m(\u001b[0m\u001b[0margs\u001b[0m\u001b[0;34m,\u001b[0m \u001b[0mkwargs\u001b[0m\u001b[0;34m)\u001b[0m\u001b[0;34m\u001b[0m\u001b[0;34m\u001b[0m\u001b[0m\n\u001b[0m\u001b[1;32m   3051\u001b[0m     \u001b[0;32mreturn\u001b[0m \u001b[0mgraph_function\u001b[0m\u001b[0;34m\u001b[0m\u001b[0;34m\u001b[0m\u001b[0m\n\u001b[1;32m   3052\u001b[0m \u001b[0;34m\u001b[0m\u001b[0m\n",
            "\u001b[0;32m/usr/local/lib/python3.7/dist-packages/tensorflow/python/eager/function.py\u001b[0m in \u001b[0;36m_maybe_define_function\u001b[0;34m(self, args, kwargs)\u001b[0m\n\u001b[1;32m   3442\u001b[0m \u001b[0;34m\u001b[0m\u001b[0m\n\u001b[1;32m   3443\u001b[0m           \u001b[0mself\u001b[0m\u001b[0;34m.\u001b[0m\u001b[0m_function_cache\u001b[0m\u001b[0;34m.\u001b[0m\u001b[0mmissed\u001b[0m\u001b[0;34m.\u001b[0m\u001b[0madd\u001b[0m\u001b[0;34m(\u001b[0m\u001b[0mcall_context_key\u001b[0m\u001b[0;34m)\u001b[0m\u001b[0;34m\u001b[0m\u001b[0;34m\u001b[0m\u001b[0m\n\u001b[0;32m-> 3444\u001b[0;31m           \u001b[0mgraph_function\u001b[0m \u001b[0;34m=\u001b[0m \u001b[0mself\u001b[0m\u001b[0;34m.\u001b[0m\u001b[0m_create_graph_function\u001b[0m\u001b[0;34m(\u001b[0m\u001b[0margs\u001b[0m\u001b[0;34m,\u001b[0m \u001b[0mkwargs\u001b[0m\u001b[0;34m)\u001b[0m\u001b[0;34m\u001b[0m\u001b[0;34m\u001b[0m\u001b[0m\n\u001b[0m\u001b[1;32m   3445\u001b[0m           \u001b[0mself\u001b[0m\u001b[0;34m.\u001b[0m\u001b[0m_function_cache\u001b[0m\u001b[0;34m.\u001b[0m\u001b[0mprimary\u001b[0m\u001b[0;34m[\u001b[0m\u001b[0mcache_key\u001b[0m\u001b[0;34m]\u001b[0m \u001b[0;34m=\u001b[0m \u001b[0mgraph_function\u001b[0m\u001b[0;34m\u001b[0m\u001b[0;34m\u001b[0m\u001b[0m\n\u001b[1;32m   3446\u001b[0m \u001b[0;34m\u001b[0m\u001b[0m\n",
            "\u001b[0;32m/usr/local/lib/python3.7/dist-packages/tensorflow/python/eager/function.py\u001b[0m in \u001b[0;36m_create_graph_function\u001b[0;34m(self, args, kwargs, override_flat_arg_shapes)\u001b[0m\n\u001b[1;32m   3287\u001b[0m             \u001b[0marg_names\u001b[0m\u001b[0;34m=\u001b[0m\u001b[0marg_names\u001b[0m\u001b[0;34m,\u001b[0m\u001b[0;34m\u001b[0m\u001b[0;34m\u001b[0m\u001b[0m\n\u001b[1;32m   3288\u001b[0m             \u001b[0moverride_flat_arg_shapes\u001b[0m\u001b[0;34m=\u001b[0m\u001b[0moverride_flat_arg_shapes\u001b[0m\u001b[0;34m,\u001b[0m\u001b[0;34m\u001b[0m\u001b[0;34m\u001b[0m\u001b[0m\n\u001b[0;32m-> 3289\u001b[0;31m             capture_by_value=self._capture_by_value),\n\u001b[0m\u001b[1;32m   3290\u001b[0m         \u001b[0mself\u001b[0m\u001b[0;34m.\u001b[0m\u001b[0m_function_attributes\u001b[0m\u001b[0;34m,\u001b[0m\u001b[0;34m\u001b[0m\u001b[0;34m\u001b[0m\u001b[0m\n\u001b[1;32m   3291\u001b[0m         \u001b[0mfunction_spec\u001b[0m\u001b[0;34m=\u001b[0m\u001b[0mself\u001b[0m\u001b[0;34m.\u001b[0m\u001b[0mfunction_spec\u001b[0m\u001b[0;34m,\u001b[0m\u001b[0;34m\u001b[0m\u001b[0;34m\u001b[0m\u001b[0m\n",
            "\u001b[0;32m/usr/local/lib/python3.7/dist-packages/tensorflow/python/framework/func_graph.py\u001b[0m in \u001b[0;36mfunc_graph_from_py_func\u001b[0;34m(name, python_func, args, kwargs, signature, func_graph, autograph, autograph_options, add_control_dependencies, arg_names, op_return_value, collections, capture_by_value, override_flat_arg_shapes)\u001b[0m\n\u001b[1;32m    997\u001b[0m         \u001b[0m_\u001b[0m\u001b[0;34m,\u001b[0m \u001b[0moriginal_func\u001b[0m \u001b[0;34m=\u001b[0m \u001b[0mtf_decorator\u001b[0m\u001b[0;34m.\u001b[0m\u001b[0munwrap\u001b[0m\u001b[0;34m(\u001b[0m\u001b[0mpython_func\u001b[0m\u001b[0;34m)\u001b[0m\u001b[0;34m\u001b[0m\u001b[0;34m\u001b[0m\u001b[0m\n\u001b[1;32m    998\u001b[0m \u001b[0;34m\u001b[0m\u001b[0m\n\u001b[0;32m--> 999\u001b[0;31m       \u001b[0mfunc_outputs\u001b[0m \u001b[0;34m=\u001b[0m \u001b[0mpython_func\u001b[0m\u001b[0;34m(\u001b[0m\u001b[0;34m*\u001b[0m\u001b[0mfunc_args\u001b[0m\u001b[0;34m,\u001b[0m \u001b[0;34m**\u001b[0m\u001b[0mfunc_kwargs\u001b[0m\u001b[0;34m)\u001b[0m\u001b[0;34m\u001b[0m\u001b[0;34m\u001b[0m\u001b[0m\n\u001b[0m\u001b[1;32m   1000\u001b[0m \u001b[0;34m\u001b[0m\u001b[0m\n\u001b[1;32m   1001\u001b[0m       \u001b[0;31m# invariant: `func_outputs` contains only Tensors, CompositeTensors,\u001b[0m\u001b[0;34m\u001b[0m\u001b[0;34m\u001b[0m\u001b[0;34m\u001b[0m\u001b[0m\n",
            "\u001b[0;32m/usr/local/lib/python3.7/dist-packages/tensorflow/python/eager/def_function.py\u001b[0m in \u001b[0;36mwrapped_fn\u001b[0;34m(*args, **kwds)\u001b[0m\n\u001b[1;32m    670\u001b[0m         \u001b[0;31m# the function a weak reference to itself to avoid a reference cycle.\u001b[0m\u001b[0;34m\u001b[0m\u001b[0;34m\u001b[0m\u001b[0;34m\u001b[0m\u001b[0m\n\u001b[1;32m    671\u001b[0m         \u001b[0;32mwith\u001b[0m \u001b[0mOptionalXlaContext\u001b[0m\u001b[0;34m(\u001b[0m\u001b[0mcompile_with_xla\u001b[0m\u001b[0;34m)\u001b[0m\u001b[0;34m:\u001b[0m\u001b[0;34m\u001b[0m\u001b[0;34m\u001b[0m\u001b[0m\n\u001b[0;32m--> 672\u001b[0;31m           \u001b[0mout\u001b[0m \u001b[0;34m=\u001b[0m \u001b[0mweak_wrapped_fn\u001b[0m\u001b[0;34m(\u001b[0m\u001b[0;34m)\u001b[0m\u001b[0;34m.\u001b[0m\u001b[0m__wrapped__\u001b[0m\u001b[0;34m(\u001b[0m\u001b[0;34m*\u001b[0m\u001b[0margs\u001b[0m\u001b[0;34m,\u001b[0m \u001b[0;34m**\u001b[0m\u001b[0mkwds\u001b[0m\u001b[0;34m)\u001b[0m\u001b[0;34m\u001b[0m\u001b[0;34m\u001b[0m\u001b[0m\n\u001b[0m\u001b[1;32m    673\u001b[0m         \u001b[0;32mreturn\u001b[0m \u001b[0mout\u001b[0m\u001b[0;34m\u001b[0m\u001b[0;34m\u001b[0m\u001b[0m\n\u001b[1;32m    674\u001b[0m \u001b[0;34m\u001b[0m\u001b[0m\n",
            "\u001b[0;32m/usr/local/lib/python3.7/dist-packages/tensorflow/python/framework/func_graph.py\u001b[0m in \u001b[0;36mwrapper\u001b[0;34m(*args, **kwargs)\u001b[0m\n\u001b[1;32m    984\u001b[0m           \u001b[0;32mexcept\u001b[0m \u001b[0mException\u001b[0m \u001b[0;32mas\u001b[0m \u001b[0me\u001b[0m\u001b[0;34m:\u001b[0m  \u001b[0;31m# pylint:disable=broad-except\u001b[0m\u001b[0;34m\u001b[0m\u001b[0;34m\u001b[0m\u001b[0m\n\u001b[1;32m    985\u001b[0m             \u001b[0;32mif\u001b[0m \u001b[0mhasattr\u001b[0m\u001b[0;34m(\u001b[0m\u001b[0me\u001b[0m\u001b[0;34m,\u001b[0m \u001b[0;34m\"ag_error_metadata\"\u001b[0m\u001b[0;34m)\u001b[0m\u001b[0;34m:\u001b[0m\u001b[0;34m\u001b[0m\u001b[0;34m\u001b[0m\u001b[0m\n\u001b[0;32m--> 986\u001b[0;31m               \u001b[0;32mraise\u001b[0m \u001b[0me\u001b[0m\u001b[0;34m.\u001b[0m\u001b[0mag_error_metadata\u001b[0m\u001b[0;34m.\u001b[0m\u001b[0mto_exception\u001b[0m\u001b[0;34m(\u001b[0m\u001b[0me\u001b[0m\u001b[0;34m)\u001b[0m\u001b[0;34m\u001b[0m\u001b[0;34m\u001b[0m\u001b[0m\n\u001b[0m\u001b[1;32m    987\u001b[0m             \u001b[0;32melse\u001b[0m\u001b[0;34m:\u001b[0m\u001b[0;34m\u001b[0m\u001b[0;34m\u001b[0m\u001b[0m\n\u001b[1;32m    988\u001b[0m               \u001b[0;32mraise\u001b[0m\u001b[0;34m\u001b[0m\u001b[0;34m\u001b[0m\u001b[0m\n",
            "\u001b[0;31mValueError\u001b[0m: in user code:\n\n    /usr/local/lib/python3.7/dist-packages/tensorflow/python/keras/engine/training.py:1323 test_function  *\n        return step_function(self, iterator)\n    /usr/local/lib/python3.7/dist-packages/tensorflow/python/keras/engine/training.py:1314 step_function  **\n        outputs = model.distribute_strategy.run(run_step, args=(data,))\n    /usr/local/lib/python3.7/dist-packages/tensorflow/python/distribute/distribute_lib.py:1285 run\n        return self._extended.call_for_each_replica(fn, args=args, kwargs=kwargs)\n    /usr/local/lib/python3.7/dist-packages/tensorflow/python/distribute/distribute_lib.py:2833 call_for_each_replica\n        return self._call_for_each_replica(fn, args, kwargs)\n    /usr/local/lib/python3.7/dist-packages/tensorflow/python/distribute/distribute_lib.py:3608 _call_for_each_replica\n        return fn(*args, **kwargs)\n    /usr/local/lib/python3.7/dist-packages/tensorflow/python/keras/engine/training.py:1307 run_step  **\n        outputs = model.test_step(data)\n    /usr/local/lib/python3.7/dist-packages/tensorflow/python/keras/engine/training.py:1266 test_step\n        y_pred = self(x, training=False)\n    /usr/local/lib/python3.7/dist-packages/tensorflow/python/keras/engine/base_layer.py:1013 __call__\n        input_spec.assert_input_compatibility(self.input_spec, inputs, self.name)\n    /usr/local/lib/python3.7/dist-packages/tensorflow/python/keras/engine/input_spec.py:219 assert_input_compatibility\n        str(tuple(shape)))\n\n    ValueError: Input 0 of layer sequential_3 is incompatible with the layer: expected ndim=3, found ndim=2. Full shape received: (None, 1)\n"
          ]
        }
      ]
    },
    {
      "cell_type": "markdown",
      "metadata": {
        "id": "HBTpF_Y82Q-h"
      },
      "source": [
        "#### Predict using the simple LSTM model\n",
        "Now that you have trained your simple LSTM, let's try and make a few predictions."
      ]
    },
    {
      "cell_type": "code",
      "metadata": {
        "id": "BuUN3E8Q2Q-i"
      },
      "source": [
        "for x, y in val_univariate.take(3):\n",
        "    plot = show_plot([x[0].numpy(), y[0].numpy(),\n",
        "                      simple_lstm_model.predict(x)[0]], 0, 'Simple LSTM model')\n",
        "    plot.show()"
      ],
      "execution_count": 49,
      "outputs": []
    },
    {
      "cell_type": "markdown",
      "metadata": {
        "id": "cccveFV22Q-i"
      },
      "source": [
        "This looks better than the baseline. Now that you have seen the basics, let's move on to part two, where you will work with a multivariate time series."
      ]
    },
    {
      "cell_type": "markdown",
      "metadata": {
        "id": "22qhuYAw2Q-i"
      },
      "source": [
        "## Part 2: Forecast a multivariate time series\n",
        "The original dataset contains **fourteen features**. For simplicity, this part **considers only three of the original fourteen**. The features used are air temperature, atmospheric pressure, and air density.\n",
        "\n",
        "To use more features, add their names to this list."
      ]
    },
    {
      "cell_type": "code",
      "metadata": {
        "id": "uruvOUW62Q-i"
      },
      "source": [
        "features_considered = ['p (mbar)', 'T (degC)', 'rho (g/m**3)']"
      ],
      "execution_count": 51,
      "outputs": []
    },
    {
      "cell_type": "code",
      "metadata": {
        "id": "kCpNAWgy2Q-i",
        "outputId": "7f22714f-d65d-4e0b-8684-5743dde277e2",
        "colab": {
          "base_uri": "https://localhost:8080/",
          "height": 225
        }
      },
      "source": [
        "features = df[features_considered]\n",
        "features.index = df['Date Time']\n",
        "features.head()"
      ],
      "execution_count": 52,
      "outputs": [
        {
          "output_type": "execute_result",
          "data": {
            "text/html": [
              "<div>\n",
              "<style scoped>\n",
              "    .dataframe tbody tr th:only-of-type {\n",
              "        vertical-align: middle;\n",
              "    }\n",
              "\n",
              "    .dataframe tbody tr th {\n",
              "        vertical-align: top;\n",
              "    }\n",
              "\n",
              "    .dataframe thead th {\n",
              "        text-align: right;\n",
              "    }\n",
              "</style>\n",
              "<table border=\"1\" class=\"dataframe\">\n",
              "  <thead>\n",
              "    <tr style=\"text-align: right;\">\n",
              "      <th></th>\n",
              "      <th>p (mbar)</th>\n",
              "      <th>T (degC)</th>\n",
              "      <th>rho (g/m**3)</th>\n",
              "    </tr>\n",
              "    <tr>\n",
              "      <th>Date Time</th>\n",
              "      <th></th>\n",
              "      <th></th>\n",
              "      <th></th>\n",
              "    </tr>\n",
              "  </thead>\n",
              "  <tbody>\n",
              "    <tr>\n",
              "      <th>01.01.2009 00:10:00</th>\n",
              "      <td>996.52</td>\n",
              "      <td>-8.02</td>\n",
              "      <td>1307.75</td>\n",
              "    </tr>\n",
              "    <tr>\n",
              "      <th>01.01.2009 00:20:00</th>\n",
              "      <td>996.57</td>\n",
              "      <td>-8.41</td>\n",
              "      <td>1309.80</td>\n",
              "    </tr>\n",
              "    <tr>\n",
              "      <th>01.01.2009 00:30:00</th>\n",
              "      <td>996.53</td>\n",
              "      <td>-8.51</td>\n",
              "      <td>1310.24</td>\n",
              "    </tr>\n",
              "    <tr>\n",
              "      <th>01.01.2009 00:40:00</th>\n",
              "      <td>996.51</td>\n",
              "      <td>-8.31</td>\n",
              "      <td>1309.19</td>\n",
              "    </tr>\n",
              "    <tr>\n",
              "      <th>01.01.2009 00:50:00</th>\n",
              "      <td>996.51</td>\n",
              "      <td>-8.27</td>\n",
              "      <td>1309.00</td>\n",
              "    </tr>\n",
              "  </tbody>\n",
              "</table>\n",
              "</div>"
            ],
            "text/plain": [
              "                     p (mbar)  T (degC)  rho (g/m**3)\n",
              "Date Time                                            \n",
              "01.01.2009 00:10:00    996.52     -8.02       1307.75\n",
              "01.01.2009 00:20:00    996.57     -8.41       1309.80\n",
              "01.01.2009 00:30:00    996.53     -8.51       1310.24\n",
              "01.01.2009 00:40:00    996.51     -8.31       1309.19\n",
              "01.01.2009 00:50:00    996.51     -8.27       1309.00"
            ]
          },
          "metadata": {
            "tags": []
          },
          "execution_count": 52
        }
      ]
    },
    {
      "cell_type": "markdown",
      "metadata": {
        "id": "eYNlTbU52Q-i"
      },
      "source": [
        "Let's have a look at how each of these features vary across time."
      ]
    },
    {
      "cell_type": "code",
      "metadata": {
        "id": "ClDQ5-ut2Q-j"
      },
      "source": [
        "features.plot(subplots=True)"
      ],
      "execution_count": null,
      "outputs": []
    },
    {
      "cell_type": "markdown",
      "metadata": {
        "id": "SBs0i9Qv2Q-j"
      },
      "source": [
        "As mentioned, the **first step will be to normalize the dataset** using the mean and standard deviation of the training data."
      ]
    },
    {
      "cell_type": "code",
      "metadata": {
        "id": "wlHLy5DA2Q-j"
      },
      "source": [
        "dataset = features.values\n",
        "data_mean = dataset.mean(axis=0)# write your code #\n",
        "data_std = dataset.std(axis=0)# write your code #"
      ],
      "execution_count": 53,
      "outputs": []
    },
    {
      "cell_type": "code",
      "metadata": {
        "id": "fHv4O1cj2Q-j"
      },
      "source": [
        "dataset = (dataset-data_mean)/data_std# write your code #"
      ],
      "execution_count": 54,
      "outputs": []
    },
    {
      "cell_type": "markdown",
      "metadata": {
        "id": "PF1eL2AC2Q-j"
      },
      "source": [
        "#### Single step model\n",
        "In a single step setup, **the model learns to predict a single point** in the future based on some history provided.\n",
        "\n",
        "The below function performs the same windowing task as below, however, here it samples the past observation based on the step size given."
      ]
    },
    {
      "cell_type": "code",
      "metadata": {
        "id": "-mH_whxW2Q-j"
      },
      "source": [
        "def multivariate_data(dataset, target, start_index, end_index, history_size,\n",
        "                      target_size, step, single_step=False):\n",
        "    data = []\n",
        "    labels = []\n",
        "\n",
        "    start_index = start_index + history_size\n",
        "    if end_index is None:\n",
        "        end_index = len(dataset) - target_size\n",
        "\n",
        "    for i in range(start_index, end_index):\n",
        "        indices = range(i-history_size, i, step)\n",
        "        data.append(dataset[indices])\n",
        "        \n",
        "        \n",
        "        if single_step:\n",
        "            labels.append(target[i+target_size])\n",
        "        else:\n",
        "            labels.append(target[i:i+target_size])\n",
        "\n",
        "    return np.array(data), np.array(labels)"
      ],
      "execution_count": 55,
      "outputs": []
    },
    {
      "cell_type": "markdown",
      "metadata": {
        "id": "DQYblxeY2Q-j"
      },
      "source": [
        "In this practice, the network will be given past 20 observations, but now each observations have three different features. Therefore, the amount of information the model can refer when making predictions has increased. But at the same time, the amount of information the model has to learn during training has also increased.\n",
        "\n",
        "Similar to what we did above, our model will be given the last 20 recorded temperature observations and learn to predict the temperature of the next time step."
      ]
    },
    {
      "cell_type": "code",
      "metadata": {
        "id": "zAOx_v7f2Q-k"
      },
      "source": [
        "past_history = 20\n",
        "future_target = 0\n",
        "STEP = 1\n",
        "\n",
        "x_train_single, y_train_single = multivariate_data(dataset, dataset[:, 1], 0,\n",
        "                                                   TRAIN_SPLIT, past_history,\n",
        "                                                   future_target, STEP,\n",
        "                                                   single_step=True)\n",
        "\n",
        "x_val_single, y_val_single = multivariate_data(dataset, dataset[:, 1],\n",
        "                                               TRAIN_SPLIT, None, past_history,\n",
        "                                               future_target, STEP,\n",
        "                                               single_step=True)"
      ],
      "execution_count": 56,
      "outputs": []
    },
    {
      "cell_type": "markdown",
      "metadata": {
        "id": "JZemopaO2Q-k"
      },
      "source": [
        "Let's look at a single data-point."
      ]
    },
    {
      "cell_type": "code",
      "metadata": {
        "id": "9i2AR5xk2Q-k",
        "outputId": "3ef6f7e7-db41-47c1-e6fb-bd527ba0bf20",
        "colab": {
          "base_uri": "https://localhost:8080/"
        }
      },
      "source": [
        "# 20 observations with 3 features \n",
        "print ('Single window of past history : {}'.format(x_train_single[0].shape))"
      ],
      "execution_count": 57,
      "outputs": [
        {
          "output_type": "stream",
          "text": [
            "Single window of past history : (20, 3)\n"
          ],
          "name": "stdout"
        }
      ]
    },
    {
      "cell_type": "code",
      "metadata": {
        "id": "BCbjBBCr2Q-k"
      },
      "source": [
        "train_data_single = tf.data.Dataset.from_tensor_slices((x_train_single, y_train_single))\n",
        "train_data_single = train_data_single.cache().shuffle(BUFFER_SIZE).batch(BATCH_SIZE).repeat()\n",
        "\n",
        "val_data_single = tf.data.Dataset.from_tensor_slices((x_val_single, y_val_single))\n",
        "val_data_single = val_data_single.batch(BATCH_SIZE).repeat()"
      ],
      "execution_count": 58,
      "outputs": []
    },
    {
      "cell_type": "markdown",
      "metadata": {
        "id": "nSembmoj2Q-k"
      },
      "source": [
        "Now we will make `single_step_model` that has one LSTM with 32 units and one Dense layer with 1 unit."
      ]
    },
    {
      "cell_type": "code",
      "metadata": {
        "id": "wvLH-wDK2Q-k"
      },
      "source": [
        "single_step_model = tf.keras.models.Sequential([\n",
        "    tf.keras.layers.LSTM(32),\n",
        "    tf.keras.layers.Dense(1)\n",
        "    ###################\n",
        "    #                 #\n",
        "    # write your code #\n",
        "    #                 #\n",
        "    ###################\n",
        "    \n",
        "])\n",
        "\n",
        "# mae : mean absolute error\n",
        "single_step_model.compile(optimizer='rmsprop', loss='mae')"
      ],
      "execution_count": 59,
      "outputs": []
    },
    {
      "cell_type": "markdown",
      "metadata": {
        "id": "SgMD0h9p2Q-l"
      },
      "source": [
        "Now we will train our model and plot the training and validation loss on the graph."
      ]
    },
    {
      "cell_type": "code",
      "metadata": {
        "id": "0tpvrVV02Q-l",
        "outputId": "401f7bda-7963-4fd9-a4d6-f04f52a6551d",
        "colab": {
          "base_uri": "https://localhost:8080/"
        }
      },
      "source": [
        "EVALUATION_INTERVAL = 200\n",
        "EPOCHS = 10\n",
        "\n",
        "single_step_history = single_step_model.fit(train_data_single, epochs=EPOCHS,\n",
        "                                            steps_per_epoch=EVALUATION_INTERVAL,\n",
        "                                            validation_data=val_data_single,\n",
        "                                            validation_steps=50)"
      ],
      "execution_count": 60,
      "outputs": [
        {
          "output_type": "stream",
          "text": [
            "Epoch 1/10\n",
            "200/200 [==============================] - 63s 305ms/step - loss: 0.1523 - val_loss: 0.0351\n",
            "Epoch 2/10\n",
            "200/200 [==============================] - 4s 20ms/step - loss: 0.0424 - val_loss: 0.0273\n",
            "Epoch 3/10\n",
            "200/200 [==============================] - 4s 21ms/step - loss: 0.0354 - val_loss: 0.0264\n",
            "Epoch 4/10\n",
            "200/200 [==============================] - 4s 21ms/step - loss: 0.0315 - val_loss: 0.0232\n",
            "Epoch 5/10\n",
            "200/200 [==============================] - 4s 22ms/step - loss: 0.0268 - val_loss: 0.0233\n",
            "Epoch 6/10\n",
            "200/200 [==============================] - 4s 22ms/step - loss: 0.0273 - val_loss: 0.0187\n",
            "Epoch 7/10\n",
            "200/200 [==============================] - 4s 22ms/step - loss: 0.0253 - val_loss: 0.0203\n",
            "Epoch 8/10\n",
            "200/200 [==============================] - 4s 21ms/step - loss: 0.0245 - val_loss: 0.0180\n",
            "Epoch 9/10\n",
            "200/200 [==============================] - 4s 21ms/step - loss: 0.0234 - val_loss: 0.0212\n",
            "Epoch 10/10\n",
            "200/200 [==============================] - 5s 23ms/step - loss: 0.0218 - val_loss: 0.0161\n"
          ],
          "name": "stdout"
        }
      ]
    },
    {
      "cell_type": "code",
      "metadata": {
        "id": "K2yxtuRb2Q-l"
      },
      "source": [
        "def plot_train_history(history, title):\n",
        "    loss = history.history['loss']\n",
        "    val_loss = history.history['val_loss']\n",
        "\n",
        "    epochs = range(len(loss))\n",
        "\n",
        "    plt.figure()\n",
        "\n",
        "    plt.plot(epochs, loss, 'b', label='Training loss')\n",
        "    plt.plot(epochs, val_loss, 'r', label='Validation loss')\n",
        "    plt.title(title)\n",
        "    plt.legend()\n",
        "\n",
        "    plt.show()"
      ],
      "execution_count": 61,
      "outputs": []
    },
    {
      "cell_type": "code",
      "metadata": {
        "id": "ouZ0_fQC2Q-l",
        "outputId": "9278c054-410d-4ec5-804f-6c1c89eefb4e",
        "colab": {
          "base_uri": "https://localhost:8080/",
          "height": 281
        }
      },
      "source": [
        "plot_train_history(single_step_history,\n",
        "                   'Single Step Training and validation loss')"
      ],
      "execution_count": 62,
      "outputs": [
        {
          "output_type": "display_data",
          "data": {
            "image/png": "[encoded data removed]",
            "text/plain": [
              "<Figure size 432x288 with 1 Axes>"
            ]
          },
          "metadata": {
            "tags": [],
            "needs_background": "light"
          }
        }
      ]
    },
    {
      "cell_type": "markdown",
      "metadata": {
        "id": "RWWJ8gEd2Q-l"
      },
      "source": [
        "#### Predict a single step future\n",
        "Now that the model is trained, let's make a few sample predictions."
      ]
    },
    {
      "cell_type": "code",
      "metadata": {
        "id": "Fvi4C5ub2Q-l",
        "outputId": "c88a0ad0-cf04-4c8a-fc21-f3ec4d34c1d4",
        "colab": {
          "base_uri": "https://localhost:8080/",
          "height": 851
        }
      },
      "source": [
        "for x, y in val_data_single.take(3):\n",
        "    plot = show_plot([x[0][:, 1].numpy(), y[0].numpy(),\n",
        "                    single_step_model.predict(x)[0]], 0,\n",
        "                   'Single Step Prediction')\n",
        "    \n",
        "    plot.show()"
      ],
      "execution_count": 63,
      "outputs": [
        {
          "output_type": "display_data",
          "data": {
            "image/png": "[encoded data removed]",
            "text/plain": [
              "<Figure size 432x288 with 1 Axes>"
            ]
          },
          "metadata": {
            "tags": [],
            "needs_background": "light"
          }
        },
        {
          "output_type": "display_data",
          "data": {
            "image/png": "[encoded data removed]",
            "text/plain": [
              "<Figure size 432x288 with 1 Axes>"
            ]
          },
          "metadata": {
            "tags": [],
            "needs_background": "light"
          }
        },
        {
          "output_type": "display_data",
          "data": {
            "image/png": "[encoded data removed]",
            "text/plain": [
              "<Figure size 432x288 with 1 Axes>"
            ]
          },
          "metadata": {
            "tags": [],
            "needs_background": "light"
          }
        }
      ]
    },
    {
      "cell_type": "markdown",
      "metadata": {
        "id": "GsZBo6nD2Q-m"
      },
      "source": [
        "When we compare our model's prediction with the univariate model, it seems that our model makes predictions better.\n",
        "\n",
        "##### Will increasing the number of features always increase performance?\n",
        "\n",
        "It depends on your dataset. While some features have very useful information for your model's prediction, some features may not. In our multivariate model, air density seems to be a little more useful for predicting temperature rather than atmospheric pressure (temperature and air density seems to be in inverse proportion). So when there are many features we can utilize, **deciding which features to include in the training** is also an important issue. "
      ]
    },
    {
      "cell_type": "markdown",
      "metadata": {
        "id": "5HftDKUJ2Q-m"
      },
      "source": [
        "Although there are various methods for choosing which features to use (e.g. using the feature's statistics, PCA, embedding, etc.), we will not cover them in this practice."
      ]
    },
    {
      "cell_type": "markdown",
      "metadata": {
        "id": "GUFNc6ml2Q-m"
      },
      "source": [
        "<br/><br/>\n",
        "\n",
        "#### Multi-step prediction model\n",
        "\n",
        "In a multi-step prediction model, given a past history, the model needs to learn to **predict a range of future values**. Thus, unlike a single step model, where only a single future point is predicted, **a multi-step model predict a sequence of the future**.\n",
        "\n",
        "For the multi-step model, **the training data again consists of past 20 observations that have three different features**. However, now the model needs to learn to predict the temperature for the next 3 time steps. For this task, the dataset needs to be preprocessed again so that each target object has 3 labels.\n",
        "\n",
        "\n",
        "<br/><br/>\n",
        "<img src=\"https://github.com/mikodham/CS470/blob/main/Lab3/May%2013/images/multi.png?raw=1\" alt=\"Drawing\" style=\"width: 800px;\"/>"
      ]
    },
    {
      "cell_type": "code",
      "metadata": {
        "id": "x_FC6Eki2Q-m",
        "outputId": "313b167e-f53f-407d-876e-16a361829b33",
        "colab": {
          "base_uri": "https://localhost:8080/",
          "height": 313
        }
      },
      "source": [
        "past_history = 20\n",
        "future_target = 0\n",
        "STEP = 1\n",
        "future_target = 3\n",
        "\n",
        "x_train_multi, y_train_multi = multivariate_data(dataset[:,1],0,TRAIN_SPLIT, 1,past_history, future_target, STEP, single_step=False)# write your code #\n",
        "x_val_multi, y_val_multi = multivariate_data(dataset[:,1],0,TRAIN_SPLIT, None, past_history, future_target, STEP, single_step=False)# write your code #"
      ],
      "execution_count": 70,
      "outputs": [
        {
          "output_type": "error",
          "ename": "TypeError",
          "evalue": "ignored",
          "traceback": [
            "\u001b[0;31m---------------------------------------------------------------------------\u001b[0m",
            "\u001b[0;31mTypeError\u001b[0m                                 Traceback (most recent call last)",
            "\u001b[0;32m<ipython-input-70-6759694fcf6e>\u001b[0m in \u001b[0;36m<module>\u001b[0;34m()\u001b[0m\n\u001b[1;32m      5\u001b[0m \u001b[0;34m\u001b[0m\u001b[0m\n\u001b[1;32m      6\u001b[0m \u001b[0mx_train_multi\u001b[0m\u001b[0;34m,\u001b[0m \u001b[0my_train_multi\u001b[0m \u001b[0;34m=\u001b[0m \u001b[0mmultivariate_data\u001b[0m\u001b[0;34m(\u001b[0m\u001b[0mdataset\u001b[0m\u001b[0;34m[\u001b[0m\u001b[0;34m:\u001b[0m\u001b[0;34m,\u001b[0m\u001b[0;36m1\u001b[0m\u001b[0;34m]\u001b[0m\u001b[0;34m,\u001b[0m\u001b[0;36m0\u001b[0m\u001b[0;34m,\u001b[0m\u001b[0mTRAIN_SPLIT\u001b[0m\u001b[0;34m,\u001b[0m \u001b[0;36m1\u001b[0m\u001b[0;34m,\u001b[0m\u001b[0mpast_history\u001b[0m\u001b[0;34m,\u001b[0m \u001b[0mfuture_target\u001b[0m\u001b[0;34m,\u001b[0m \u001b[0mSTEP\u001b[0m\u001b[0;34m,\u001b[0m \u001b[0msingle_step\u001b[0m\u001b[0;34m=\u001b[0m\u001b[0;32mFalse\u001b[0m\u001b[0;34m)\u001b[0m\u001b[0;31m# write your code #\u001b[0m\u001b[0;34m\u001b[0m\u001b[0;34m\u001b[0m\u001b[0m\n\u001b[0;32m----> 7\u001b[0;31m \u001b[0mx_val_multi\u001b[0m\u001b[0;34m,\u001b[0m \u001b[0my_val_multi\u001b[0m \u001b[0;34m=\u001b[0m \u001b[0mmultivariate_data\u001b[0m\u001b[0;34m(\u001b[0m\u001b[0mdataset\u001b[0m\u001b[0;34m[\u001b[0m\u001b[0;34m:\u001b[0m\u001b[0;34m,\u001b[0m\u001b[0;36m1\u001b[0m\u001b[0;34m]\u001b[0m\u001b[0;34m,\u001b[0m\u001b[0;36m0\u001b[0m\u001b[0;34m,\u001b[0m\u001b[0mTRAIN_SPLIT\u001b[0m\u001b[0;34m,\u001b[0m \u001b[0;32mNone\u001b[0m\u001b[0;34m,\u001b[0m \u001b[0mpast_history\u001b[0m\u001b[0;34m,\u001b[0m \u001b[0mfuture_target\u001b[0m\u001b[0;34m,\u001b[0m \u001b[0mSTEP\u001b[0m\u001b[0;34m,\u001b[0m \u001b[0msingle_step\u001b[0m\u001b[0;34m=\u001b[0m\u001b[0;32mFalse\u001b[0m\u001b[0;34m)\u001b[0m\u001b[0;31m# write your code #\u001b[0m\u001b[0;34m\u001b[0m\u001b[0;34m\u001b[0m\u001b[0m\n\u001b[0m",
            "\u001b[0;32m<ipython-input-55-8ff2fd4b5e02>\u001b[0m in \u001b[0;36mmultivariate_data\u001b[0;34m(dataset, target, start_index, end_index, history_size, target_size, step, single_step)\u001b[0m\n\u001b[1;32m     16\u001b[0m             \u001b[0mlabels\u001b[0m\u001b[0;34m.\u001b[0m\u001b[0mappend\u001b[0m\u001b[0;34m(\u001b[0m\u001b[0mtarget\u001b[0m\u001b[0;34m[\u001b[0m\u001b[0mi\u001b[0m\u001b[0;34m+\u001b[0m\u001b[0mtarget_size\u001b[0m\u001b[0;34m]\u001b[0m\u001b[0;34m)\u001b[0m\u001b[0;34m\u001b[0m\u001b[0;34m\u001b[0m\u001b[0m\n\u001b[1;32m     17\u001b[0m         \u001b[0;32melse\u001b[0m\u001b[0;34m:\u001b[0m\u001b[0;34m\u001b[0m\u001b[0;34m\u001b[0m\u001b[0m\n\u001b[0;32m---> 18\u001b[0;31m             \u001b[0mlabels\u001b[0m\u001b[0;34m.\u001b[0m\u001b[0mappend\u001b[0m\u001b[0;34m(\u001b[0m\u001b[0mtarget\u001b[0m\u001b[0;34m[\u001b[0m\u001b[0mi\u001b[0m\u001b[0;34m:\u001b[0m\u001b[0mi\u001b[0m\u001b[0;34m+\u001b[0m\u001b[0mtarget_size\u001b[0m\u001b[0;34m]\u001b[0m\u001b[0;34m)\u001b[0m\u001b[0;34m\u001b[0m\u001b[0;34m\u001b[0m\u001b[0m\n\u001b[0m\u001b[1;32m     19\u001b[0m \u001b[0;34m\u001b[0m\u001b[0m\n\u001b[1;32m     20\u001b[0m     \u001b[0;32mreturn\u001b[0m \u001b[0mnp\u001b[0m\u001b[0;34m.\u001b[0m\u001b[0marray\u001b[0m\u001b[0;34m(\u001b[0m\u001b[0mdata\u001b[0m\u001b[0;34m)\u001b[0m\u001b[0;34m,\u001b[0m \u001b[0mnp\u001b[0m\u001b[0;34m.\u001b[0m\u001b[0marray\u001b[0m\u001b[0;34m(\u001b[0m\u001b[0mlabels\u001b[0m\u001b[0;34m)\u001b[0m\u001b[0;34m\u001b[0m\u001b[0;34m\u001b[0m\u001b[0m\n",
            "\u001b[0;31mTypeError\u001b[0m: 'int' object is not subscriptable"
          ]
        }
      ]
    },
    {
      "cell_type": "markdown",
      "metadata": {
        "id": "UfKvlLAp2Q-m"
      },
      "source": [
        "Let's check out a sample data-point."
      ]
    },
    {
      "cell_type": "code",
      "metadata": {
        "id": "CUYFUifg2Q-m"
      },
      "source": [
        "print ('Single window of past history : {}'.format(x_train_multi[0].shape))\n",
        "print ('\\nTarget temperature to predict : {}'.format(y_train_multi[0].shape))"
      ],
      "execution_count": null,
      "outputs": []
    },
    {
      "cell_type": "code",
      "metadata": {
        "id": "_zbJ_iZL2Q-n"
      },
      "source": [
        "train_data_multi = tf.data.Dataset.from_tensor_slices((x_train_multi, y_train_multi))\n",
        "train_data_multi = train_data_multi.cache().shuffle(BUFFER_SIZE).batch(BATCH_SIZE).repeat()\n",
        "\n",
        "val_data_multi = tf.data.Dataset.from_tensor_slices((x_val_multi, y_val_multi))\n",
        "val_data_multi = val_data_multi.batch(BATCH_SIZE).repeat()"
      ],
      "execution_count": null,
      "outputs": []
    },
    {
      "cell_type": "markdown",
      "metadata": {
        "id": "FWFiqk9f2Q-n"
      },
      "source": [
        "`multi_step_plot` is a helper function that visualizes many True/Predicted points on the plot."
      ]
    },
    {
      "cell_type": "code",
      "metadata": {
        "id": "vDk7c2hj2Q-n"
      },
      "source": [
        "def multi_step_plot(history, true_future, prediction):\n",
        "    plt.figure(figsize=(12, 6))\n",
        "    num_in = range(-len(history),0)\n",
        "    num_out = len(true_future)\n",
        "\n",
        "    plt.plot(num_in, np.array(history[:, 1]), label='History')\n",
        "    plt.plot(np.arange(num_out)/STEP, np.array(true_future), 'bo',\n",
        "           label='True Future')\n",
        "    if prediction.any():\n",
        "        plt.plot(np.arange(num_out)/STEP, np.array(prediction), 'ro',\n",
        "                 label='Predicted Future')\n",
        "    plt.legend(loc='upper left')\n",
        "    plt.show()"
      ],
      "execution_count": null,
      "outputs": []
    },
    {
      "cell_type": "code",
      "metadata": {
        "id": "3005p7xk2Q-n"
      },
      "source": [
        "for x, y in train_data_multi.take(1):\n",
        "    multi_step_plot(x[0], y[0], np.array([0]))"
      ],
      "execution_count": null,
      "outputs": []
    },
    {
      "cell_type": "markdown",
      "metadata": {
        "id": "j9MdKz0Q2Q-n"
      },
      "source": [
        "Since the task here is a bit more complicated than the previous task, **the model now consists of two LSTM layers**. \n",
        "\n",
        "`multi_step_model` will have\n",
        "- LSTM with 32 units as input\n",
        "- LSTM with 16 units\n",
        "- Dense layer with 3 units\n",
        "\n",
        "Note that the last Dense layer has 3 nodes in order to predict 3 target values."
      ]
    },
    {
      "cell_type": "code",
      "metadata": {
        "id": "pKcTYMKV2Q-n"
      },
      "source": [
        "multi_step_model = tf.keras.models.Sequential([\n",
        "    tf.layers.keras.LSTM(32, return_sequences=True),\n",
        "    tf.layers.keras.LSTM(16), \n",
        "    tf.layers.keras.Dense(3)\n",
        "    ###################\n",
        "    #                 #\n",
        "    # write your code #\n",
        "    #                 #\n",
        "    ###################\n",
        "    \n",
        "])\n",
        "\n",
        "multi_step_model.compile(optimizer=tf.keras.optimizers.RMSprop(clipvalue=1.0), loss='mae')"
      ],
      "execution_count": null,
      "outputs": []
    },
    {
      "cell_type": "code",
      "metadata": {
        "id": "wiQSSroN2Q-n"
      },
      "source": [
        "EVALUATION_INTERVAL = 200\n",
        "EPOCHS = 10\n",
        "\n",
        "multi_step_history = multi_step_model.fit(train_data_multi, epochs=EPOCHS,\n",
        "                                          steps_per_epoch=EVALUATION_INTERVAL,\n",
        "                                          validation_data=val_data_multi,\n",
        "                                          validation_steps=50)"
      ],
      "execution_count": null,
      "outputs": []
    },
    {
      "cell_type": "code",
      "metadata": {
        "id": "RwxUbyyD2Q-o"
      },
      "source": [
        "plot_train_history(multi_step_history, 'Multi-Step Training and validation loss')"
      ],
      "execution_count": null,
      "outputs": []
    },
    {
      "cell_type": "markdown",
      "metadata": {
        "id": "mYrv7EP82Q-o"
      },
      "source": [
        "#### Predict a multi-step future\n",
        "Let's now have a look at how well your network has learnt to predict the future. "
      ]
    },
    {
      "cell_type": "code",
      "metadata": {
        "id": "efZ3sF4_2Q-o"
      },
      "source": [
        "for x, y in val_data_multi.take(3):\n",
        "    multi_step_plot(x[0], y[0], multi_step_model.predict(x)[0])"
      ],
      "execution_count": null,
      "outputs": []
    },
    {
      "cell_type": "markdown",
      "metadata": {
        "id": "9_vDe3T42Q-o"
      },
      "source": [
        "You can experiment with various model configurations and select best one. Your options are as follows:\n",
        "\n",
        "- Increasae/decrease the context length\n",
        "- Change the number of labels the model will predict\n",
        "- Change the number of parameters of LSTM\n",
        "- Change features to include in learning"
      ]
    }
  ]
}