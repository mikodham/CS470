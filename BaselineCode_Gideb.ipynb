{
  "nbformat": 4,
  "nbformat_minor": 0,
  "metadata": {
    "colab": {
      "name": "BaselineCode_Gideb.ipynb",
      "provenance": [],
      "collapsed_sections": [
        "Lxw3xI1mOWG3",
        "byN4CqlqGKYy",
        "VE7zzrCsykEa",
        "L4Ehvsc2oJ9k",
        "0AygbYFzMYZv",
        "kUdww3ymJ_DH",
        "egTEPxo9OchU",
        "Nbc-_w18KBat"
      ],
      "include_colab_link": true
    },
    "kernelspec": {
      "name": "python3",
      "display_name": "Python 3"
    },
    "language_info": {
      "name": "python"
    },
    "accelerator": "GPU"
  },
  "cells": [
    {
      "cell_type": "markdown",
      "metadata": {
        "id": "view-in-github",
        "colab_type": "text"
      },
      "source": [
        "<a href=\"https://colab.research.google.com/github/mikodham/CS470/blob/main/BaselineCode_Gideb.ipynb\" target=\"_parent\"><img src=\"https://colab.research.google.com/assets/colab-badge.svg\" alt=\"Open In Colab\"/></a>"
      ]
    },
    {
      "cell_type": "markdown",
      "metadata": {
        "id": "Lxw3xI1mOWG3"
      },
      "source": [
        "#SETUP"
      ]
    },
    {
      "cell_type": "code",
      "metadata": {
        "id": "Ube4tF_nAFjV",
        "colab": {
          "base_uri": "https://localhost:8080/"
        },
        "outputId": "a304fce2-9e34-44e5-f7bf-01a1fa62f1d9"
      },
      "source": [
        "''' INITIALIZATION '''\n",
        "# 1st option, upload on ur gdrive\n",
        "# from google.colab import files\n",
        "# files.upload()\n",
        "# 2nd option, just drag the folder from your folder to drive/content/\n",
        "\n",
        "import os \n",
        "import urllib\n",
        "from getpass import getpass\n",
        "user = getpass('GitHub user')\n",
        "password = getpass('GitHub password')\n",
        "password = urllib.parse.quote(password)\n",
        "os.environ['GITHUB_AUTH'] = user + ':' + password\n",
        "del password\n",
        "\n",
        "# 3rd option, git clone\n",
        "!pwd\n",
        "!rm -rf descry-gideb_trial  # FOR UPDATING DATASET DO NOT RUN THIS LINE\n",
        "!git clone https://$GITHUB_AUTH@github.com/mikodham/descry-gideb_trial.git \n",
        "\n",
        "del os.environ['GITHUB_AUTH']\n"
      ],
      "execution_count": 1,
      "outputs": [
        {
          "output_type": "stream",
          "text": [
            "GitHub user··········\n",
            "GitHub password··········\n",
            "/content\n",
            "Cloning into 'descry-gideb_trial'...\n",
            "remote: Enumerating objects: 3935, done.\u001b[K\n",
            "remote: Counting objects: 100% (181/181), done.\u001b[K\n",
            "remote: Compressing objects: 100% (96/96), done.\u001b[K\n",
            "remote: Total 3935 (delta 84), reused 179 (delta 82), pack-reused 3754\u001b[K\n",
            "Receiving objects: 100% (3935/3935), 548.64 MiB | 39.24 MiB/s, done.\n",
            "Resolving deltas: 100% (450/450), done.\n"
          ],
          "name": "stdout"
        }
      ]
    },
    {
      "cell_type": "code",
      "metadata": {
        "colab": {
          "base_uri": "https://localhost:8080/",
          "height": 0
        },
        "id": "Rp7RsiW6pwhG",
        "outputId": "9e4f6be8-30fe-472d-a88f-d24f0c1fd29c"
      },
      "source": [
        "#Set-up Directory\n",
        "gitdir = os.path.join(os.getcwd(), \"descry-gideb_trial\")\n",
        "gitdir\n"
      ],
      "execution_count": 2,
      "outputs": [
        {
          "output_type": "execute_result",
          "data": {
            "application/vnd.google.colaboratory.intrinsic+json": {
              "type": "string"
            },
            "text/plain": [
              "'/content/descry-gideb_trial'"
            ]
          },
          "metadata": {
            "tags": []
          },
          "execution_count": 2
        }
      ]
    },
    {
      "cell_type": "code",
      "metadata": {
        "id": "kbcfvm7SGDda",
        "colab": {
          "base_uri": "https://localhost:8080/"
        },
        "outputId": "5e964a60-f907-4607-c583-27d8111aa3ca"
      },
      "source": [
        "#REQUIREMENTS, #don't forget to turn on gpu\n",
        "!pip3 install sklearn gensim xgboost keras konlpy~=0.5.2 emoji\n",
        "!pip3 install nltk~=3.5\n",
        "!sudo apt-get install g++ openjdk-8-jdk curl\n",
        "!pip3 install -r descry-gideb_trial/requirements.txt\n"
      ],
      "execution_count": 3,
      "outputs": [
        {
          "output_type": "stream",
          "text": [
            "Requirement already satisfied: sklearn in /usr/local/lib/python3.7/dist-packages (0.0)\n",
            "Requirement already satisfied: gensim in /usr/local/lib/python3.7/dist-packages (3.6.0)\n",
            "Requirement already satisfied: xgboost in /usr/local/lib/python3.7/dist-packages (0.90)\n",
            "Requirement already satisfied: keras in /usr/local/lib/python3.7/dist-packages (2.4.3)\n",
            "Collecting konlpy~=0.5.2\n",
            "  Downloading konlpy-0.5.2-py2.py3-none-any.whl (19.4 MB)\n",
            "\u001b[K     |████████████████████████████████| 19.4 MB 1.1 MB/s \n",
            "\u001b[?25hCollecting emoji\n",
            "  Downloading emoji-1.4.2.tar.gz (184 kB)\n",
            "\u001b[K     |████████████████████████████████| 184 kB 64.6 MB/s \n",
            "\u001b[?25hCollecting beautifulsoup4==4.6.0\n",
            "  Downloading beautifulsoup4-4.6.0-py3-none-any.whl (86 kB)\n",
            "\u001b[K     |████████████████████████████████| 86 kB 7.4 MB/s \n",
            "\u001b[?25hCollecting colorama\n",
            "  Downloading colorama-0.4.4-py2.py3-none-any.whl (16 kB)\n",
            "Requirement already satisfied: tweepy>=3.7.0 in /usr/local/lib/python3.7/dist-packages (from konlpy~=0.5.2) (3.10.0)\n",
            "Requirement already satisfied: numpy>=1.6 in /usr/local/lib/python3.7/dist-packages (from konlpy~=0.5.2) (1.19.5)\n",
            "Requirement already satisfied: lxml>=4.1.0 in /usr/local/lib/python3.7/dist-packages (from konlpy~=0.5.2) (4.2.6)\n",
            "Collecting JPype1>=0.7.0\n",
            "  Downloading JPype1-1.3.0-cp37-cp37m-manylinux_2_5_x86_64.manylinux1_x86_64.whl (448 kB)\n",
            "\u001b[K     |████████████████████████████████| 448 kB 51.8 MB/s \n",
            "\u001b[?25hRequirement already satisfied: typing-extensions in /usr/local/lib/python3.7/dist-packages (from JPype1>=0.7.0->konlpy~=0.5.2) (3.7.4.3)\n",
            "Requirement already satisfied: requests[socks]>=2.11.1 in /usr/local/lib/python3.7/dist-packages (from tweepy>=3.7.0->konlpy~=0.5.2) (2.23.0)\n",
            "Requirement already satisfied: requests-oauthlib>=0.7.0 in /usr/local/lib/python3.7/dist-packages (from tweepy>=3.7.0->konlpy~=0.5.2) (1.3.0)\n",
            "Requirement already satisfied: six>=1.10.0 in /usr/local/lib/python3.7/dist-packages (from tweepy>=3.7.0->konlpy~=0.5.2) (1.15.0)\n",
            "Requirement already satisfied: oauthlib>=3.0.0 in /usr/local/lib/python3.7/dist-packages (from requests-oauthlib>=0.7.0->tweepy>=3.7.0->konlpy~=0.5.2) (3.1.1)\n",
            "Requirement already satisfied: chardet<4,>=3.0.2 in /usr/local/lib/python3.7/dist-packages (from requests[socks]>=2.11.1->tweepy>=3.7.0->konlpy~=0.5.2) (3.0.4)\n",
            "Requirement already satisfied: urllib3!=1.25.0,!=1.25.1,<1.26,>=1.21.1 in /usr/local/lib/python3.7/dist-packages (from requests[socks]>=2.11.1->tweepy>=3.7.0->konlpy~=0.5.2) (1.24.3)\n",
            "Requirement already satisfied: certifi>=2017.4.17 in /usr/local/lib/python3.7/dist-packages (from requests[socks]>=2.11.1->tweepy>=3.7.0->konlpy~=0.5.2) (2021.5.30)\n",
            "Requirement already satisfied: idna<3,>=2.5 in /usr/local/lib/python3.7/dist-packages (from requests[socks]>=2.11.1->tweepy>=3.7.0->konlpy~=0.5.2) (2.10)\n",
            "Requirement already satisfied: PySocks!=1.5.7,>=1.5.6 in /usr/local/lib/python3.7/dist-packages (from requests[socks]>=2.11.1->tweepy>=3.7.0->konlpy~=0.5.2) (1.7.1)\n",
            "Requirement already satisfied: scikit-learn in /usr/local/lib/python3.7/dist-packages (from sklearn) (0.22.2.post1)\n",
            "Requirement already satisfied: smart-open>=1.2.1 in /usr/local/lib/python3.7/dist-packages (from gensim) (5.1.0)\n",
            "Requirement already satisfied: scipy>=0.18.1 in /usr/local/lib/python3.7/dist-packages (from gensim) (1.4.1)\n",
            "Requirement already satisfied: h5py in /usr/local/lib/python3.7/dist-packages (from keras) (3.1.0)\n",
            "Requirement already satisfied: pyyaml in /usr/local/lib/python3.7/dist-packages (from keras) (3.13)\n",
            "Requirement already satisfied: cached-property in /usr/local/lib/python3.7/dist-packages (from h5py->keras) (1.5.2)\n",
            "Requirement already satisfied: joblib>=0.11 in /usr/local/lib/python3.7/dist-packages (from scikit-learn->sklearn) (1.0.1)\n",
            "Building wheels for collected packages: emoji\n",
            "  Building wheel for emoji (setup.py) ... \u001b[?25l\u001b[?25hdone\n",
            "  Created wheel for emoji: filename=emoji-1.4.2-py3-none-any.whl size=186469 sha256=d4a197d60d08580bc96f543affd605bbfac810da9925620e4bab0a09f13df8db\n",
            "  Stored in directory: /root/.cache/pip/wheels/e4/61/e7/2fc1ac8f306848fc66c6c013ab511f0a39ef4b1825b11363b2\n",
            "Successfully built emoji\n",
            "Installing collected packages: JPype1, colorama, beautifulsoup4, konlpy, emoji\n",
            "  Attempting uninstall: beautifulsoup4\n",
            "    Found existing installation: beautifulsoup4 4.6.3\n",
            "    Uninstalling beautifulsoup4-4.6.3:\n",
            "      Successfully uninstalled beautifulsoup4-4.6.3\n",
            "Successfully installed JPype1-1.3.0 beautifulsoup4-4.6.0 colorama-0.4.4 emoji-1.4.2 konlpy-0.5.2\n",
            "Collecting nltk~=3.5\n",
            "  Downloading nltk-3.6.2-py3-none-any.whl (1.5 MB)\n",
            "\u001b[K     |████████████████████████████████| 1.5 MB 8.5 MB/s \n",
            "\u001b[?25hRequirement already satisfied: tqdm in /usr/local/lib/python3.7/dist-packages (from nltk~=3.5) (4.41.1)\n",
            "Requirement already satisfied: regex in /usr/local/lib/python3.7/dist-packages (from nltk~=3.5) (2019.12.20)\n",
            "Requirement already satisfied: click in /usr/local/lib/python3.7/dist-packages (from nltk~=3.5) (7.1.2)\n",
            "Requirement already satisfied: joblib in /usr/local/lib/python3.7/dist-packages (from nltk~=3.5) (1.0.1)\n",
            "Installing collected packages: nltk\n",
            "  Attempting uninstall: nltk\n",
            "    Found existing installation: nltk 3.2.5\n",
            "    Uninstalling nltk-3.2.5:\n",
            "      Successfully uninstalled nltk-3.2.5\n",
            "Successfully installed nltk-3.6.2\n",
            "Reading package lists... Done\n",
            "Building dependency tree       \n",
            "Reading state information... Done\n",
            "curl is already the newest version (7.58.0-2ubuntu3.13).\n",
            "g++ is already the newest version (4:7.4.0-1ubuntu2.3).\n",
            "g++ set to manually installed.\n",
            "The following additional packages will be installed:\n",
            "  fonts-dejavu-core fonts-dejavu-extra libatk-wrapper-java\n",
            "  libatk-wrapper-java-jni libgail-common libgail18 libgtk2.0-0 libgtk2.0-bin\n",
            "  libgtk2.0-common libxxf86dga1 openjdk-8-jdk-headless openjdk-8-jre\n",
            "  openjdk-8-jre-headless x11-utils\n",
            "Suggested packages:\n",
            "  gvfs openjdk-8-demo openjdk-8-source visualvm icedtea-8-plugin libnss-mdns\n",
            "  fonts-ipafont-gothic fonts-ipafont-mincho fonts-wqy-microhei\n",
            "  fonts-wqy-zenhei fonts-indic mesa-utils\n",
            "The following NEW packages will be installed:\n",
            "  fonts-dejavu-core fonts-dejavu-extra libatk-wrapper-java\n",
            "  libatk-wrapper-java-jni libgail-common libgail18 libgtk2.0-0 libgtk2.0-bin\n",
            "  libgtk2.0-common libxxf86dga1 openjdk-8-jdk openjdk-8-jdk-headless\n",
            "  openjdk-8-jre openjdk-8-jre-headless x11-utils\n",
            "0 upgraded, 15 newly installed, 0 to remove and 40 not upgraded.\n",
            "Need to get 43.5 MB of archives.\n",
            "After this operation, 163 MB of additional disk space will be used.\n",
            "Get:1 http://archive.ubuntu.com/ubuntu bionic/main amd64 libxxf86dga1 amd64 2:1.1.4-1 [13.7 kB]\n",
            "Get:2 http://archive.ubuntu.com/ubuntu bionic/main amd64 fonts-dejavu-core all 2.37-1 [1,041 kB]\n",
            "Get:3 http://archive.ubuntu.com/ubuntu bionic/main amd64 fonts-dejavu-extra all 2.37-1 [1,953 kB]\n",
            "Get:4 http://archive.ubuntu.com/ubuntu bionic/main amd64 x11-utils amd64 7.7+3build1 [196 kB]\n",
            "Get:5 http://archive.ubuntu.com/ubuntu bionic/main amd64 libatk-wrapper-java all 0.33.3-20ubuntu0.1 [34.7 kB]\n",
            "Get:6 http://archive.ubuntu.com/ubuntu bionic/main amd64 libatk-wrapper-java-jni amd64 0.33.3-20ubuntu0.1 [28.3 kB]\n",
            "Get:7 http://archive.ubuntu.com/ubuntu bionic/main amd64 libgtk2.0-common all 2.24.32-1ubuntu1 [125 kB]\n",
            "Get:8 http://archive.ubuntu.com/ubuntu bionic/main amd64 libgtk2.0-0 amd64 2.24.32-1ubuntu1 [1,769 kB]\n",
            "Get:9 http://archive.ubuntu.com/ubuntu bionic/main amd64 libgail18 amd64 2.24.32-1ubuntu1 [14.2 kB]\n",
            "Get:10 http://archive.ubuntu.com/ubuntu bionic/main amd64 libgail-common amd64 2.24.32-1ubuntu1 [112 kB]\n",
            "Get:11 http://archive.ubuntu.com/ubuntu bionic/main amd64 libgtk2.0-bin amd64 2.24.32-1ubuntu1 [7,536 B]\n",
            "Get:12 http://archive.ubuntu.com/ubuntu bionic-updates/universe amd64 openjdk-8-jre-headless amd64 8u292-b10-0ubuntu1~18.04 [28.2 MB]\n",
            "Get:13 http://archive.ubuntu.com/ubuntu bionic-updates/universe amd64 openjdk-8-jre amd64 8u292-b10-0ubuntu1~18.04 [69.6 kB]\n",
            "Get:14 http://archive.ubuntu.com/ubuntu bionic-updates/universe amd64 openjdk-8-jdk-headless amd64 8u292-b10-0ubuntu1~18.04 [8,284 kB]\n",
            "Get:15 http://archive.ubuntu.com/ubuntu bionic-updates/universe amd64 openjdk-8-jdk amd64 8u292-b10-0ubuntu1~18.04 [1,644 kB]\n",
            "Fetched 43.5 MB in 3s (13.6 MB/s)\n",
            "debconf: unable to initialize frontend: Dialog\n",
            "debconf: (No usable dialog-like program is installed, so the dialog based frontend cannot be used. at /usr/share/perl5/Debconf/FrontEnd/Dialog.pm line 76, <> line 15.)\n",
            "debconf: falling back to frontend: Readline\n",
            "debconf: unable to initialize frontend: Readline\n",
            "debconf: (This frontend requires a controlling tty.)\n",
            "debconf: falling back to frontend: Teletype\n",
            "dpkg-preconfigure: unable to re-open stdin: \n",
            "Selecting previously unselected package libxxf86dga1:amd64.\n",
            "(Reading database ... 160837 files and directories currently installed.)\n",
            "Preparing to unpack .../00-libxxf86dga1_2%3a1.1.4-1_amd64.deb ...\n",
            "Unpacking libxxf86dga1:amd64 (2:1.1.4-1) ...\n",
            "Selecting previously unselected package fonts-dejavu-core.\n",
            "Preparing to unpack .../01-fonts-dejavu-core_2.37-1_all.deb ...\n",
            "Unpacking fonts-dejavu-core (2.37-1) ...\n",
            "Selecting previously unselected package fonts-dejavu-extra.\n",
            "Preparing to unpack .../02-fonts-dejavu-extra_2.37-1_all.deb ...\n",
            "Unpacking fonts-dejavu-extra (2.37-1) ...\n",
            "Selecting previously unselected package x11-utils.\n",
            "Preparing to unpack .../03-x11-utils_7.7+3build1_amd64.deb ...\n",
            "Unpacking x11-utils (7.7+3build1) ...\n",
            "Selecting previously unselected package libatk-wrapper-java.\n",
            "Preparing to unpack .../04-libatk-wrapper-java_0.33.3-20ubuntu0.1_all.deb ...\n",
            "Unpacking libatk-wrapper-java (0.33.3-20ubuntu0.1) ...\n",
            "Selecting previously unselected package libatk-wrapper-java-jni:amd64.\n",
            "Preparing to unpack .../05-libatk-wrapper-java-jni_0.33.3-20ubuntu0.1_amd64.deb ...\n",
            "Unpacking libatk-wrapper-java-jni:amd64 (0.33.3-20ubuntu0.1) ...\n",
            "Selecting previously unselected package libgtk2.0-common.\n",
            "Preparing to unpack .../06-libgtk2.0-common_2.24.32-1ubuntu1_all.deb ...\n",
            "Unpacking libgtk2.0-common (2.24.32-1ubuntu1) ...\n",
            "Selecting previously unselected package libgtk2.0-0:amd64.\n",
            "Preparing to unpack .../07-libgtk2.0-0_2.24.32-1ubuntu1_amd64.deb ...\n",
            "Unpacking libgtk2.0-0:amd64 (2.24.32-1ubuntu1) ...\n",
            "Selecting previously unselected package libgail18:amd64.\n",
            "Preparing to unpack .../08-libgail18_2.24.32-1ubuntu1_amd64.deb ...\n",
            "Unpacking libgail18:amd64 (2.24.32-1ubuntu1) ...\n",
            "Selecting previously unselected package libgail-common:amd64.\n",
            "Preparing to unpack .../09-libgail-common_2.24.32-1ubuntu1_amd64.deb ...\n",
            "Unpacking libgail-common:amd64 (2.24.32-1ubuntu1) ...\n",
            "Selecting previously unselected package libgtk2.0-bin.\n",
            "Preparing to unpack .../10-libgtk2.0-bin_2.24.32-1ubuntu1_amd64.deb ...\n",
            "Unpacking libgtk2.0-bin (2.24.32-1ubuntu1) ...\n",
            "Selecting previously unselected package openjdk-8-jre-headless:amd64.\n",
            "Preparing to unpack .../11-openjdk-8-jre-headless_8u292-b10-0ubuntu1~18.04_amd64.deb ...\n",
            "Unpacking openjdk-8-jre-headless:amd64 (8u292-b10-0ubuntu1~18.04) ...\n",
            "Selecting previously unselected package openjdk-8-jre:amd64.\n",
            "Preparing to unpack .../12-openjdk-8-jre_8u292-b10-0ubuntu1~18.04_amd64.deb ...\n",
            "Unpacking openjdk-8-jre:amd64 (8u292-b10-0ubuntu1~18.04) ...\n",
            "Selecting previously unselected package openjdk-8-jdk-headless:amd64.\n",
            "Preparing to unpack .../13-openjdk-8-jdk-headless_8u292-b10-0ubuntu1~18.04_amd64.deb ...\n",
            "Unpacking openjdk-8-jdk-headless:amd64 (8u292-b10-0ubuntu1~18.04) ...\n",
            "Selecting previously unselected package openjdk-8-jdk:amd64.\n",
            "Preparing to unpack .../14-openjdk-8-jdk_8u292-b10-0ubuntu1~18.04_amd64.deb ...\n",
            "Unpacking openjdk-8-jdk:amd64 (8u292-b10-0ubuntu1~18.04) ...\n",
            "Setting up libgtk2.0-common (2.24.32-1ubuntu1) ...\n",
            "Setting up fonts-dejavu-core (2.37-1) ...\n",
            "Setting up libxxf86dga1:amd64 (2:1.1.4-1) ...\n",
            "Setting up fonts-dejavu-extra (2.37-1) ...\n",
            "Setting up openjdk-8-jre-headless:amd64 (8u292-b10-0ubuntu1~18.04) ...\n",
            "update-alternatives: using /usr/lib/jvm/java-8-openjdk-amd64/jre/bin/orbd to provide /usr/bin/orbd (orbd) in auto mode\n",
            "update-alternatives: using /usr/lib/jvm/java-8-openjdk-amd64/jre/bin/servertool to provide /usr/bin/servertool (servertool) in auto mode\n",
            "update-alternatives: using /usr/lib/jvm/java-8-openjdk-amd64/jre/bin/tnameserv to provide /usr/bin/tnameserv (tnameserv) in auto mode\n",
            "Setting up libgtk2.0-0:amd64 (2.24.32-1ubuntu1) ...\n",
            "Setting up libgail18:amd64 (2.24.32-1ubuntu1) ...\n",
            "Setting up openjdk-8-jdk-headless:amd64 (8u292-b10-0ubuntu1~18.04) ...\n",
            "update-alternatives: using /usr/lib/jvm/java-8-openjdk-amd64/bin/idlj to provide /usr/bin/idlj (idlj) in auto mode\n",
            "update-alternatives: using /usr/lib/jvm/java-8-openjdk-amd64/bin/wsimport to provide /usr/bin/wsimport (wsimport) in auto mode\n",
            "update-alternatives: using /usr/lib/jvm/java-8-openjdk-amd64/bin/jsadebugd to provide /usr/bin/jsadebugd (jsadebugd) in auto mode\n",
            "update-alternatives: using /usr/lib/jvm/java-8-openjdk-amd64/bin/native2ascii to provide /usr/bin/native2ascii (native2ascii) in auto mode\n",
            "update-alternatives: using /usr/lib/jvm/java-8-openjdk-amd64/bin/javah to provide /usr/bin/javah (javah) in auto mode\n",
            "update-alternatives: using /usr/lib/jvm/java-8-openjdk-amd64/bin/hsdb to provide /usr/bin/hsdb (hsdb) in auto mode\n",
            "update-alternatives: using /usr/lib/jvm/java-8-openjdk-amd64/bin/clhsdb to provide /usr/bin/clhsdb (clhsdb) in auto mode\n",
            "update-alternatives: using /usr/lib/jvm/java-8-openjdk-amd64/bin/extcheck to provide /usr/bin/extcheck (extcheck) in auto mode\n",
            "update-alternatives: using /usr/lib/jvm/java-8-openjdk-amd64/bin/schemagen to provide /usr/bin/schemagen (schemagen) in auto mode\n",
            "update-alternatives: using /usr/lib/jvm/java-8-openjdk-amd64/bin/xjc to provide /usr/bin/xjc (xjc) in auto mode\n",
            "update-alternatives: using /usr/lib/jvm/java-8-openjdk-amd64/bin/jhat to provide /usr/bin/jhat (jhat) in auto mode\n",
            "update-alternatives: using /usr/lib/jvm/java-8-openjdk-amd64/bin/wsgen to provide /usr/bin/wsgen (wsgen) in auto mode\n",
            "Setting up x11-utils (7.7+3build1) ...\n",
            "Setting up libgail-common:amd64 (2.24.32-1ubuntu1) ...\n",
            "Setting up libatk-wrapper-java (0.33.3-20ubuntu0.1) ...\n",
            "Setting up libgtk2.0-bin (2.24.32-1ubuntu1) ...\n",
            "Setting up libatk-wrapper-java-jni:amd64 (0.33.3-20ubuntu0.1) ...\n",
            "Setting up openjdk-8-jre:amd64 (8u292-b10-0ubuntu1~18.04) ...\n",
            "update-alternatives: using /usr/lib/jvm/java-8-openjdk-amd64/jre/bin/policytool to provide /usr/bin/policytool (policytool) in auto mode\n",
            "Setting up openjdk-8-jdk:amd64 (8u292-b10-0ubuntu1~18.04) ...\n",
            "update-alternatives: using /usr/lib/jvm/java-8-openjdk-amd64/bin/appletviewer to provide /usr/bin/appletviewer (appletviewer) in auto mode\n",
            "update-alternatives: using /usr/lib/jvm/java-8-openjdk-amd64/bin/jconsole to provide /usr/bin/jconsole (jconsole) in auto mode\n",
            "Processing triggers for man-db (2.8.3-2ubuntu0.1) ...\n",
            "Processing triggers for hicolor-icon-theme (0.17-2) ...\n",
            "Processing triggers for fontconfig (2.12.6-0ubuntu2) ...\n",
            "Processing triggers for mime-support (3.60ubuntu1) ...\n",
            "Processing triggers for libc-bin (2.27-3ubuntu1.2) ...\n",
            "/sbin/ldconfig.real: /usr/local/lib/python3.7/dist-packages/ideep4py/lib/libmkldnn.so.0 is not a symbolic link\n",
            "\n",
            "Requirement already satisfied: nltk~=3.5 in /usr/local/lib/python3.7/dist-packages (from -r descry-gideb_trial/requirements.txt (line 1)) (3.6.2)\n",
            "Requirement already satisfied: konlpy~=0.5.2 in /usr/local/lib/python3.7/dist-packages (from -r descry-gideb_trial/requirements.txt (line 2)) (0.5.2)\n",
            "Requirement already satisfied: sklearn~=0.0 in /usr/local/lib/python3.7/dist-packages (from -r descry-gideb_trial/requirements.txt (line 3)) (0.0)\n",
            "Requirement already satisfied: numpy~=1.19.5 in /usr/local/lib/python3.7/dist-packages (from -r descry-gideb_trial/requirements.txt (line 4)) (1.19.5)\n",
            "Requirement already satisfied: bs4~=0.0.1 in /usr/local/lib/python3.7/dist-packages (from -r descry-gideb_trial/requirements.txt (line 5)) (0.0.1)\n",
            "Requirement already satisfied: beautifulsoup4~=4.6.0 in /usr/local/lib/python3.7/dist-packages (from -r descry-gideb_trial/requirements.txt (line 6)) (4.6.0)\n",
            "Collecting scikit-learn~=0.24.0\n",
            "  Downloading scikit_learn-0.24.2-cp37-cp37m-manylinux2010_x86_64.whl (22.3 MB)\n",
            "\u001b[K     |████████████████████████████████| 22.3 MB 1.3 MB/s \n",
            "\u001b[?25hCollecting ndic\n",
            "  Downloading ndic-1.9.tar.gz (7.9 kB)\n",
            "Requirement already satisfied: requests>=2.11.0 in /usr/local/lib/python3.7/dist-packages (from -r descry-gideb_trial/requirements.txt (line 9)) (2.23.0)\n",
            "Requirement already satisfied: click>=6.6 in /usr/local/lib/python3.7/dist-packages (from -r descry-gideb_trial/requirements.txt (line 10)) (7.1.2)\n",
            "Requirement already satisfied: lxml>=3.6.1 in /usr/local/lib/python3.7/dist-packages (from -r descry-gideb_trial/requirements.txt (line 11)) (4.2.6)\n",
            "Requirement already satisfied: future>=0.15.2 in /usr/local/lib/python3.7/dist-packages (from -r descry-gideb_trial/requirements.txt (line 12)) (0.16.0)\n",
            "Collecting xlsxwriter\n",
            "  Downloading XlsxWriter-1.4.5-py2.py3-none-any.whl (149 kB)\n",
            "\u001b[K     |████████████████████████████████| 149 kB 56.5 MB/s \n",
            "\u001b[?25hRequirement already satisfied: xlrd in /usr/local/lib/python3.7/dist-packages (from -r descry-gideb_trial/requirements.txt (line 14)) (1.1.0)\n",
            "Requirement already satisfied: regex in /usr/local/lib/python3.7/dist-packages (from nltk~=3.5->-r descry-gideb_trial/requirements.txt (line 1)) (2019.12.20)\n",
            "Requirement already satisfied: tqdm in /usr/local/lib/python3.7/dist-packages (from nltk~=3.5->-r descry-gideb_trial/requirements.txt (line 1)) (4.41.1)\n",
            "Requirement already satisfied: joblib in /usr/local/lib/python3.7/dist-packages (from nltk~=3.5->-r descry-gideb_trial/requirements.txt (line 1)) (1.0.1)\n",
            "Requirement already satisfied: tweepy>=3.7.0 in /usr/local/lib/python3.7/dist-packages (from konlpy~=0.5.2->-r descry-gideb_trial/requirements.txt (line 2)) (3.10.0)\n",
            "Requirement already satisfied: colorama in /usr/local/lib/python3.7/dist-packages (from konlpy~=0.5.2->-r descry-gideb_trial/requirements.txt (line 2)) (0.4.4)\n",
            "Requirement already satisfied: JPype1>=0.7.0 in /usr/local/lib/python3.7/dist-packages (from konlpy~=0.5.2->-r descry-gideb_trial/requirements.txt (line 2)) (1.3.0)\n",
            "Collecting threadpoolctl>=2.0.0\n",
            "  Downloading threadpoolctl-2.2.0-py3-none-any.whl (12 kB)\n",
            "Requirement already satisfied: scipy>=0.19.1 in /usr/local/lib/python3.7/dist-packages (from scikit-learn~=0.24.0->-r descry-gideb_trial/requirements.txt (line 7)) (1.4.1)\n",
            "Requirement already satisfied: idna<3,>=2.5 in /usr/local/lib/python3.7/dist-packages (from requests>=2.11.0->-r descry-gideb_trial/requirements.txt (line 9)) (2.10)\n",
            "Requirement already satisfied: urllib3!=1.25.0,!=1.25.1,<1.26,>=1.21.1 in /usr/local/lib/python3.7/dist-packages (from requests>=2.11.0->-r descry-gideb_trial/requirements.txt (line 9)) (1.24.3)\n",
            "Requirement already satisfied: chardet<4,>=3.0.2 in /usr/local/lib/python3.7/dist-packages (from requests>=2.11.0->-r descry-gideb_trial/requirements.txt (line 9)) (3.0.4)\n",
            "Requirement already satisfied: certifi>=2017.4.17 in /usr/local/lib/python3.7/dist-packages (from requests>=2.11.0->-r descry-gideb_trial/requirements.txt (line 9)) (2021.5.30)\n",
            "Requirement already satisfied: typing-extensions in /usr/local/lib/python3.7/dist-packages (from JPype1>=0.7.0->konlpy~=0.5.2->-r descry-gideb_trial/requirements.txt (line 2)) (3.7.4.3)\n",
            "Requirement already satisfied: six>=1.10.0 in /usr/local/lib/python3.7/dist-packages (from tweepy>=3.7.0->konlpy~=0.5.2->-r descry-gideb_trial/requirements.txt (line 2)) (1.15.0)\n",
            "Requirement already satisfied: requests-oauthlib>=0.7.0 in /usr/local/lib/python3.7/dist-packages (from tweepy>=3.7.0->konlpy~=0.5.2->-r descry-gideb_trial/requirements.txt (line 2)) (1.3.0)\n",
            "Requirement already satisfied: oauthlib>=3.0.0 in /usr/local/lib/python3.7/dist-packages (from requests-oauthlib>=0.7.0->tweepy>=3.7.0->konlpy~=0.5.2->-r descry-gideb_trial/requirements.txt (line 2)) (3.1.1)\n",
            "Requirement already satisfied: PySocks!=1.5.7,>=1.5.6 in /usr/local/lib/python3.7/dist-packages (from requests>=2.11.0->-r descry-gideb_trial/requirements.txt (line 9)) (1.7.1)\n",
            "Building wheels for collected packages: ndic\n",
            "  Building wheel for ndic (setup.py) ... \u001b[?25l\u001b[?25hdone\n",
            "  Created wheel for ndic: filename=ndic-1.9-py3-none-any.whl size=9038 sha256=6a8ecaff0c5a49530fbed96142e280547c83a95a514d89431b5d12691291f163\n",
            "  Stored in directory: /root/.cache/pip/wheels/4d/19/24/68cb27db06e5811a487a78d8706115bb23061d104c32ae74e8\n",
            "Successfully built ndic\n",
            "Installing collected packages: threadpoolctl, scikit-learn, xlsxwriter, ndic\n",
            "  Attempting uninstall: scikit-learn\n",
            "    Found existing installation: scikit-learn 0.22.2.post1\n",
            "    Uninstalling scikit-learn-0.22.2.post1:\n",
            "      Successfully uninstalled scikit-learn-0.22.2.post1\n",
            "Successfully installed ndic-1.9 scikit-learn-0.24.2 threadpoolctl-2.2.0 xlsxwriter-1.4.5\n"
          ],
          "name": "stdout"
        }
      ]
    },
    {
      "cell_type": "code",
      "metadata": {
        "id": "2fItHjU0C-8F",
        "colab": {
          "base_uri": "https://localhost:8080/"
        },
        "outputId": "bee57be5-c10a-4f5f-df5b-615c8714b572"
      },
      "source": [
        "try:\n",
        "    %tensorflow_version 2.x\n",
        "except Exception:\n",
        "    pass\n",
        "import tensorflow as tf\n",
        "print(tf.__version__)\n",
        "import os\n",
        "import numpy as np\n",
        "import matplotlib.pyplot as plt\n",
        "import pandas as pd\n",
        "import pprint\n",
        "import argparse\n",
        "import emoji\n",
        "import re"
      ],
      "execution_count": 4,
      "outputs": [
        {
          "output_type": "stream",
          "text": [
            "2.5.0\n"
          ],
          "name": "stdout"
        }
      ]
    },
    {
      "cell_type": "code",
      "metadata": {
        "id": "V1y0zblkF76S",
        "colab": {
          "base_uri": "https://localhost:8080/"
        },
        "outputId": "b278e0f6-de0e-4915-9b05-b6b23d7d3351"
      },
      "source": [
        "import nltk\n",
        "import konlpy \n",
        "nltk.download('all')"
      ],
      "execution_count": 5,
      "outputs": [
        {
          "output_type": "stream",
          "text": [
            "[nltk_data] Downloading collection 'all'\n",
            "[nltk_data]    | \n",
            "[nltk_data]    | Downloading package abc to /root/nltk_data...\n",
            "[nltk_data]    |   Unzipping corpora/abc.zip.\n",
            "[nltk_data]    | Downloading package alpino to /root/nltk_data...\n",
            "[nltk_data]    |   Unzipping corpora/alpino.zip.\n",
            "[nltk_data]    | Downloading package biocreative_ppi to\n",
            "[nltk_data]    |     /root/nltk_data...\n",
            "[nltk_data]    |   Unzipping corpora/biocreative_ppi.zip.\n",
            "[nltk_data]    | Downloading package brown to /root/nltk_data...\n",
            "[nltk_data]    |   Unzipping corpora/brown.zip.\n",
            "[nltk_data]    | Downloading package brown_tei to /root/nltk_data...\n",
            "[nltk_data]    |   Unzipping corpora/brown_tei.zip.\n",
            "[nltk_data]    | Downloading package cess_cat to /root/nltk_data...\n",
            "[nltk_data]    |   Unzipping corpora/cess_cat.zip.\n",
            "[nltk_data]    | Downloading package cess_esp to /root/nltk_data...\n",
            "[nltk_data]    |   Unzipping corpora/cess_esp.zip.\n",
            "[nltk_data]    | Downloading package chat80 to /root/nltk_data...\n",
            "[nltk_data]    |   Unzipping corpora/chat80.zip.\n",
            "[nltk_data]    | Downloading package city_database to\n",
            "[nltk_data]    |     /root/nltk_data...\n",
            "[nltk_data]    |   Unzipping corpora/city_database.zip.\n",
            "[nltk_data]    | Downloading package cmudict to /root/nltk_data...\n",
            "[nltk_data]    |   Unzipping corpora/cmudict.zip.\n",
            "[nltk_data]    | Downloading package comparative_sentences to\n",
            "[nltk_data]    |     /root/nltk_data...\n",
            "[nltk_data]    |   Unzipping corpora/comparative_sentences.zip.\n",
            "[nltk_data]    | Downloading package comtrans to /root/nltk_data...\n",
            "[nltk_data]    | Downloading package conll2000 to /root/nltk_data...\n",
            "[nltk_data]    |   Unzipping corpora/conll2000.zip.\n",
            "[nltk_data]    | Downloading package conll2002 to /root/nltk_data...\n",
            "[nltk_data]    |   Unzipping corpora/conll2002.zip.\n",
            "[nltk_data]    | Downloading package conll2007 to /root/nltk_data...\n",
            "[nltk_data]    | Downloading package crubadan to /root/nltk_data...\n",
            "[nltk_data]    |   Unzipping corpora/crubadan.zip.\n",
            "[nltk_data]    | Downloading package dependency_treebank to\n",
            "[nltk_data]    |     /root/nltk_data...\n",
            "[nltk_data]    |   Unzipping corpora/dependency_treebank.zip.\n",
            "[nltk_data]    | Downloading package dolch to /root/nltk_data...\n",
            "[nltk_data]    |   Unzipping corpora/dolch.zip.\n",
            "[nltk_data]    | Downloading package europarl_raw to\n",
            "[nltk_data]    |     /root/nltk_data...\n",
            "[nltk_data]    |   Unzipping corpora/europarl_raw.zip.\n",
            "[nltk_data]    | Downloading package floresta to /root/nltk_data...\n",
            "[nltk_data]    |   Unzipping corpora/floresta.zip.\n",
            "[nltk_data]    | Downloading package framenet_v15 to\n",
            "[nltk_data]    |     /root/nltk_data...\n",
            "[nltk_data]    |   Unzipping corpora/framenet_v15.zip.\n",
            "[nltk_data]    | Downloading package framenet_v17 to\n",
            "[nltk_data]    |     /root/nltk_data...\n",
            "[nltk_data]    |   Unzipping corpora/framenet_v17.zip.\n",
            "[nltk_data]    | Downloading package gazetteers to /root/nltk_data...\n",
            "[nltk_data]    |   Unzipping corpora/gazetteers.zip.\n",
            "[nltk_data]    | Downloading package genesis to /root/nltk_data...\n",
            "[nltk_data]    |   Unzipping corpora/genesis.zip.\n",
            "[nltk_data]    | Downloading package gutenberg to /root/nltk_data...\n",
            "[nltk_data]    |   Unzipping corpora/gutenberg.zip.\n",
            "[nltk_data]    | Downloading package ieer to /root/nltk_data...\n",
            "[nltk_data]    |   Unzipping corpora/ieer.zip.\n",
            "[nltk_data]    | Downloading package inaugural to /root/nltk_data...\n",
            "[nltk_data]    |   Unzipping corpora/inaugural.zip.\n",
            "[nltk_data]    | Downloading package indian to /root/nltk_data...\n",
            "[nltk_data]    |   Unzipping corpora/indian.zip.\n",
            "[nltk_data]    | Downloading package jeita to /root/nltk_data...\n",
            "[nltk_data]    | Downloading package kimmo to /root/nltk_data...\n",
            "[nltk_data]    |   Unzipping corpora/kimmo.zip.\n",
            "[nltk_data]    | Downloading package knbc to /root/nltk_data...\n",
            "[nltk_data]    | Downloading package lin_thesaurus to\n",
            "[nltk_data]    |     /root/nltk_data...\n",
            "[nltk_data]    |   Unzipping corpora/lin_thesaurus.zip.\n",
            "[nltk_data]    | Downloading package mac_morpho to /root/nltk_data...\n",
            "[nltk_data]    |   Unzipping corpora/mac_morpho.zip.\n",
            "[nltk_data]    | Downloading package machado to /root/nltk_data...\n",
            "[nltk_data]    | Downloading package masc_tagged to /root/nltk_data...\n",
            "[nltk_data]    | Downloading package moses_sample to\n",
            "[nltk_data]    |     /root/nltk_data...\n",
            "[nltk_data]    |   Unzipping models/moses_sample.zip.\n",
            "[nltk_data]    | Downloading package movie_reviews to\n",
            "[nltk_data]    |     /root/nltk_data...\n",
            "[nltk_data]    |   Unzipping corpora/movie_reviews.zip.\n",
            "[nltk_data]    | Downloading package names to /root/nltk_data...\n",
            "[nltk_data]    |   Unzipping corpora/names.zip.\n",
            "[nltk_data]    | Downloading package nombank.1.0 to /root/nltk_data...\n",
            "[nltk_data]    | Downloading package nps_chat to /root/nltk_data...\n",
            "[nltk_data]    |   Unzipping corpora/nps_chat.zip.\n",
            "[nltk_data]    | Downloading package omw to /root/nltk_data...\n",
            "[nltk_data]    |   Unzipping corpora/omw.zip.\n",
            "[nltk_data]    | Downloading package opinion_lexicon to\n",
            "[nltk_data]    |     /root/nltk_data...\n",
            "[nltk_data]    |   Unzipping corpora/opinion_lexicon.zip.\n",
            "[nltk_data]    | Downloading package paradigms to /root/nltk_data...\n",
            "[nltk_data]    |   Unzipping corpora/paradigms.zip.\n",
            "[nltk_data]    | Downloading package pil to /root/nltk_data...\n",
            "[nltk_data]    |   Unzipping corpora/pil.zip.\n",
            "[nltk_data]    | Downloading package pl196x to /root/nltk_data...\n",
            "[nltk_data]    |   Unzipping corpora/pl196x.zip.\n",
            "[nltk_data]    | Downloading package ppattach to /root/nltk_data...\n",
            "[nltk_data]    |   Unzipping corpora/ppattach.zip.\n",
            "[nltk_data]    | Downloading package problem_reports to\n",
            "[nltk_data]    |     /root/nltk_data...\n",
            "[nltk_data]    |   Unzipping corpora/problem_reports.zip.\n",
            "[nltk_data]    | Downloading package propbank to /root/nltk_data...\n",
            "[nltk_data]    | Downloading package ptb to /root/nltk_data...\n",
            "[nltk_data]    |   Unzipping corpora/ptb.zip.\n",
            "[nltk_data]    | Downloading package product_reviews_1 to\n",
            "[nltk_data]    |     /root/nltk_data...\n",
            "[nltk_data]    |   Unzipping corpora/product_reviews_1.zip.\n",
            "[nltk_data]    | Downloading package product_reviews_2 to\n",
            "[nltk_data]    |     /root/nltk_data...\n",
            "[nltk_data]    |   Unzipping corpora/product_reviews_2.zip.\n",
            "[nltk_data]    | Downloading package pros_cons to /root/nltk_data...\n",
            "[nltk_data]    |   Unzipping corpora/pros_cons.zip.\n",
            "[nltk_data]    | Downloading package qc to /root/nltk_data...\n",
            "[nltk_data]    |   Unzipping corpora/qc.zip.\n",
            "[nltk_data]    | Downloading package reuters to /root/nltk_data...\n",
            "[nltk_data]    | Downloading package rte to /root/nltk_data...\n",
            "[nltk_data]    |   Unzipping corpora/rte.zip.\n",
            "[nltk_data]    | Downloading package semcor to /root/nltk_data...\n",
            "[nltk_data]    | Downloading package senseval to /root/nltk_data...\n",
            "[nltk_data]    |   Unzipping corpora/senseval.zip.\n",
            "[nltk_data]    | Downloading package sentiwordnet to\n",
            "[nltk_data]    |     /root/nltk_data...\n",
            "[nltk_data]    |   Unzipping corpora/sentiwordnet.zip.\n",
            "[nltk_data]    | Downloading package sentence_polarity to\n",
            "[nltk_data]    |     /root/nltk_data...\n",
            "[nltk_data]    |   Unzipping corpora/sentence_polarity.zip.\n",
            "[nltk_data]    | Downloading package shakespeare to /root/nltk_data...\n",
            "[nltk_data]    |   Unzipping corpora/shakespeare.zip.\n",
            "[nltk_data]    | Downloading package sinica_treebank to\n",
            "[nltk_data]    |     /root/nltk_data...\n",
            "[nltk_data]    |   Unzipping corpora/sinica_treebank.zip.\n",
            "[nltk_data]    | Downloading package smultron to /root/nltk_data...\n",
            "[nltk_data]    |   Unzipping corpora/smultron.zip.\n",
            "[nltk_data]    | Downloading package state_union to /root/nltk_data...\n",
            "[nltk_data]    |   Unzipping corpora/state_union.zip.\n",
            "[nltk_data]    | Downloading package stopwords to /root/nltk_data...\n",
            "[nltk_data]    |   Unzipping corpora/stopwords.zip.\n",
            "[nltk_data]    | Downloading package subjectivity to\n",
            "[nltk_data]    |     /root/nltk_data...\n",
            "[nltk_data]    |   Unzipping corpora/subjectivity.zip.\n",
            "[nltk_data]    | Downloading package swadesh to /root/nltk_data...\n",
            "[nltk_data]    |   Unzipping corpora/swadesh.zip.\n",
            "[nltk_data]    | Downloading package switchboard to /root/nltk_data...\n",
            "[nltk_data]    |   Unzipping corpora/switchboard.zip.\n",
            "[nltk_data]    | Downloading package timit to /root/nltk_data...\n",
            "[nltk_data]    |   Unzipping corpora/timit.zip.\n",
            "[nltk_data]    | Downloading package toolbox to /root/nltk_data...\n",
            "[nltk_data]    |   Unzipping corpora/toolbox.zip.\n",
            "[nltk_data]    | Downloading package treebank to /root/nltk_data...\n",
            "[nltk_data]    |   Unzipping corpora/treebank.zip.\n",
            "[nltk_data]    | Downloading package twitter_samples to\n",
            "[nltk_data]    |     /root/nltk_data...\n",
            "[nltk_data]    |   Unzipping corpora/twitter_samples.zip.\n",
            "[nltk_data]    | Downloading package udhr to /root/nltk_data...\n",
            "[nltk_data]    |   Unzipping corpora/udhr.zip.\n",
            "[nltk_data]    | Downloading package udhr2 to /root/nltk_data...\n",
            "[nltk_data]    |   Unzipping corpora/udhr2.zip.\n",
            "[nltk_data]    | Downloading package unicode_samples to\n",
            "[nltk_data]    |     /root/nltk_data...\n",
            "[nltk_data]    |   Unzipping corpora/unicode_samples.zip.\n",
            "[nltk_data]    | Downloading package universal_treebanks_v20 to\n",
            "[nltk_data]    |     /root/nltk_data...\n",
            "[nltk_data]    | Downloading package verbnet to /root/nltk_data...\n",
            "[nltk_data]    |   Unzipping corpora/verbnet.zip.\n",
            "[nltk_data]    | Downloading package verbnet3 to /root/nltk_data...\n",
            "[nltk_data]    |   Unzipping corpora/verbnet3.zip.\n",
            "[nltk_data]    | Downloading package webtext to /root/nltk_data...\n",
            "[nltk_data]    |   Unzipping corpora/webtext.zip.\n",
            "[nltk_data]    | Downloading package wordnet to /root/nltk_data...\n",
            "[nltk_data]    |   Unzipping corpora/wordnet.zip.\n",
            "[nltk_data]    | Downloading package wordnet_ic to /root/nltk_data...\n",
            "[nltk_data]    |   Unzipping corpora/wordnet_ic.zip.\n",
            "[nltk_data]    | Downloading package words to /root/nltk_data...\n",
            "[nltk_data]    |   Unzipping corpora/words.zip.\n",
            "[nltk_data]    | Downloading package ycoe to /root/nltk_data...\n",
            "[nltk_data]    |   Unzipping corpora/ycoe.zip.\n",
            "[nltk_data]    | Downloading package rslp to /root/nltk_data...\n",
            "[nltk_data]    |   Unzipping stemmers/rslp.zip.\n",
            "[nltk_data]    | Downloading package maxent_treebank_pos_tagger to\n",
            "[nltk_data]    |     /root/nltk_data...\n",
            "[nltk_data]    |   Unzipping taggers/maxent_treebank_pos_tagger.zip.\n",
            "[nltk_data]    | Downloading package universal_tagset to\n",
            "[nltk_data]    |     /root/nltk_data...\n",
            "[nltk_data]    |   Unzipping taggers/universal_tagset.zip.\n",
            "[nltk_data]    | Downloading package maxent_ne_chunker to\n",
            "[nltk_data]    |     /root/nltk_data...\n",
            "[nltk_data]    |   Unzipping chunkers/maxent_ne_chunker.zip.\n",
            "[nltk_data]    | Downloading package punkt to /root/nltk_data...\n",
            "[nltk_data]    |   Unzipping tokenizers/punkt.zip.\n",
            "[nltk_data]    | Downloading package book_grammars to\n",
            "[nltk_data]    |     /root/nltk_data...\n",
            "[nltk_data]    |   Unzipping grammars/book_grammars.zip.\n",
            "[nltk_data]    | Downloading package sample_grammars to\n",
            "[nltk_data]    |     /root/nltk_data...\n",
            "[nltk_data]    |   Unzipping grammars/sample_grammars.zip.\n",
            "[nltk_data]    | Downloading package spanish_grammars to\n",
            "[nltk_data]    |     /root/nltk_data...\n",
            "[nltk_data]    |   Unzipping grammars/spanish_grammars.zip.\n",
            "[nltk_data]    | Downloading package basque_grammars to\n",
            "[nltk_data]    |     /root/nltk_data...\n",
            "[nltk_data]    |   Unzipping grammars/basque_grammars.zip.\n",
            "[nltk_data]    | Downloading package large_grammars to\n",
            "[nltk_data]    |     /root/nltk_data...\n",
            "[nltk_data]    |   Unzipping grammars/large_grammars.zip.\n",
            "[nltk_data]    | Downloading package tagsets to /root/nltk_data...\n",
            "[nltk_data]    |   Unzipping help/tagsets.zip.\n",
            "[nltk_data]    | Downloading package snowball_data to\n",
            "[nltk_data]    |     /root/nltk_data...\n",
            "[nltk_data]    | Downloading package bllip_wsj_no_aux to\n",
            "[nltk_data]    |     /root/nltk_data...\n",
            "[nltk_data]    |   Unzipping models/bllip_wsj_no_aux.zip.\n",
            "[nltk_data]    | Downloading package word2vec_sample to\n",
            "[nltk_data]    |     /root/nltk_data...\n",
            "[nltk_data]    |   Unzipping models/word2vec_sample.zip.\n",
            "[nltk_data]    | Downloading package panlex_swadesh to\n",
            "[nltk_data]    |     /root/nltk_data...\n",
            "[nltk_data]    | Downloading package mte_teip5 to /root/nltk_data...\n",
            "[nltk_data]    |   Unzipping corpora/mte_teip5.zip.\n",
            "[nltk_data]    | Downloading package averaged_perceptron_tagger to\n",
            "[nltk_data]    |     /root/nltk_data...\n",
            "[nltk_data]    |   Unzipping taggers/averaged_perceptron_tagger.zip.\n",
            "[nltk_data]    | Downloading package averaged_perceptron_tagger_ru to\n",
            "[nltk_data]    |     /root/nltk_data...\n",
            "[nltk_data]    |   Unzipping\n",
            "[nltk_data]    |       taggers/averaged_perceptron_tagger_ru.zip.\n",
            "[nltk_data]    | Downloading package perluniprops to\n",
            "[nltk_data]    |     /root/nltk_data...\n",
            "[nltk_data]    |   Unzipping misc/perluniprops.zip.\n",
            "[nltk_data]    | Downloading package nonbreaking_prefixes to\n",
            "[nltk_data]    |     /root/nltk_data...\n",
            "[nltk_data]    |   Unzipping corpora/nonbreaking_prefixes.zip.\n",
            "[nltk_data]    | Downloading package vader_lexicon to\n",
            "[nltk_data]    |     /root/nltk_data...\n",
            "[nltk_data]    | Downloading package porter_test to /root/nltk_data...\n",
            "[nltk_data]    |   Unzipping stemmers/porter_test.zip.\n",
            "[nltk_data]    | Downloading package wmt15_eval to /root/nltk_data...\n",
            "[nltk_data]    |   Unzipping models/wmt15_eval.zip.\n",
            "[nltk_data]    | Downloading package mwa_ppdb to /root/nltk_data...\n",
            "[nltk_data]    |   Unzipping misc/mwa_ppdb.zip.\n",
            "[nltk_data]    | \n",
            "[nltk_data]  Done downloading collection all\n"
          ],
          "name": "stderr"
        },
        {
          "output_type": "execute_result",
          "data": {
            "text/plain": [
              "True"
            ]
          },
          "metadata": {
            "tags": []
          },
          "execution_count": 5
        }
      ]
    },
    {
      "cell_type": "code",
      "metadata": {
        "id": "HJEo2hxDc5Fc"
      },
      "source": [
        "import random\n",
        "# DO NOT EDIT THE FOLLOWING LINES\n",
        "# THESE LINES ARE FOR REPRODUCIBILITY\n",
        "random.seed(0)\n",
        "np.random.seed(0)\n",
        "tf.random.set_seed(0)"
      ],
      "execution_count": 6,
      "outputs": []
    },
    {
      "cell_type": "markdown",
      "metadata": {
        "id": "6APXtMHIJ43o"
      },
      "source": [
        "#PREPROCESSING\n",
        "1. Load Dataset\n",
        "2. Pre-process sentence into features\n",
        "\n"
      ]
    },
    {
      "cell_type": "markdown",
      "metadata": {
        "id": "byN4CqlqGKYy"
      },
      "source": [
        "#EXTRACT DATASET: TRAIN+TEST\n",
        "\n"
      ]
    },
    {
      "cell_type": "code",
      "metadata": {
        "id": "FhrDOP9tb6ag"
      },
      "source": [
        "#Datastructure to  extract dataset\n",
        "\n",
        "def load_dataset(files, cols, positive=False):\n",
        "  '''\n",
        "  files = list of path files\n",
        "  cols = usecols (e.g cols=\"B,E\" or \"B:E\")\n",
        "  positive = True when loading suicidal-only dataset without ground truth\n",
        "  return master_df\n",
        "  '''\n",
        "  master_df = pd.DataFrame()\n",
        "  for file in files:\n",
        "    dfs = pd.read_excel(file,sheet_name=[0],usecols=cols,skiprows=[]) # 1 dataframe for each sheet within an excel file\n",
        "    df = pd.concat(dfs,ignore_index=True) # merging the dataframes for each sheet\n",
        "    master_df = pd.concat([master_df,df],ignore_index=True) # merging the dataframes for each file\n",
        "  del dfs, df\n",
        "\n",
        "  # Clean Dataset\n",
        "  if positive:\n",
        "    master_df.loc[:,\"Ground-Truth\"] = True\n",
        "    # df_all = pd.concat([master_df, new_gt], axis=1)\n",
        "  else:\n",
        "    keys = master_df.keys().tolist()\n",
        "    master_df[keys[1]] = (master_df[keys[1]] == 'Y').astype(bool)\n",
        "\n",
        "  keys = master_df.keys().tolist()\n",
        "  print(\"keys are \", keys)\n",
        "  #rename ground truth class as not-key, but \"ground-truth\"\n",
        "  master_df = master_df.rename(columns={keys[0]: \"Sentence\"}) \n",
        "  master_df = master_df.rename(columns={keys[1]: \"Ground-Truth\"})\n",
        "\n",
        "  master_df.dropna(subset = [\"Sentence\"], inplace=True) \n",
        "  return master_df\n",
        "\n",
        "\n",
        "def combine(dfa, dfb):\n",
        "  return pd.concat([dfa, dfb], axis=0).sample(frac=1).reset_index(drop=True)\n",
        "\n",
        "\n",
        "def get_posneg(master_df, positive=5, negative=5, key_loc=1):\n",
        "  \"\"\"\n",
        "  master_df= original df that needs to be splitted\n",
        "  positive= how many positive suicidal sentence to extract\n",
        "  negative= how many non-suicidal sentence to extract\n",
        "  condition = \n",
        "  Return df_all: with Ground truth\n",
        "  \"\"\"\n",
        "  df_positives = master_df[master_df[master_df.keys()[1]].isin([True])]\n",
        "  df_negatives = master_df[master_df[master_df.keys()[1]].isin([False])]\n",
        "  # # df_negatives.reset_index(drop=True,inplace=True)\n",
        "  if positive==0 and negative==0:\n",
        "      raise ValueError(\"no sample is taken\")\n",
        "  if positive==0:\n",
        "      df_all = df_negatives.sample(negative)\n",
        "  elif negative==0:\n",
        "      df_all = df_positives.sample(positive)\n",
        "  else:\n",
        "      df_all = pd.concat([df_positives.sample(positive), df_negatives.sample(negative)], axis=0)\n",
        "  print(\"shapes: \", len(df_positives.index), len(df_negatives.index))\n",
        "  print(\"shape: \", len(df_all.index))\n",
        "  df_all = df_all.sample(frac=1).reset_index(drop=True) # Randomize\n",
        "  # print(df_positives.head(10))\n",
        "  return df_all\n",
        "\n",
        "\n",
        "def split(master_df, train=10, test=10, percent=None):\n",
        "  \"\"\"\n",
        "  split training and test\n",
        "  Return train_features, train_truth, test_features, test_truth\n",
        "  \"\"\"\n",
        "  if percent==None:\n",
        "    pass\n",
        "    #set train and test\n",
        "  #split\n",
        "\n",
        "  return train_features, train_truth, test_features, test_truth\n",
        "\n"
      ],
      "execution_count": 7,
      "outputs": []
    },
    {
      "cell_type": "code",
      "metadata": {
        "colab": {
          "base_uri": "https://localhost:8080/"
        },
        "id": "1V-gUNHapmOW",
        "outputId": "7ee256bd-1920-4d39-f25c-dddf69d55663"
      },
      "source": [
        "train_files = [\n",
        "  # TODO: Warn: Format is different need to change xlsx file labels\n",
        "  os.path.join(gitdir, \"dataset\", \"Scraping_4th_week_of_Fed_Suicidal.xlsx\"), # the correct data  \n",
        "]\n",
        "\n",
        "data_df = load_dataset(files=train_files, cols=\"B,E\", positive=False)\n",
        "# data_df\n",
        "train_files = [\n",
        "  # TODO: Warn: Format is different need to change xlsx file labels\n",
        "  os.path.join(gitdir, \"dataset\", \"Suicidal Texts Compilation (All Y's).xlsx\")\n",
        "]\n",
        "data2_df = load_dataset(files=train_files, cols=\"B\", positive=True)\n",
        "\n",
        "data_df = combine(data_df, data2_df)\n",
        "\n",
        "\n",
        "test_files = [\n",
        "  os.path.join(gitdir, \"dataset\", \"핵심 단어 목록.xlsx\")\n",
        "]"
      ],
      "execution_count": 10,
      "outputs": [
        {
          "output_type": "stream",
          "text": [
            "keys are  ['Post/Sentence', 'Suicidal (Y/N)']\n",
            "keys are  ['Post/Sentence', 'Ground-Truth']\n"
          ],
          "name": "stdout"
        }
      ]
    },
    {
      "cell_type": "code",
      "metadata": {
        "colab": {
          "base_uri": "https://localhost:8080/",
          "height": 417
        },
        "id": "xUglO9aqcz2C",
        "outputId": "0ed684d7-d420-4117-83cb-318fb2b301f1"
      },
      "source": [
        "data_df"
      ],
      "execution_count": 37,
      "outputs": [
        {
          "output_type": "execute_result",
          "data": {
            "text/html": [
              "<div>\n",
              "<style scoped>\n",
              "    .dataframe tbody tr th:only-of-type {\n",
              "        vertical-align: middle;\n",
              "    }\n",
              "\n",
              "    .dataframe tbody tr th {\n",
              "        vertical-align: top;\n",
              "    }\n",
              "\n",
              "    .dataframe thead th {\n",
              "        text-align: right;\n",
              "    }\n",
              "</style>\n",
              "<table border=\"1\" class=\"dataframe\">\n",
              "  <thead>\n",
              "    <tr style=\"text-align: right;\">\n",
              "      <th></th>\n",
              "      <th>Sentence</th>\n",
              "      <th>Ground-Truth</th>\n",
              "    </tr>\n",
              "  </thead>\n",
              "  <tbody>\n",
              "    <tr>\n",
              "      <th>0</th>\n",
              "      <td>요즘 저랑 증상이 비슷하시네요..\\n너무 힘드네요 저도\\n특히 직장생활이 너무 힘들...</td>\n",
              "      <td>False</td>\n",
              "    </tr>\n",
              "    <tr>\n",
              "      <th>1</th>\n",
              "      <td>없는 사실에 매달리는게 정상적인 삶이 아닙니다. 지나친 열정은 분노를 낳을 수 밖에...</td>\n",
              "      <td>False</td>\n",
              "    </tr>\n",
              "    <tr>\n",
              "      <th>2</th>\n",
              "      <td>전 세로켈.리튬.라믹탈 먹고 있어요. 리스페리돌은 모르겠고.. 전 현재 체중증가는 ...</td>\n",
              "      <td>False</td>\n",
              "    </tr>\n",
              "    <tr>\n",
              "      <th>3</th>\n",
              "      <td>안타깝네요.\\n상태는 어떠세요? 심하세요?\\n엄마 본인의 병을 인식하시나요?\\n\\n...</td>\n",
              "      <td>False</td>\n",
              "    </tr>\n",
              "    <tr>\n",
              "      <th>4</th>\n",
              "      <td>와 2년이나 운동하셨네요. 지금도 하시나요? 대단하시네요. 그리고 글 내용도 너무 ...</td>\n",
              "      <td>False</td>\n",
              "    </tr>\n",
              "    <tr>\n",
              "      <th>...</th>\n",
              "      <td>...</td>\n",
              "      <td>...</td>\n",
              "    </tr>\n",
              "    <tr>\n",
              "      <th>2414</th>\n",
              "      <td>저는 쿠에타핀 때문에 하지불안증후군 와서 뺐어요ㅜㅜ\\n\\n</td>\n",
              "      <td>False</td>\n",
              "    </tr>\n",
              "    <tr>\n",
              "      <th>2415</th>\n",
              "      <td>직접 본게아니라 말씀드리기 꺼려지지만 비슷하긴 합니다\\n\\n</td>\n",
              "      <td>False</td>\n",
              "    </tr>\n",
              "    <tr>\n",
              "      <th>2416</th>\n",
              "      <td>일단 약먹고 잘챙겨먹고요ㆍ님도 우울해지니 잘드시고요ㆍ애기랑 힘들면 안되요ㆍ10개월 ...</td>\n",
              "      <td>False</td>\n",
              "    </tr>\n",
              "    <tr>\n",
              "      <th>2417</th>\n",
              "      <td>항우울제,\\n\\n​\\n\\n조울증 성향이 없는 사람들은, 항우울제를 복용해도 조증이 ...</td>\n",
              "      <td>False</td>\n",
              "    </tr>\n",
              "    <tr>\n",
              "      <th>2418</th>\n",
              "      <td>저두 그런부작용있어서요 지금은 수면제 항불안제 아애먹어요 주치의와 이야기해서 끊어요...</td>\n",
              "      <td>False</td>\n",
              "    </tr>\n",
              "  </tbody>\n",
              "</table>\n",
              "<p>2419 rows × 2 columns</p>\n",
              "</div>"
            ],
            "text/plain": [
              "                                               Sentence  Ground-Truth\n",
              "0     요즘 저랑 증상이 비슷하시네요..\\n너무 힘드네요 저도\\n특히 직장생활이 너무 힘들...         False\n",
              "1     없는 사실에 매달리는게 정상적인 삶이 아닙니다. 지나친 열정은 분노를 낳을 수 밖에...         False\n",
              "2     전 세로켈.리튬.라믹탈 먹고 있어요. 리스페리돌은 모르겠고.. 전 현재 체중증가는 ...         False\n",
              "3     안타깝네요.\\n상태는 어떠세요? 심하세요?\\n엄마 본인의 병을 인식하시나요?\\n\\n...         False\n",
              "4     와 2년이나 운동하셨네요. 지금도 하시나요? 대단하시네요. 그리고 글 내용도 너무 ...         False\n",
              "...                                                 ...           ...\n",
              "2414                   저는 쿠에타핀 때문에 하지불안증후군 와서 뺐어요ㅜㅜ\\n\\n         False\n",
              "2415                  직접 본게아니라 말씀드리기 꺼려지지만 비슷하긴 합니다\\n\\n         False\n",
              "2416  일단 약먹고 잘챙겨먹고요ㆍ님도 우울해지니 잘드시고요ㆍ애기랑 힘들면 안되요ㆍ10개월 ...         False\n",
              "2417  항우울제,\\n\\n​\\n\\n조울증 성향이 없는 사람들은, 항우울제를 복용해도 조증이 ...         False\n",
              "2418  저두 그런부작용있어서요 지금은 수면제 항불안제 아애먹어요 주치의와 이야기해서 끊어요...         False\n",
              "\n",
              "[2419 rows x 2 columns]"
            ]
          },
          "metadata": {
            "tags": []
          },
          "execution_count": 37
        }
      ]
    },
    {
      "cell_type": "code",
      "metadata": {
        "id": "480uV37K4cAd"
      },
      "source": [
        "#Learn How to iterate those\n",
        "# df_negatives.iloc[100] #text:[0], class:[1]\n",
        "# df_positives #reddit post and suicide risk\n",
        "# df_negatives[keys[1]]"
      ],
      "execution_count": 38,
      "outputs": []
    },
    {
      "cell_type": "markdown",
      "metadata": {
        "id": "VE7zzrCsykEa"
      },
      "source": [
        "##Dataset Tensorflow"
      ]
    },
    {
      "cell_type": "code",
      "metadata": {
        "id": "MKgGQGcjyno7"
      },
      "source": [
        "# TODO: Find the right data structure to match tensorflow dataset, so that the train and test data\n",
        "# will be trainable\n",
        "\n",
        "# Reference: https://www.tensorflow.org/datasets/add_dataset\n",
        "# TODO: Later, for more Classifications, need custom datasets\n",
        "# Negative: Q불안장애Anxiety, W트라우마PTSD, E우울증Depression, R조울증Bipolar, T강박장애OCD, Y무기력Lethargy, U과잉행동장애ADHD, I공황장애Panic disorder\n",
        "# Positive: A응원Encourage S극복Overcome D다짐Decide F추억Remind G깨달음Realized H감사Gratitude J사과Apology K고백Confession L용서Forgiveness"
      ],
      "execution_count": 39,
      "outputs": []
    },
    {
      "cell_type": "markdown",
      "metadata": {
        "id": "L4Ehvsc2oJ9k"
      },
      "source": [
        "#Features Extraction"
      ]
    },
    {
      "cell_type": "code",
      "metadata": {
        "id": "WqWM-ln7c_ZP"
      },
      "source": [
        "def deEmojify(text):\n",
        "    regrex_pattern = re.compile(pattern = \"[\"\n",
        "        u\"\\U0001F600-\\U0001F64F\"  # emoticons\n",
        "        u\"\\U0001F300-\\U0001F5FF\"  # symbols & pictographs\n",
        "        u\"\\U0001F680-\\U0001F6FF\"  # transport & map symbols\n",
        "        u\"\\U0001F1E0-\\U0001F1FF\"  # flags (iOS)\n",
        "                           \"]+\", flags = re.UNICODE)\n",
        "    return regrex_pattern.sub(r'',text)\n",
        "\n",
        "kkma = konlpy.tag.Kkma()"
      ],
      "execution_count": 40,
      "outputs": []
    },
    {
      "cell_type": "code",
      "metadata": {
        "colab": {
          "base_uri": "https://localhost:8080/",
          "height": 0
        },
        "id": "1x6YOGrPCPgP",
        "outputId": "7ae1786a-008b-4fc9-a862-78288708f311"
      },
      "source": [
        "#TESTING KONLPY\n",
        "'''\n",
        "\n",
        "# every = \"my name is 미코. 제가 21살이야. 반갑습니다\"\n",
        "every = \"집에 오면 내 편은 아무도 없고 우울하기만 합니다 어떻게 해야 할까요\"\n",
        "every = \"생각많은것도 에너지 고갈된다😣😓, 노래듣고 재밌는 프로 보면서 즐겁게 쉬자🔥\"\n",
        "# every = \"마인드까페👍 상담사님들👍💕\" # KKMA can't work on emoticons, why? KKMA uses UTF-8!\n",
        "\n",
        "#1st try\n",
        "every = '생각많은것도 에너지 고갈된다😣😓, 노래듣고😣😓 재밌는 프로 보면서 즐겁게 쉬자🔥'\n",
        "print(\"tokens: \", nltk.word_tokenize(every))\n",
        "print(len(every), every.split()) #emoticon is not alphabet, korean texts ARE\n",
        "print(every.split()[0].isalpha())\n",
        "after = every.encode('latin1', errors = \"replace\")\n",
        "print(type(after))\n",
        "POS = kkma.pos(after)\n",
        "# print(after.decode(\"utf-8\"))\n",
        " # 'latin-1''utf-8' 'unicode-escape' (\"utf-8\", errors = \"replace\")\n",
        "print(POS) # ERROR\n",
        "#2 \n",
        "#we can define emoticon as new feature later\n",
        "# count number of emoticons\n",
        "# for char in every\n",
        "import emoji\n",
        "import re\n",
        "\n",
        "emojis = ''.join(c for c in every if c in emoji.UNICODE_EMOJI['en'])\n",
        "non_emoji_sents = deEmojify(every)\n",
        "POS = kkma.pos(non_emoji_sents)\n",
        "print(\"FINAL POS\", POS)\n",
        "\n",
        "text = \"입맛이 없고 나른해지면서 아무 생각이 없어지는 걸 보니 울기가 시작되려나 보네요 일찍 병원에 갔다가 다시 약조절 하고 간만에 스벅 왔는데 그 좋아하는 샌드위치를 봐도 감흥이 없어요 이 시기에 살이나 빼야겠어요 다들 주말 무사히 보내세요~\"\n",
        "POS = kkma.pos(text)\n",
        "POS # ~ has POS of \"SO\"\n",
        "'''"
      ],
      "execution_count": 41,
      "outputs": [
        {
          "output_type": "execute_result",
          "data": {
            "application/vnd.google.colaboratory.intrinsic+json": {
              "type": "string"
            },
            "text/plain": [
              "'\\n\\n# every = \"my name is 미코. 제가 21살이야. 반갑습니다\"\\nevery = \"집에 오면 내 편은 아무도 없고 우울하기만 합니다 어떻게 해야 할까요\"\\nevery = \"생각많은것도 에너지 고갈된다😣😓, 노래듣고 재밌는 프로 보면서 즐겁게 쉬자🔥\"\\n# every = \"마인드까페👍 상담사님들👍💕\" # KKMA can\\'t work on emoticons, why? KKMA uses UTF-8!\\n\\n#1st try\\nevery = \\'생각많은것도 에너지 고갈된다😣😓, 노래듣고😣😓 재밌는 프로 보면서 즐겁게 쉬자🔥\\'\\nprint(\"tokens: \", nltk.word_tokenize(every))\\nprint(len(every), every.split()) #emoticon is not alphabet, korean texts ARE\\nprint(every.split()[0].isalpha())\\nafter = every.encode(\\'latin1\\', errors = \"replace\")\\nprint(type(after))\\nPOS = kkma.pos(after)\\n# print(after.decode(\"utf-8\"))\\n # \\'latin-1\\'\\'utf-8\\' \\'unicode-escape\\' (\"utf-8\", errors = \"replace\")\\nprint(POS) # ERROR\\n#2 \\n#we can define emoticon as new feature later\\n# count number of emoticons\\n# for char in every\\nimport emoji\\nimport re\\n\\nemojis = \\'\\'.join(c for c in every if c in emoji.UNICODE_EMOJI[\\'en\\'])\\nnon_emoji_sents = deEmojify(every)\\nPOS = kkma.pos(non_emoji_sents)\\nprint(\"FINAL POS\", POS)\\n\\ntext = \"입맛이 없고 나른해지면서 아무 생각이 없어지는 걸 보니 울기가 시작되려나 보네요 일찍 병원에 갔다가 다시 약조절 하고 간만에 스벅 왔는데 그 좋아하는 샌드위치를 봐도 감흥이 없어요 이 시기에 살이나 빼야겠어요 다들 주말 무사히 보내세요~\"\\nPOS = kkma.pos(text)\\nPOS # ~ has POS of \"SO\"\\n'"
            ]
          },
          "metadata": {
            "tags": []
          },
          "execution_count": 41
        }
      ]
    },
    {
      "cell_type": "code",
      "metadata": {
        "id": "lVB9gW5sT5hL"
      },
      "source": [
        "from sklearn.feature_extraction.text import CountVectorizer, TfidfTransformer\n",
        "\n",
        "def get_all_tags(data):\n",
        "    print(\"Processing POS features ...\")\n",
        "    tags_all = []\n",
        "    for title in data:\n",
        "        emojis = ''.join(c for c in title if c in emoji.UNICODE_EMOJI['en'])\n",
        "        non_emoji_sents = deEmojify(title)\n",
        "        tagged_text = kkma.pos(non_emoji_sents)\n",
        "        # tagged_text = kkma.pos(title)\n",
        "        for word, tag in tagged_text:\n",
        "            if tag not in tags_all:\n",
        "                tags_all.append(tag)\n",
        "    return tags_all\n",
        "\n",
        "\n",
        "def f_pos(data, tags_all):\n",
        "    tag_dict, tag_count = {}, {}\n",
        "    for tag in tags_all:\n",
        "        tag_dict[tag] = 0\n",
        "        tag_count[tag] = []\n",
        "    for title in data:\n",
        "        # every = nltk.word_tokenize(title)      \n",
        "        # print(title)\n",
        "        emojis = ''.join(c for c in title if c in emoji.UNICODE_EMOJI['en'])\n",
        "        non_emoji_sents = deEmojify(title)\n",
        "        tagged_text = kkma.pos(non_emoji_sents)\n",
        "        # tagged_text = kkma.pos(title) # tagged_text = nltk.pos_tag(nltk.word_tokenize(title)) \n",
        "        for word, tag in tagged_text:\n",
        "            tag_dict[tag]+=1\n",
        "        for count,tag in zip(tag_dict.values(), tag_dict.keys()):\n",
        "            tag_count[tag].append(count)\n",
        "    return pd.DataFrame(tag_count, index=None)\n",
        "\n",
        "\n",
        "def f_basic(data):\n",
        "    print(\"Processing basic features ...\")\n",
        "    num_title_words, num_title_token, num_title_char, num_emojis = [], [], [], []\n",
        "    for title in data:\n",
        "        num_title_words.append(len(title.split()))\n",
        "        # print(title) #avoid emoticons\n",
        "        emojis = ''.join(c for c in title if c in emoji.UNICODE_EMOJI['en'])\n",
        "        non_emoji_sents = deEmojify(title)\n",
        "        tagged_text = kkma.pos(non_emoji_sents)\n",
        "        tokens = [word for word, tag in tagged_text]\n",
        "        num_title_token.append(len(tokens))\n",
        "        num_title_char.append(len(title))\n",
        "        num_emojis.append(len(emojis))\n",
        "    print(\"Processing basic features ... Almost Done\")\n",
        "    features = {'title_words': num_title_words, 'title_token': num_title_token, 'title_char': num_title_char,'title_emojis': num_emojis}\n",
        "    print(\"Processing basic features ... Done\")\n",
        "    return pd.DataFrame(features, columns=['title_words', 'title_token', 'title_char','title_emojis'])\n",
        "\n",
        "\n",
        "def f_tfidf(data):\n",
        "    print(\"Processing TF-IDF features ...\")\n",
        "    X = data\n",
        "    count_vect = CountVectorizer(stop_words='english', ngram_range=(1, 1), max_features=50)\n",
        "    X_counts = count_vect.fit_transform(X)\n",
        "    tfidf_transformer = TfidfTransformer()\n",
        "    X_train_tfidf = tfidf_transformer.fit_transform(X_counts)\n",
        "    df_tfidf = pd.DataFrame(X_train_tfidf.todense())\n",
        "    return df_tfidf\n",
        "\n",
        "  \n",
        "def features(data): ### Features Extraction \n",
        "  df_basic = f_basic(data)\n",
        "  df_tfidf = f_tfidf(data)\n",
        "  tags_all = get_all_tags(data)\n",
        "  df_pos = f_pos(data, tags_all)\n",
        "  df_features = pd.concat([df_basic,  df_pos], axis=1) \\\n",
        "  #df_tfidf # NOTE THAT TF IDF IS NOT INCLUDED\n",
        "  return df_features"
      ],
      "execution_count": 42,
      "outputs": []
    },
    {
      "cell_type": "markdown",
      "metadata": {
        "id": "0AygbYFzMYZv"
      },
      "source": [
        "# Run Features IGNORE FOR NOW"
      ]
    },
    {
      "cell_type": "code",
      "metadata": {
        "id": "0n5LdwZvohgP",
        "colab": {
          "base_uri": "https://localhost:8080/",
          "height": 0
        },
        "outputId": "7f363d65-b169-4d9f-db28-c09cf547e94e"
      },
      "source": [
        "# list(df_negatives_zenodo['Reddit Post'])\n",
        "\n",
        "# def get_zenodo(n_train, n_valid, n_pred): \n",
        "'''\n",
        "n_train,  n_pred = 500, 700\n",
        "\n",
        "  zenodo: Negative 1609 ['supportive','uninformative']\n",
        "          Positive 778 ['attempt','behavior','indicator','ideation']\n",
        "  Index of Extraction: n_train < n_pred\n",
        "  Maximum n_pred is 750\n",
        "  Return Dataset for 6 classifications, balanced data between positive and negative\n",
        "\n",
        "import random\n",
        "if n_pred > 750: raise AssertionError(\"n_pred exceeds\")\n",
        "if (n_train < n_pred) is False: raise AssertionError(\"Input Order Error\")\n",
        "positive_sents = list(df_positives_zenodo['Reddit Post'][:n_pred])\n",
        "# print(type(positive_sents))\n",
        "negative_sents = list(df_negatives_zenodo['Reddit Post'][:n_pred])\n",
        "extracted_sentences = positive_sents + negative_sents # list of all sentences in the corpus\n",
        "extracted_sentences = [str(sent) for sent in extracted_sentences] \n",
        "\n",
        "extracted_labels = list(df_positives_zenodo['Suicide Risk'][:n_pred])\n",
        "extracted_labels += list(df_negatives_zenodo['Suicide Risk'][:n_pred])\n",
        "labels = ['supportive','uninformative','attempt','behavior','indicator','ideation']\n",
        "extracted_labels = [labels.index(each) for each in extracted_labels]\n",
        "\n",
        "# Shuffle\n",
        "seed = random.random()\n",
        "random.seed(seed) \n",
        "random.shuffle(extracted_sentences)\n",
        "random.seed(seed)\n",
        "random.shuffle(extracted_labels)\n",
        "# # Shuffle\n",
        "# indices = np.arange(extracted_sentences.shape[0])\n",
        "# np.random.shuffle(indices)\n",
        "# extracted_sentences = extracted_sentences[indices]\n",
        "# extracted_labels = extracted_labels[indices]\n",
        "\n",
        "# TRAIN\n",
        "train_sentences = extracted_sentences[:n_train]\n",
        "train_labels = extracted_labels[:n_train]\n",
        "\n",
        "# TEST\n",
        "test_sentences = extracted_sentences[n_train:n_pred]\n",
        "test_labels = extracted_labels[n_train:n_pred]\n",
        "# print(corY_labels)\n",
        "# Should I convert into digits of classes?\n",
        "'''\n",
        "\n"
      ],
      "execution_count": 43,
      "outputs": [
        {
          "output_type": "execute_result",
          "data": {
            "application/vnd.google.colaboratory.intrinsic+json": {
              "type": "string"
            },
            "text/plain": [
              "'\\nn_train,  n_pred = 500, 700\\n\\n  zenodo: Negative 1609 [\\'supportive\\',\\'uninformative\\']\\n          Positive 778 [\\'attempt\\',\\'behavior\\',\\'indicator\\',\\'ideation\\']\\n  Index of Extraction: n_train < n_pred\\n  Maximum n_pred is 750\\n  Return Dataset for 6 classifications, balanced data between positive and negative\\n\\nimport random\\nif n_pred > 750: raise AssertionError(\"n_pred exceeds\")\\nif (n_train < n_pred) is False: raise AssertionError(\"Input Order Error\")\\npositive_sents = list(df_positives_zenodo[\\'Reddit Post\\'][:n_pred])\\n# print(type(positive_sents))\\nnegative_sents = list(df_negatives_zenodo[\\'Reddit Post\\'][:n_pred])\\nextracted_sentences = positive_sents + negative_sents # list of all sentences in the corpus\\nextracted_sentences = [str(sent) for sent in extracted_sentences] \\n\\nextracted_labels = list(df_positives_zenodo[\\'Suicide Risk\\'][:n_pred])\\nextracted_labels += list(df_negatives_zenodo[\\'Suicide Risk\\'][:n_pred])\\nlabels = [\\'supportive\\',\\'uninformative\\',\\'attempt\\',\\'behavior\\',\\'indicator\\',\\'ideation\\']\\nextracted_labels = [labels.index(each) for each in extracted_labels]\\n\\n# Shuffle\\nseed = random.random()\\nrandom.seed(seed) \\nrandom.shuffle(extracted_sentences)\\nrandom.seed(seed)\\nrandom.shuffle(extracted_labels)\\n# # Shuffle\\n# indices = np.arange(extracted_sentences.shape[0])\\n# np.random.shuffle(indices)\\n# extracted_sentences = extracted_sentences[indices]\\n# extracted_labels = extracted_labels[indices]\\n\\n# TRAIN\\ntrain_sentences = extracted_sentences[:n_train]\\ntrain_labels = extracted_labels[:n_train]\\n\\n# TEST\\ntest_sentences = extracted_sentences[n_train:n_pred]\\ntest_labels = extracted_labels[n_train:n_pred]\\n# print(corY_labels)\\n# Should I convert into digits of classes?\\n'"
            ]
          },
          "metadata": {
            "tags": []
          },
          "execution_count": 43
        }
      ]
    },
    {
      "cell_type": "code",
      "metadata": {
        "id": "ojMBKfnVzDWC"
      },
      "source": [
        "# vocab_size, bow_features, tfidf_features = BOW_TFIDF(train_sentences)\n",
        "# #Warning: This takes a long Time!\n",
        "\n",
        "# print(tfidf_features[200])"
      ],
      "execution_count": 44,
      "outputs": []
    },
    {
      "cell_type": "markdown",
      "metadata": {
        "id": "kUdww3ymJ_DH"
      },
      "source": [
        "# Model: RNN"
      ]
    },
    {
      "cell_type": "code",
      "metadata": {
        "id": "5d5pL2sGsBS8"
      },
      "source": [
        "def arg_rnn():\n",
        "    parser = argparse.ArgumentParser()\n",
        "    parser.add_argument('--max_seq_len', type=int, default=1000, help=\"max length of sequences\")\n",
        "    parser.add_argument('--max_num_words', type=int, default=20000, help=\"max number of words\")\n",
        "    parser.add_argument('-d', '--embedding_dim', type=int, default=500, help=\"embedding dimension\")\n",
        "    parser.add_argument('--rnn_units', type=int, default=128, help=\"units of RNN\")\n",
        "    parser.add_argument('--dropout_rate', type=float, default=0.1, help='dropout rate')\n",
        "    parser.add_argument('--dense_units', type=int, default=32, help=\"units of Dense layer\")\n",
        "    parser.add_argument('--embedding_type', type=str, default='word2vec', help=\"the type of word embedding\")\n",
        "    parser.add_argument('--valid_split', type=float, default=0.1, help=\"ratio of validation split\")\n",
        "    parser.add_argument('-act', '--activation', type=str, default='relu', help=\"type of activation function\")\n",
        "    parser.add_argument('--patience', type=int, default=10, help=\"number of epochs with no improvement after which training will be stopped\")\n",
        "    parser.add_argument('--batch_size', type=int, default=64, help=\"batch size\")\n",
        "    parser.add_argument('--epochs', type=int ,default=20, help=\"training epochs\")\n",
        "    # args = parser.parse_args()\n",
        "    args, unknown = parser.parse_known_args()\n",
        "    return args"
      ],
      "execution_count": 115,
      "outputs": []
    },
    {
      "cell_type": "code",
      "metadata": {
        "id": "0lLsAQHfKFQG"
      },
      "source": [
        "def build_RNN(args):\n",
        "    model = tf.keras.Sequential([\n",
        "      tf.keras.layers.Embedding(100000, args.embedding_dim), \n",
        "      tf.keras.layers.SimpleRNN(128, return_sequences=True),\n",
        "      tf.keras.layers.GlobalMaxPool1D(),\n",
        "      # tf.keras.layers.Dropout(args.dropout_rate),\n",
        "      tf.keras.layers.BatchNormalization(),\n",
        "      tf.keras.layers.Dense(args.dense_units, activation=\"relu\"),\n",
        "      # tf.keras.layers.Dropout(args.dropout_rate),\n",
        "      tf.keras.layers.BatchNormalization(),\n",
        "      tf.keras.layers.Dense(1, activation=\"sigmoid\")\n",
        "    ])\n",
        "    model.compile(loss='binary_crossentropy', optimizer='adam', metrics=['BinaryAccuracy'])#sparse_categorical_crossentropy #accuracy\n",
        "    return model"
      ],
      "execution_count": 117,
      "outputs": []
    },
    {
      "cell_type": "code",
      "metadata": {
        "id": "4Kb2OPlmojt3"
      },
      "source": [
        "# def build_RNN(args):\n",
        "#     # TODO: Tim, please modify this part use tf.keras instead of keras.model\n",
        "#     # model = tf.keras.Sequential([\n",
        "#     #     tf.keras.layers.Dense(16,activation='relu',input_shape=(NUM_WORDS,)),\n",
        "#     # ])\n",
        "#     # inp1 = tf.keras.layers.Input(shape=(args.max_seq_len, ))\n",
        "#     # inp2 = tf.keras.layers.Input(shape=(args.max_seq_len, ))\n",
        "#     model = tf.keras.Sequential([\n",
        "#       tf.keras.layers.Embedding(vocab_size, args.embedding_dim), \n",
        "#       # x2 = tf.keras.layers.Embedding(args.max_num_words, args.embedding_dim)(inp2)\n",
        "#       tf.keras.layers.SimpleRNN(128, return_sequences=True),\n",
        "#       # x2 = tf.keras.layers.SimpleRNN(args.rnn_units, return_sequences=True)(x2)\n",
        "#       # x = tf.keras.layers.concatenate([x1, x2])\n",
        "#       tf.keras.layers.GlobalMaxPool1D(),\n",
        "#       tf.keras.layers.Dropout(args.dropout_rate),\n",
        "#       tf.keras.layers.BatchNormalization(),\n",
        "#       tf.keras.layers.Dense(args.dense_units, activation=\"relu\"),\n",
        "#       tf.keras.layers.Dropout(args.dropout_rate),\n",
        "#       tf.keras.layers.BatchNormalization(),\n",
        "#       tf.keras.layers.Dense(1, activation=\"sigmoid\")\n",
        "#       # model = tf.keras.models.Model(inputs=[inp1, inp2], outputs=x)\n",
        "#     ])\n",
        "#     model.compile(loss='binary_crossentropy', optimizer='adam', metrics=['accuracy'])\n",
        "#     return model"
      ],
      "execution_count": 47,
      "outputs": []
    },
    {
      "cell_type": "code",
      "metadata": {
        "id": "GTEc85dW7vuW"
      },
      "source": [
        "# PLOT EVALUATION\n",
        "\n",
        "def evaluate(history):\n",
        "  acc = history.history['binary_accuracy']\n",
        "  val_acc = history.history['val_binary_accuracy']\n",
        "\n",
        "  loss = history.history['loss']\n",
        "  val_loss = history.history['val_loss']\n",
        "\n",
        "  plt.figure(figsize=(8, 8))\n",
        "  plt.subplot(2, 1, 1)\n",
        "  plt.plot(acc, label='Training Accuracy')\n",
        "  plt.plot(val_acc, label='Validation Accuracy')\n",
        "  plt.legend(loc='lower right')\n",
        "  plt.ylabel('Accuracy')\n",
        "  plt.ylim([min(plt.ylim()),1])\n",
        "  plt.title('Training Accuracy')\n",
        "\n",
        "  plt.subplot(2, 1, 2)\n",
        "  plt.plot(loss, label='Training Loss')\n",
        "  plt.plot(val_loss, label='Validation Loss')\n",
        "  plt.legend(loc='upper right')\n",
        "  plt.ylabel('Cross Entropy')\n",
        "  plt.ylim([0,1.0])\n",
        "  plt.title('Training Loss')\n",
        "  plt.xlabel('epoch')\n",
        "  plt.show()"
      ],
      "execution_count": 74,
      "outputs": []
    },
    {
      "cell_type": "markdown",
      "metadata": {
        "id": "2PkI2utkWwTS"
      },
      "source": [
        "#Execution"
      ]
    },
    {
      "cell_type": "code",
      "metadata": {
        "colab": {
          "base_uri": "https://localhost:8080/"
        },
        "id": "jZ0NUvX92_p6",
        "outputId": "d922029f-b3c8-4054-fa73-0cdb91b4881d"
      },
      "source": [
        "# EXECUTION DATASET\n",
        "\n",
        "set_df = get_posneg(data_df, positive=210, negative=210, key_loc=1)\n",
        "test_df = load_dataset(files=test_files, cols=\"B\", positive=True)\n",
        "test_setdf = get_posneg(test_df, positive=100, negative=0, key_loc=1)\n",
        "\n",
        "# EXTRACTING FEATURES\n",
        "\n",
        "train_features = set_df.copy()\n",
        "train_labels = train_features.pop(\"Ground-Truth\")\n",
        "train_features = features(train_features[\"Sentence\"].tolist())\n",
        "\n",
        "test_features = test_setdf.copy()\n",
        "test_labels = test_features.pop(\"Ground-Truth\")\n",
        "test_features = features(test_features[\"Sentence\"].tolist())"
      ],
      "execution_count": 133,
      "outputs": [
        {
          "output_type": "stream",
          "text": [
            "shapes:  211 2208\n",
            "shape:  420\n",
            "keys are  ['원본 텍스트 Original Sentence XX: Information left out to protect privacy 개인정보를 보호하기 위한 표시', 'Ground-Truth']\n",
            "shapes:  112 0\n",
            "shape:  100\n",
            "Processing basic features ...\n",
            "Processing basic features ... Almost Done\n",
            "Processing basic features ... Done\n",
            "Processing TF-IDF features ...\n",
            "Processing POS features ...\n",
            "Processing basic features ...\n",
            "Processing basic features ... Almost Done\n",
            "Processing basic features ... Done\n",
            "Processing TF-IDF features ...\n",
            "Processing POS features ...\n"
          ],
          "name": "stdout"
        }
      ]
    },
    {
      "cell_type": "code",
      "metadata": {
        "id": "qBfw9IzMIlLO",
        "colab": {
          "base_uri": "https://localhost:8080/"
        },
        "outputId": "bfc6599f-b10c-4357-a0ff-b53852df6308"
      },
      "source": [
        "\n",
        "RNN_arg = arg_rnn()\n",
        "RNN_model = build_RNN(RNN_arg)\n",
        "X1_train = np.array(train_features)\n",
        "X2_train = np.array(train_labels)\n",
        "history = RNN_model.fit(X1_train, X2_train, validation_split=0.1, epochs=4) #[:train_border]\n",
        "print(\"DONE\")\n",
        "# early = EarlyStopping(monitor=\"val_loss\", mode=\"min\", patience=20)\n",
        "# model.fit([X1_train, X2_train], y_train, batch_size=args_rnn.batch_size, epochs=args_rnn.epochs,\n",
        "#           validation_split=0.1, callbacks=[early])\n",
        "\n",
        "# BUG FOUND IN USING TF-IDF\n"
      ],
      "execution_count": 134,
      "outputs": [
        {
          "output_type": "stream",
          "text": [
            "Epoch 1/4\n",
            "12/12 [==============================] - 8s 523ms/step - loss: 0.8492 - binary_accuracy: 0.5238 - val_loss: 0.7791 - val_binary_accuracy: 0.4286\n",
            "Epoch 2/4\n",
            "12/12 [==============================] - 6s 507ms/step - loss: 0.3439 - binary_accuracy: 0.8836 - val_loss: 0.7720 - val_binary_accuracy: 0.4286\n",
            "Epoch 3/4\n",
            "12/12 [==============================] - 6s 492ms/step - loss: 0.1658 - binary_accuracy: 0.9868 - val_loss: 0.7791 - val_binary_accuracy: 0.4286\n",
            "Epoch 4/4\n",
            "12/12 [==============================] - 6s 484ms/step - loss: 0.0791 - binary_accuracy: 1.0000 - val_loss: 0.8049 - val_binary_accuracy: 0.4286\n",
            "DONE\n"
          ],
          "name": "stdout"
        }
      ]
    },
    {
      "cell_type": "code",
      "metadata": {
        "id": "7rClSdwKNyUG",
        "colab": {
          "base_uri": "https://localhost:8080/",
          "height": 563
        },
        "outputId": "26c2b1e8-1a54-48de-dbb7-0142481e5f75"
      },
      "source": [
        "evaluate(history)\n",
        "test_loss, test_accuracy = RNN_model.evaluate(np.asarray(test_features), np.array(test_labels))\n",
        "print(f'Test accuracy: {test_accuracy:.4f}')\n",
        "print(f'Test loss: {test_loss:.4f}')"
      ],
      "execution_count": 135,
      "outputs": [
        {
          "output_type": "display_data",
          "data": {
            "image/png": "[encoded data removed]",
            "text/plain": [
              "<Figure size 576x576 with 2 Axes>"
            ]
          },
          "metadata": {
            "tags": [],
            "needs_background": "light"
          }
        },
        {
          "output_type": "stream",
          "text": [
            "4/4 [==============================] - 0s 9ms/step - loss: 0.4318 - binary_accuracy: 1.0000\n",
            "Test accuracy: 1.0000\n",
            "Test loss: 0.4318\n"
          ],
          "name": "stdout"
        }
      ]
    },
    {
      "cell_type": "code",
      "metadata": {
        "id": "u0Uv3q-KCnWh"
      },
      "source": [
        "prediction = np.squeeze(RNN_model.predict(np.asarray(test_features)) ) #numpy.ndarray df_features[train_border:]\n",
        "truth =  np.asarray(test_labels)# np.asarray(X2_train[train_border:]) #numpy.ndarray\n",
        "result = np.asarray((prediction > 0.5)==truth)\n",
        "output_temp = pd.DataFrame({'prediction': prediction, 'truth': truth, 'result': result}, columns=['prediction', 'truth', 'result'] )\n",
        "pd.set_option('display.max_rows', None)\n",
        "print(output_temp[0:100])\n",
        "pd.set_option('display.max_rows', 10)\n"
      ],
      "execution_count": null,
      "outputs": []
    },
    {
      "cell_type": "markdown",
      "metadata": {
        "id": "egTEPxo9OchU"
      },
      "source": [
        "#LET'S USE THE MODEL AS A BASELINE FOR SUICIDAL CLASSIFICARTION"
      ]
    },
    {
      "cell_type": "code",
      "metadata": {
        "id": "R3_fY3bBOl5l"
      },
      "source": [
        "\n",
        "# RNN_model.trainable = False\n",
        "# MNT_model = tf.keras.Sequential([\n",
        "#     RNN_model,\n",
        "#     tf.keras.layers.GlobalAveragePooling1D(),\n",
        "#     tf.keras.layers.Dense(1,activation='sigmoid')\n",
        "# ])\n",
        "\n",
        "# MNT_model.compile(\n",
        "#     optimizer = 'RMSprop',\n",
        "#     loss = 'binary_crossentropy',\n",
        "#     metrics = ['accuracy']\n",
        "# )\n"
      ],
      "execution_count": 137,
      "outputs": []
    },
    {
      "cell_type": "code",
      "metadata": {
        "id": "fQBDEKDdPNi8"
      },
      "source": [
        "# history = MNT_model.fit(\n",
        "#     np.asarray(bow_features_kaggle),\n",
        "#     np.asarray(train_labels_kaggle)\n",
        "#     validation_split=0.1\n",
        "#     epochs=10\n",
        "# )\n"
      ],
      "execution_count": 138,
      "outputs": []
    },
    {
      "cell_type": "code",
      "metadata": {
        "id": "CrAqDfKbSBFL"
      },
      "source": [
        "# Evaluation Part\n",
        "# v, bowtestKaggle_features, tfidftestKaggle_features = BOW_TFIDF(test_sentences_kaggle)\n"
      ],
      "execution_count": 139,
      "outputs": []
    },
    {
      "cell_type": "code",
      "metadata": {
        "id": "330If9CRSLQX"
      },
      "source": [
        "# test_loss, test_accuracy = MNT_model.evaluate(np.asarray(bowtestKaggle_features), np.asarray(test_labels_kaggle))\n",
        "\n",
        "# print(f'Test accuracy: {test_accuracy:.4f}')\n",
        "# print(f'Test loss: {test_loss:.4f}')"
      ],
      "execution_count": 140,
      "outputs": []
    },
    {
      "cell_type": "markdown",
      "metadata": {
        "id": "Nbc-_w18KBat"
      },
      "source": [
        "#LSTM"
      ]
    },
    {
      "cell_type": "code",
      "metadata": {
        "id": "JL3TLLAYE5Q6"
      },
      "source": [
        "# import numpy as np\n",
        "# from tqdm import tqdm\n",
        "# from tabulate import tabulate\n",
        "# from sklearn.model_selection import KFold\n",
        "# from keras.models import Model\n",
        "# from keras.layers import Dense, Embedding, Input\n",
        "# from keras.layers import LSTM, GlobalMaxPool1D, Dropout, BatchNormalization\n",
        "# from keras.preprocessing import text, sequence\n",
        "# from keras.callbacks import EarlyStopping"
      ],
      "execution_count": 141,
      "outputs": []
    },
    {
      "cell_type": "code",
      "metadata": {
        "id": "UMVsARm1KFou"
      },
      "source": [
        "# def build_LSTM(args):\n",
        "#     # From XiongJi's Github\n",
        "#     inp = Input(shape=(args.max_seq_len, ))\n",
        "#     # x = Embedding(input_dim=args.max_num_words, output_dim=args.embedding_dim)(inp)\n",
        "#     # x = LSTM(units=args.lstm_units, activation='tanh', dropout=args.dropout_rate, return_sequences=True)(x)\n",
        "#     # x = GlobalMaxPool1D()(x)\n",
        "#     # x = Dropout(args.dropout_rate)(x)\n",
        "#     # x = BatchNormalization()(x)\n",
        "#     # x = Dense(args.dense_units, activation=\"relu\")(x)\n",
        "#     # x = Dropout(args.dropout_rate)(x)\n",
        "#     # x = BatchNormalization()(x)\n",
        "#     # x = Dense(1, activation=\"sigmoid\")(x)\n",
        "\n",
        "#     # TODO: Nabila, please modify this part use tf.keras instead of keras.model\n",
        "#     # model = tf.keras.Sequential([\n",
        "#     #     tf.keras.layers.Dense(16,activation='relu',input_shape=(NUM_WORDS,)),\n",
        "#     # ])\n",
        "\n",
        "#     model = Model(inputs=inp, outputs=x)\n",
        "\n",
        "#     model.compile(\n",
        "#         loss='binary_crossentropy', \n",
        "#         # OR 'sparse_categorical_crossentropy' for multiclassifcation\n",
        "#         optimizer='adam', \n",
        "#         # OR 'RMSprop'\n",
        "#         metrics=['accuracy'])\n",
        "#     return model\n"
      ],
      "execution_count": 142,
      "outputs": []
    }
  ]
}