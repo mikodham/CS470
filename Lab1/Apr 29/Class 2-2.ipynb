{
  "nbformat": 4,
  "nbformat_minor": 0,
  "metadata": {
    "kernelspec": {
      "display_name": "Python 3",
      "language": "python",
      "name": "python3"
    },
    "language_info": {
      "codemirror_mode": {
        "name": "ipython",
        "version": 3
      },
      "file_extension": ".py",
      "mimetype": "text/x-python",
      "name": "python",
      "nbconvert_exporter": "python",
      "pygments_lexer": "ipython3",
      "version": "3.8.3"
    },
    "colab": {
      "name": "Class 2-2.ipynb",
      "provenance": []
    }
  },
  "cells": [
    {
      "cell_type": "markdown",
      "metadata": {
        "id": "YNp1vQuFLG6l"
      },
      "source": [
        "# CS470 Introduction to Artificial Intelligence\n",
        "## Deep Learning Practice \n",
        "#### TA. Yechan Hwang\n",
        "\n",
        "\n",
        "---"
      ]
    },
    {
      "cell_type": "markdown",
      "metadata": {
        "id": "UVIjP4okLG6p"
      },
      "source": [
        "## 2-2. Text classification using IMDB dataset\n",
        "\n",
        "#### Topics for this chapter\n",
        " * IMDB datset\n",
        " * One-hot Encoding\n",
        " * Overfitting\n",
        "---"
      ]
    },
    {
      "cell_type": "markdown",
      "metadata": {
        "id": "TcA_8tRALG6p"
      },
      "source": [
        "#### IMDB dataset\n",
        "\n",
        "The IMDB dataset is data that contains movie review comments and positive or negative label representing the evaluation of the audience. This contains the text comments for 50,000 movie reviews from the [Internet Movie Database](https://www.imdb.com/). These data are splited in half so that we can get 25,000 reviews for training and 25,000 reviews for testing. The training and testing sets are balanced and unbiased, which means they contain an equal number of positive and negative reviews.\n",
        "\n",
        "#### Importance of balanced dataset\n",
        "Let's assume that we have 9,999 positive reviews and 1 negative review. Without any training, we can get 99.99% accuracy by just predicting all reviews as positive. This situation is called the _Accuracy Paradox_. Since we're using accuracy as a model metric, it's important to **balance the dataset well**. In the case of MNIST dataset, we can say that the dataset is balanced when we have about 60,000/10=6,000 images per digit class. (60,000 is the total number of images and 10 is the number of class)"
      ]
    },
    {
      "cell_type": "code",
      "metadata": {
        "id": "dG-ben5mLG6q",
        "outputId": "8cef2953-9b10-4003-f11a-36d2bc3e9aa9",
        "colab": {
          "base_uri": "https://localhost:8080/"
        }
      },
      "source": [
        "from __future__ import absolute_import, division, print_function, unicode_literals\n",
        "\n",
        "try:\n",
        "  # %tensorflow_version only exists in Colab.\n",
        "  %tensorflow_version 2.x\n",
        "except Exception:\n",
        "    pass\n",
        "import tensorflow as tf\n",
        "print('Tensorflow: ', tf.__version__)\n",
        "\n",
        "import numpy as np\n",
        "import matplotlib.pyplot as plt"
      ],
      "execution_count": 2,
      "outputs": [
        {
          "output_type": "stream",
          "text": [
            "Tensorflow:  2.4.1\n"
          ],
          "name": "stdout"
        }
      ]
    },
    {
      "cell_type": "markdown",
      "metadata": {
        "id": "n623bxhlLG6q"
      },
      "source": [
        "To handle the text dataset, we first need to transform the data into a form that can be used for training. There are two common methods we can use when dealing with text data, **one-hot encoding** and **word embedding**. In this practice, we'll use one-hot encoding method (Word embedding will be covered later in the RNN part). Before using one-hot encoding, let's take a quick look at what one-hot encoding is.\n",
        "\n",
        "<img src=\"https://github.com/mikodham/CS470/blob/main/Lab1/Apr%2029/images/one_vs_we.png?raw=1\" width=1000>\n",
        "<br/><br/>\n",
        "\n",
        "#### One-hot encoding\n",
        "One-hot encoding is a vector representation of sentences. It has the **vector dimension as the size of the word set** and **1 is assigned to the index of the word to be expressed / 0 is assigned to the other index**. The detailed procedure of one-hot encoding is as follows.\n",
        "\n",
        "(1) Give each word an unique index.\n",
        "\n",
        "(2) 1 is assigned to the index of the word to be expressed, and 0 is assigned otherwise.\n",
        "\n",
        "<br/>\n",
        "I will explain this method with simple example.\n",
        "<br/>\n",
        "Let's assume that we have a word dictionary that contains 7 words, 'today' ,'I' ,'was' ,'studied' ,'happy' ,'math' ,'not'. We can map these words to integers 0-6. \n",
        "\n",
        "<img src=\"https://github.com/mikodham/CS470/blob/main/Lab1/Apr%2029/images/onehot.png?raw=1\" width=300>\n",
        "\n",
        "Now, we can represent sentences consisting of words from the dictionary. \n",
        "\n",
        "For example, a sentence 'I studied math today' can be represented as [0, 1, 3, 5] (not considering the order).\n",
        "If we make a vector that has the vector dimension as the size of the dictionary, we get a vector as below.\n",
        "\n",
        "<img src=\"https://github.com/mikodham/CS470/blob/main/Lab1/Apr%2029/images/empty.png?raw=1\" width=300>\n",
        "\n",
        "After assining 1 to the index of the words in the original list ([0, 1, 3, 5]), we get one-hot encoded vector as below.\n",
        "\n",
        "<img src=\"https://github.com/mikodham/CS470/blob/main/Lab1/Apr%2029/images/convert.png?raw=1\" width=300>"
      ]
    },
    {
      "cell_type": "markdown",
      "metadata": {
        "id": "lvnn4oHiLG6r"
      },
      "source": [
        "#### Limitation of One-hot encoding\n",
        "One-hot encoding has the disadvantage that if the number of words increases, the space required to store the vector increases too. If we have 10,000 words that we want to express, regardless of the length of the sentence to be expressed, a vector of length 10,000 is required. (even for a sentence that contains only one word.)\n",
        "\n",
        "Also, the one-hot vector encoding cannot express the similarity of words. Assume that we have 4 words 'wolf', 'dog', 'tiger', 'chair'. We can consider 'wolf', 'dog', 'tiger' have semantically similar context since they are all animals and 'chair' is less similar to the previous three words. In one-hot encoding, since inner-product similarity between two different words is always 0 and Euclidean distance between them is always $\\sqrt{2}$, there is no way to express the degree of similarity between words.\n",
        "\n",
        "Despite these shortcomings, one-hot encoding is easy to understand and use. Another reason for using the one-hot encding method is to check the overfitting problem in next practice. Therefore in this practice, we will use one-hot encoding.\n",
        "Let's first download the IMDB dataset:"
      ]
    },
    {
      "cell_type": "code",
      "metadata": {
        "id": "fe80Tj2TLG6r",
        "outputId": "0f7a5f2b-be93-429b-baca-80ca636c4bbc",
        "colab": {
          "base_uri": "https://localhost:8080/"
        }
      },
      "source": [
        "NUM_WORDS = 10000\n",
        "(train_data, train_labels), (test_data, test_labels) = tf.keras.datasets.imdb.load_data(num_words=NUM_WORDS)"
      ],
      "execution_count": 3,
      "outputs": [
        {
          "output_type": "stream",
          "text": [
            "<string>:6: VisibleDeprecationWarning: Creating an ndarray from ragged nested sequences (which is a list-or-tuple of lists-or-tuples-or ndarrays with different lengths or shapes) is deprecated. If you meant to do this, you must specify 'dtype=object' when creating the ndarray\n",
            "/usr/local/lib/python3.7/dist-packages/tensorflow/python/keras/datasets/imdb.py:159: VisibleDeprecationWarning: Creating an ndarray from ragged nested sequences (which is a list-or-tuple of lists-or-tuples-or ndarrays with different lengths or shapes) is deprecated. If you meant to do this, you must specify 'dtype=object' when creating the ndarray\n",
            "  x_train, y_train = np.array(xs[:idx]), np.array(labels[:idx])\n",
            "/usr/local/lib/python3.7/dist-packages/tensorflow/python/keras/datasets/imdb.py:160: VisibleDeprecationWarning: Creating an ndarray from ragged nested sequences (which is a list-or-tuple of lists-or-tuples-or ndarrays with different lengths or shapes) is deprecated. If you meant to do this, you must specify 'dtype=object' when creating the ndarray\n",
            "  x_test, y_test = np.array(xs[idx:]), np.array(labels[idx:])\n"
          ],
          "name": "stderr"
        }
      ]
    },
    {
      "cell_type": "markdown",
      "metadata": {
        "id": "tVhce0JgLG6s"
      },
      "source": [
        "The argument num_words=10000 keeps the top 10,000 most frequently occurring words in the training data. The rare words are discarded to keep the size of the data manageable."
      ]
    },
    {
      "cell_type": "markdown",
      "metadata": {
        "id": "-41S-X34LG6s"
      },
      "source": [
        "Let's take a moment to understand the format of the data."
      ]
    },
    {
      "cell_type": "code",
      "metadata": {
        "id": "Oytg_oazLG6s",
        "outputId": "5d045c98-0600-4fa2-a982-2f9b321bc777",
        "colab": {
          "base_uri": "https://localhost:8080/"
        }
      },
      "source": [
        "print(\"Training entries: {}, labels: {}\".format(len(train_data), len(train_labels)))\n",
        "print(\"Train data[0]: {}. \\nlabel[0]: {}\".format(train_data[0], train_labels[0]) ) #size of 10000\n",
        "# so initially, train data is a list of words with id=1 (I),14,22"
      ],
      "execution_count": 4,
      "outputs": [
        {
          "output_type": "stream",
          "text": [
            "Training entries: 25000, labels: 25000\n",
            "Train data[0]: [1, 14, 22, 16, 43, 530, 973, 1622, 1385, 65, 458, 4468, 66, 3941, 4, 173, 36, 256, 5, 25, 100, 43, 838, 112, 50, 670, 2, 9, 35, 480, 284, 5, 150, 4, 172, 112, 167, 2, 336, 385, 39, 4, 172, 4536, 1111, 17, 546, 38, 13, 447, 4, 192, 50, 16, 6, 147, 2025, 19, 14, 22, 4, 1920, 4613, 469, 4, 22, 71, 87, 12, 16, 43, 530, 38, 76, 15, 13, 1247, 4, 22, 17, 515, 17, 12, 16, 626, 18, 2, 5, 62, 386, 12, 8, 316, 8, 106, 5, 4, 2223, 5244, 16, 480, 66, 3785, 33, 4, 130, 12, 16, 38, 619, 5, 25, 124, 51, 36, 135, 48, 25, 1415, 33, 6, 22, 12, 215, 28, 77, 52, 5, 14, 407, 16, 82, 2, 8, 4, 107, 117, 5952, 15, 256, 4, 2, 7, 3766, 5, 723, 36, 71, 43, 530, 476, 26, 400, 317, 46, 7, 4, 2, 1029, 13, 104, 88, 4, 381, 15, 297, 98, 32, 2071, 56, 26, 141, 6, 194, 7486, 18, 4, 226, 22, 21, 134, 476, 26, 480, 5, 144, 30, 5535, 18, 51, 36, 28, 224, 92, 25, 104, 4, 226, 65, 16, 38, 1334, 88, 12, 16, 283, 5, 16, 4472, 113, 103, 32, 15, 16, 5345, 19, 178, 32]. \n",
            "label[0]: 1\n"
          ],
          "name": "stdout"
        }
      ]
    },
    {
      "cell_type": "markdown",
      "metadata": {
        "id": "QGJdqpE1LG6s"
      },
      "source": [
        "The dataset comes preprocessed: each example is an array of integers representing the words of the movie review. Each label is an integer value of either 0 or 1, where 0 is a negative review, and 1 is a positive review.\n",
        "\n",
        "From each data, we'll create an ont-hot encodering vector with a 10,000-dimension"
      ]
    },
    {
      "cell_type": "code",
      "metadata": {
        "id": "yQsEcP1ILG6s"
      },
      "source": [
        "def multi_hot_sequences(sequences, dimension):\n",
        "    # Create an all-zero matrix of shape (len(sequences), dimension)\n",
        "    results = np.zeros((len(sequences), dimension))\n",
        "    for i, word_indices in enumerate(sequences): \n",
        "        results[i, word_indices] = 1.0  # set specific indices of results[i] to 1s\n",
        "        # in this case, for each word_indices, set as one (I is one)\n",
        "    return results\n",
        "\n",
        "NUM_WORDS = 10000\n",
        "\n",
        "train_data = multi_hot_sequences(train_data, dimension=NUM_WORDS)\n",
        "test_data = multi_hot_sequences(test_data, dimension=NUM_WORDS)"
      ],
      "execution_count": 5,
      "outputs": []
    },
    {
      "cell_type": "code",
      "metadata": {
        "id": "zp9xA8Jbf8Cc",
        "outputId": "ea3a18e9-3b94-4814-9f34-aed2babc85c2",
        "colab": {
          "base_uri": "https://localhost:8080/"
        }
      },
      "source": [
        "# Interpretation\n",
        "a = np.zeros((3, 5))\n",
        "print(a)\n",
        "for i, word_indices in enumerate([[1,2,3,4,1],[1,3,4,2,1],[1,1,1,1,1]]): \n",
        "        print(i, word_indices)\n",
        "        a[i, word_indices] = 1.0  # set specific indices of results[i] to 1s\n",
        "print(a)"
      ],
      "execution_count": 6,
      "outputs": [
        {
          "output_type": "stream",
          "text": [
            "[[0. 0. 0. 0. 0.]\n",
            " [0. 0. 0. 0. 0.]\n",
            " [0. 0. 0. 0. 0.]]\n",
            "0 [1, 2, 3, 4, 1]\n",
            "1 [1, 3, 4, 2, 1]\n",
            "2 [1, 1, 1, 1, 1]\n",
            "[[0. 1. 1. 1. 1.]\n",
            " [0. 1. 1. 1. 1.]\n",
            " [0. 1. 0. 0. 0.]]\n"
          ],
          "name": "stdout"
        }
      ]
    },
    {
      "cell_type": "markdown",
      "metadata": {
        "id": "ItRTfyH2f7Iw"
      },
      "source": [
        ""
      ]
    },
    {
      "cell_type": "code",
      "metadata": {
        "id": "G6I6rMZeLG6t",
        "outputId": "e87dbdc4-7413-4070-fcde-e43c517716eb",
        "colab": {
          "base_uri": "https://localhost:8080/"
        }
      },
      "source": [
        "print(\"Train data[0]: {}. \\nlabel[0]: {}\".format(train_data[0], train_labels[0])) \n",
        "print(\"Train_data shape,\", train_data.shape)"
      ],
      "execution_count": 7,
      "outputs": [
        {
          "output_type": "stream",
          "text": [
            "Train data[0]: [0. 1. 1. ... 0. 0. 0.]. \n",
            "label[0]: 1\n",
            "Train_data shape, (25000, 10000)\n"
          ],
          "name": "stdout"
        }
      ]
    },
    {
      "cell_type": "code",
      "metadata": {
        "id": "4VPaplYELG6t",
        "outputId": "b974982c-4bde-4921-c1af-0d9526466ce7",
        "colab": {
          "base_uri": "https://localhost:8080/",
          "height": 282
        }
      },
      "source": [
        "plt.plot(train_data[0])"
      ],
      "execution_count": 8,
      "outputs": [
        {
          "output_type": "execute_result",
          "data": {
            "text/plain": [
              "[<matplotlib.lines.Line2D at 0x7f8297404810>]"
            ]
          },
          "metadata": {
            "tags": []
          },
          "execution_count": 8
        },
        {
          "output_type": "display_data",
          "data": {
            "image/png": "[encoded data removed]",
            "text/plain": [
              "<Figure size 432x288 with 1 Axes>"
            ]
          },
          "metadata": {
            "tags": [],
            "needs_background": "light"
          }
        }
      ]
    },
    {
      "cell_type": "markdown",
      "metadata": {
        "id": "Rwhh5av7LG6t"
      },
      "source": [
        "#### Build model\n",
        "\n",
        "Similar to previous model, we'll define a simple model using the [`tf.keras.layers.Dense`](https://www.tensorflow.org/versions/r2.0/api_docs/python/tf/keras/layers/Dense) layer."
      ]
    },
    {
      "cell_type": "code",
      "metadata": {
        "id": "3PgqAtaILG6t"
      },
      "source": [
        "# TODO: define a sequential model\n",
        "model = tf.keras.Sequential([\n",
        "    # TODO: add a first dense layer with 16 nodes applying ReLU activation function\n",
        "    tf.keras.layers.Dense(16,activation='relu',input_shape=(NUM_WORDS,)),\n",
        "    # TODO: add a second dense layer with 16 nodes applying ReLU activation function\n",
        "    tf.keras.layers.Dense(16, activation='relu'),  \n",
        "    # TODO: add a last dense layer with only 1 node applying Softmax activation function\n",
        "    tf.keras.layers.Dense(1, activation='sigmoid')\n",
        "])"
      ],
      "execution_count": 9,
      "outputs": []
    },
    {
      "cell_type": "code",
      "metadata": {
        "id": "wi8AOO6MLG6t",
        "outputId": "23a3ad02-a004-43cb-9a98-8769396e9e4a",
        "colab": {
          "base_uri": "https://localhost:8080/"
        }
      },
      "source": [
        "model.summary()"
      ],
      "execution_count": 10,
      "outputs": [
        {
          "output_type": "stream",
          "text": [
            "Model: \"sequential\"\n",
            "_________________________________________________________________\n",
            "Layer (type)                 Output Shape              Param #   \n",
            "=================================================================\n",
            "dense (Dense)                (None, 16)                160016    \n",
            "_________________________________________________________________\n",
            "dense_1 (Dense)              (None, 16)                272       \n",
            "_________________________________________________________________\n",
            "dense_2 (Dense)              (None, 1)                 17        \n",
            "=================================================================\n",
            "Total params: 160,305\n",
            "Trainable params: 160,305\n",
            "Non-trainable params: 0\n",
            "_________________________________________________________________\n"
          ],
          "name": "stdout"
        }
      ]
    },
    {
      "cell_type": "markdown",
      "metadata": {
        "id": "cKbdBj5TLG6t"
      },
      "source": [
        "#### Compile the model\n",
        "\n",
        "After defining the model structure, we configure the model such as optimizer, loss and metrics for training. We will use loss function as `binary_crossentropy` which is popular for binary classification problem."
      ]
    },
    {
      "cell_type": "code",
      "metadata": {
        "id": "CrcF5TJBLG6t"
      },
      "source": [
        "model.compile(optimizer='adam', \n",
        "              loss='binary_crossentropy',\n",
        "              metrics=['accuracy'])"
      ],
      "execution_count": 11,
      "outputs": []
    },
    {
      "cell_type": "markdown",
      "metadata": {
        "id": "lWfyCxa7LG6u"
      },
      "source": [
        "#### Create a validation set\n",
        "\n",
        "When training, we want to check the accuracy of the model on data it hasn't seen before. So we will create a **validation set** by setting apart 10,000 examples from the original training data. The reason that we do not use the testing set now is our goal is to develop and tune our model using only the training data and then use the test data just once to evaluate our accuracy. Splitting whole data into three sub-data (training/validation/test) is very common."
      ]
    },
    {
      "cell_type": "code",
      "metadata": {
        "id": "AndYjLbHLG6u",
        "outputId": "a7aed2cd-1810-4df0-f78c-d1b645aae51f",
        "colab": {
          "base_uri": "https://localhost:8080/"
        }
      },
      "source": [
        "# First 10,000 elements of train_data\n",
        "x_val = train_data[:10000]\n",
        "print(x_val.shape)\n",
        "\n",
        "# Rest elements of train_data\n",
        "partial_x_train = train_data[10000:]\n",
        "print(partial_x_train.shape)\n",
        "# First 10,000 elements of train_labels\n",
        "y_val = train_labels[:10000]\n",
        "\n",
        "# Rest elements of train_labels\n",
        "partial_y_train = train_labels[10000:]"
      ],
      "execution_count": 12,
      "outputs": [
        {
          "output_type": "stream",
          "text": [
            "(10000, 10000)\n",
            "(15000, 10000)\n"
          ],
          "name": "stdout"
        }
      ]
    },
    {
      "cell_type": "markdown",
      "metadata": {
        "id": "JOwYnRC5LG6u"
      },
      "source": [
        "#### Train the model\n",
        "\n",
        "Then, we'll start to train the model."
      ]
    },
    {
      "cell_type": "code",
      "metadata": {
        "id": "2VmkJVTrLG6u"
      },
      "source": [
        "# Define the batch size and the number of epochs to use during training\n",
        "BATCH_SIZE = 512\n",
        "EPOCHS = 20"
      ],
      "execution_count": 13,
      "outputs": []
    },
    {
      "cell_type": "code",
      "metadata": {
        "id": "7dkimvEtLG6u",
        "outputId": "2f5351ac-1fc7-434e-b42e-f007b84a6552",
        "colab": {
          "base_uri": "https://localhost:8080/"
        }
      },
      "source": [
        "# TODO: train the model using (train_images, train_labels). \n",
        "#       do not forget to set epochs and batch size as the parameters!\n",
        "model_history = model.fit(partial_x_train, #x\n",
        "                          partial_y_train, #y\n",
        "                          epochs=EPOCHS,\n",
        "                          batch_size= BATCH_SIZE,\n",
        "                          validation_data=(x_val, y_val),\n",
        "                          verbose=1)"
      ],
      "execution_count": 14,
      "outputs": [
        {
          "output_type": "stream",
          "text": [
            "Epoch 1/20\n",
            "30/30 [==============================] - 2s 60ms/step - loss: 0.6165 - accuracy: 0.6755 - val_loss: 0.4002 - val_accuracy: 0.8610\n",
            "Epoch 2/20\n",
            "30/30 [==============================] - 1s 37ms/step - loss: 0.3253 - accuracy: 0.9033 - val_loss: 0.3034 - val_accuracy: 0.8848\n",
            "Epoch 3/20\n",
            "30/30 [==============================] - 1s 36ms/step - loss: 0.2156 - accuracy: 0.9359 - val_loss: 0.2820 - val_accuracy: 0.8887\n",
            "Epoch 4/20\n",
            "30/30 [==============================] - 1s 36ms/step - loss: 0.1632 - accuracy: 0.9499 - val_loss: 0.2784 - val_accuracy: 0.8885\n",
            "Epoch 5/20\n",
            "30/30 [==============================] - 1s 37ms/step - loss: 0.1253 - accuracy: 0.9672 - val_loss: 0.2922 - val_accuracy: 0.8858\n",
            "Epoch 6/20\n",
            "30/30 [==============================] - 1s 37ms/step - loss: 0.1004 - accuracy: 0.9756 - val_loss: 0.3091 - val_accuracy: 0.8818\n",
            "Epoch 7/20\n",
            "30/30 [==============================] - 1s 38ms/step - loss: 0.0812 - accuracy: 0.9823 - val_loss: 0.3223 - val_accuracy: 0.8811\n",
            "Epoch 8/20\n",
            "30/30 [==============================] - 1s 37ms/step - loss: 0.0640 - accuracy: 0.9884 - val_loss: 0.3431 - val_accuracy: 0.8814\n",
            "Epoch 9/20\n",
            "30/30 [==============================] - 1s 37ms/step - loss: 0.0512 - accuracy: 0.9919 - val_loss: 0.3669 - val_accuracy: 0.8796\n",
            "Epoch 10/20\n",
            "30/30 [==============================] - 1s 37ms/step - loss: 0.0427 - accuracy: 0.9934 - val_loss: 0.3910 - val_accuracy: 0.8773\n",
            "Epoch 11/20\n",
            "30/30 [==============================] - 1s 36ms/step - loss: 0.0329 - accuracy: 0.9964 - val_loss: 0.4151 - val_accuracy: 0.8751\n",
            "Epoch 12/20\n",
            "30/30 [==============================] - 1s 36ms/step - loss: 0.0262 - accuracy: 0.9980 - val_loss: 0.4397 - val_accuracy: 0.8739\n",
            "Epoch 13/20\n",
            "30/30 [==============================] - 1s 37ms/step - loss: 0.0222 - accuracy: 0.9990 - val_loss: 0.4646 - val_accuracy: 0.8718\n",
            "Epoch 14/20\n",
            "30/30 [==============================] - 1s 37ms/step - loss: 0.0174 - accuracy: 0.9993 - val_loss: 0.4869 - val_accuracy: 0.8706\n",
            "Epoch 15/20\n",
            "30/30 [==============================] - 1s 37ms/step - loss: 0.0151 - accuracy: 0.9996 - val_loss: 0.5114 - val_accuracy: 0.8704\n",
            "Epoch 16/20\n",
            "30/30 [==============================] - 1s 37ms/step - loss: 0.0124 - accuracy: 0.9998 - val_loss: 0.5320 - val_accuracy: 0.8690\n",
            "Epoch 17/20\n",
            "30/30 [==============================] - 1s 37ms/step - loss: 0.0100 - accuracy: 0.9998 - val_loss: 0.5537 - val_accuracy: 0.8682\n",
            "Epoch 18/20\n",
            "30/30 [==============================] - 1s 37ms/step - loss: 0.0077 - accuracy: 0.9999 - val_loss: 0.5727 - val_accuracy: 0.8677\n",
            "Epoch 19/20\n",
            "30/30 [==============================] - 1s 38ms/step - loss: 0.0070 - accuracy: 0.9997 - val_loss: 0.5931 - val_accuracy: 0.8678\n",
            "Epoch 20/20\n",
            "30/30 [==============================] - 1s 38ms/step - loss: 0.0056 - accuracy: 0.9999 - val_loss: 0.6080 - val_accuracy: 0.8676\n"
          ],
          "name": "stdout"
        }
      ]
    },
    {
      "cell_type": "markdown",
      "metadata": {
        "id": "3u0hKmB1LG6u"
      },
      "source": [
        "With this approach our model reaches a validation accuracy of around 88% (note the model is overfitting, training accuracy is significantly higher)."
      ]
    },
    {
      "cell_type": "markdown",
      "metadata": {
        "id": "Ie7IL5tHLG6u"
      },
      "source": [
        "#### Evaluate the model\n",
        "And let's see how the model performs. Two values will be returned, loss (a number that represents our error, lower values are better) and accuracy (higher values are better)."
      ]
    },
    {
      "cell_type": "code",
      "metadata": {
        "id": "IzvtecE8LG6u",
        "outputId": "d10044a6-475f-448f-a711-c2ade9456cb4",
        "colab": {
          "base_uri": "https://localhost:8080/"
        }
      },
      "source": [
        "results = model.evaluate(test_data, test_labels, verbose=0)\n",
        "#verbose: 0, 1, or 2. Verbosity mode. 0 = silent, 1 = progress bar, 2 = one line per epoch.\n",
        "\n",
        "print(results)"
      ],
      "execution_count": 15,
      "outputs": [
        {
          "output_type": "stream",
          "text": [
            "[0.6526783108711243, 0.8561199903488159]\n"
          ],
          "name": "stdout"
        }
      ]
    },
    {
      "cell_type": "markdown",
      "metadata": {
        "id": "P7p9nst5LG6v"
      },
      "source": [
        "This fairly naive approach achieves an accuracy of about 85%."
      ]
    },
    {
      "cell_type": "markdown",
      "metadata": {
        "id": "yQEQcvaSLG6v"
      },
      "source": [
        "#### Plotting network performance trend\n",
        "Again let's plot the trend of loss and accuracy of our model."
      ]
    },
    {
      "cell_type": "code",
      "metadata": {
        "id": "i8K4PDb0LG6v",
        "outputId": "36426377-c1ce-4d45-9c1c-8adfd7c69560",
        "colab": {
          "base_uri": "https://localhost:8080/"
        }
      },
      "source": [
        "history_dict = model_history.history #from mode.fit\n",
        "history_dict.keys()"
      ],
      "execution_count": 16,
      "outputs": [
        {
          "output_type": "execute_result",
          "data": {
            "text/plain": [
              "dict_keys(['loss', 'accuracy', 'val_loss', 'val_accuracy'])"
            ]
          },
          "metadata": {
            "tags": []
          },
          "execution_count": 16
        }
      ]
    },
    {
      "cell_type": "code",
      "metadata": {
        "id": "ZbFcdvMYLG6v",
        "outputId": "75ee4de0-e576-47f4-9427-fc983bc4d326",
        "colab": {
          "base_uri": "https://localhost:8080/",
          "height": 1000
        }
      },
      "source": [
        "history_dict = model_history.history\n",
        "\n",
        "acc = history_dict['accuracy']\n",
        "val_acc = history_dict['val_accuracy']\n",
        "loss = history_dict['loss']\n",
        "val_loss = history_dict['val_loss']\n",
        "\n",
        "epochs = range(1, len(acc) + 1)\n",
        "\n",
        "plt.figure(figsize=(12,9))\n",
        "plt.plot(epochs, loss, 'bo', label='Training loss')\n",
        "plt.plot(epochs, val_loss, 'b', label='Validation loss')\n",
        "plt.title('Training and validation loss')\n",
        "plt.xlabel('Epochs')\n",
        "plt.ylabel('Loss')\n",
        "plt.legend()\n",
        "plt.show()\n",
        "\n",
        "plt.figure(figsize=(12,9))\n",
        "plt.plot(epochs, acc, 'bo', label='Training acc')\n",
        "plt.plot(epochs, val_acc, 'b', label='Validation acc',color='green')\n",
        "plt.title('Training and validation accuracy')\n",
        "plt.xlabel('Epochs')\n",
        "plt.ylabel('Accuracy')\n",
        "plt.legend(loc='lower right')\n",
        "plt.ylim((0.5,1))\n",
        "plt.show()"
      ],
      "execution_count": 18,
      "outputs": [
        {
          "output_type": "display_data",
          "data": {
            "image/png": "[encoded data removed]",
            "text/plain": [
              "<Figure size 864x648 with 1 Axes>"
            ]
          },
          "metadata": {
            "tags": [],
            "needs_background": "light"
          }
        },
        {
          "output_type": "display_data",
          "data": {
            "image/png": "[encoded data removed]",
            "text/plain": [
              "<Figure size 864x648 with 1 Axes>"
            ]
          },
          "metadata": {
            "tags": [],
            "needs_background": "light"
          }
        }
      ]
    },
    {
      "cell_type": "markdown",
      "metadata": {
        "id": "8UG_pVULLG6v"
      },
      "source": [
        "In this plot, the dots represent the training loss and accuracy, and the solid lines are the validation loss and accuracy.\n",
        "\n",
        "Notice that the training loss decreases with each epoch and the training accuracy increases with each epoch. This is expected result when using a gradient descent optimization—based method. It will minimize the loss function value on every iteration.\n",
        "\n",
        "However, this isn't the case for the validation loss and accuracy. Validation accuracy seems to peak after about very few epochs and validation loss goes up after that point. This is an example of **_overfitting_: the model performs better on the training data than it does on data it has never seen before.** After this point, the model over-optimized and learned representations specific to the training data that do not generalize to test data.\n",
        "\n",
        "To cope with this situation, we can prevent overfitting by simply stopping the training after few epochs. And in the next practice, we will learn some techniques to prevent overfitting and make model with generality."
      ]
    }
  ]
}